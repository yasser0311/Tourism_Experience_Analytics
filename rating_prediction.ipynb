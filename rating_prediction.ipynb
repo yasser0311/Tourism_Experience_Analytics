{
 "cells": [
  {
   "cell_type": "markdown",
   "metadata": {},
   "source": [
    "# ***Regression: Predicting Attraction Ratings***"
   ]
  },
  {
   "cell_type": "markdown",
   "metadata": {},
   "source": [
    "This notebook handles:\n",
    " 1. Preparing data for rating prediction\n",
    " 2. Training regression models\n",
    " 3. Evaluating model performance\n",
    " 4. Saving the model pipeline for deployment"
   ]
  },
  {
   "cell_type": "markdown",
   "metadata": {},
   "source": [
    "## **1. Data Preparation**"
   ]
  },
  {
   "cell_type": "code",
   "execution_count": 1,
   "metadata": {},
   "outputs": [
    {
     "name": "stdout",
     "output_type": "stream",
     "text": [
      "Loading preprocessed data...\n",
      "\n",
      "Preparing features and target...\n",
      "Splitting data into train/test sets...\n",
      "Scaling features...\n",
      "\n",
      "Data preparation complete!\n",
      "Training set shape: (42337, 33)\n",
      "Test set shape: (10585, 33)\n"
     ]
    }
   ],
   "source": [
    "import pandas as pd\n",
    "from sklearn.model_selection import train_test_split\n",
    "from sklearn.preprocessing import StandardScaler\n",
    "\n",
    "# Load preprocessed data\n",
    "print(\"Loading preprocessed data...\")\n",
    "modeling_df = pd.read_csv('preprocessed_tourism_data.csv')\n",
    "\n",
    "# Features and target\n",
    "print(\"\\nPreparing features and target...\")\n",
    "X_reg = modeling_df.drop(['Rating', *[col for col in modeling_df.columns if 'VisitMode_y_' in col]], axis=1)\n",
    "y_reg = modeling_df['Rating']\n",
    "\n",
    "# Train-test split\n",
    "print(\"Splitting data into train/test sets...\")\n",
    "X_train_reg, X_test_reg, y_train_reg, y_test_reg = train_test_split(\n",
    "    X_reg, y_reg, test_size=0.2, random_state=42\n",
    ")\n",
    "\n",
    "# Scale features\n",
    "print(\"Scaling features...\")\n",
    "scaler = StandardScaler()\n",
    "X_train_reg_scaled = scaler.fit_transform(X_train_reg)\n",
    "X_test_reg_scaled = scaler.transform(X_test_reg)\n",
    "\n",
    "print(\"\\nData preparation complete!\")\n",
    "print(f\"Training set shape: {X_train_reg_scaled.shape}\")\n",
    "print(f\"Test set shape: {X_test_reg_scaled.shape}\")\n"
   ]
  },
  {
   "cell_type": "markdown",
   "metadata": {},
   "source": [
    "## **2. Model Training**"
   ]
  },
  {
   "cell_type": "code",
   "execution_count": 2,
   "metadata": {},
   "outputs": [
    {
     "name": "stdout",
     "output_type": "stream",
     "text": [
      "Training models...\n",
      "\n",
      "Training Random Forest...\n",
      "Random Forest trained - RMSE: 0.1397, R2: 0.6712\n",
      "\n",
      "Training XGBoost...\n",
      "XGBoost trained - RMSE: 0.1356, R2: 0.6902\n",
      "\n",
      "Training Gradient Boosting...\n",
      "Gradient Boosting trained - RMSE: 0.1236, R2: 0.7428\n",
      "\n",
      "Model Performance Comparison:\n"
     ]
    },
    {
     "data": {
      "text/html": [
       "<div>\n",
       "<style scoped>\n",
       "    .dataframe tbody tr th:only-of-type {\n",
       "        vertical-align: middle;\n",
       "    }\n",
       "\n",
       "    .dataframe tbody tr th {\n",
       "        vertical-align: top;\n",
       "    }\n",
       "\n",
       "    .dataframe thead th {\n",
       "        text-align: right;\n",
       "    }\n",
       "</style>\n",
       "<table border=\"1\" class=\"dataframe\">\n",
       "  <thead>\n",
       "    <tr style=\"text-align: right;\">\n",
       "      <th></th>\n",
       "      <th>RMSE</th>\n",
       "      <th>R2</th>\n",
       "    </tr>\n",
       "  </thead>\n",
       "  <tbody>\n",
       "    <tr>\n",
       "      <th>Random Forest</th>\n",
       "      <td>0.139736</td>\n",
       "      <td>0.671182</td>\n",
       "    </tr>\n",
       "    <tr>\n",
       "      <th>XGBoost</th>\n",
       "      <td>0.135628</td>\n",
       "      <td>0.690232</td>\n",
       "    </tr>\n",
       "    <tr>\n",
       "      <th>Gradient Boosting</th>\n",
       "      <td>0.123584</td>\n",
       "      <td>0.742805</td>\n",
       "    </tr>\n",
       "  </tbody>\n",
       "</table>\n",
       "</div>"
      ],
      "text/plain": [
       "                       RMSE        R2\n",
       "Random Forest      0.139736  0.671182\n",
       "XGBoost            0.135628  0.690232\n",
       "Gradient Boosting  0.123584  0.742805"
      ]
     },
     "execution_count": 2,
     "metadata": {},
     "output_type": "execute_result"
    }
   ],
   "source": [
    "from sklearn.ensemble import RandomForestRegressor, GradientBoostingRegressor\n",
    "from xgboost import XGBRegressor\n",
    "from sklearn.metrics import mean_squared_error, r2_score\n",
    "\n",
    "# Initialize models\n",
    "models = {\n",
    "    \"Random Forest\": RandomForestRegressor(random_state=42),\n",
    "    \"XGBoost\": XGBRegressor(random_state=42),\n",
    "    \"Gradient Boosting\": GradientBoostingRegressor(random_state=42)\n",
    "}\n",
    "\n",
    "# Train and evaluate models\n",
    "print(\"Training models...\")\n",
    "results = {}\n",
    "for name, model in models.items():\n",
    "    print(f\"\\nTraining {name}...\")\n",
    "    model.fit(X_train_reg_scaled, y_train_reg)\n",
    "    y_pred = model.predict(X_test_reg_scaled)\n",
    "    \n",
    "    # Calculate metrics\n",
    "    results[name] = {\n",
    "        \"RMSE\": mean_squared_error(y_test_reg, y_pred) ** 0.5,\n",
    "        \"R2\": r2_score(y_test_reg, y_pred)\n",
    "    }\n",
    "    print(f\"{name} trained - RMSE: {results[name]['RMSE']:.4f}, R2: {results[name]['R2']:.4f}\")\n",
    "\n",
    "# Display results\n",
    "print(\"\\nModel Performance Comparison:\")\n",
    "pd.DataFrame(results).T\n"
   ]
  },
  {
   "cell_type": "markdown",
   "metadata": {},
   "source": [
    "## **3. Saving Model Pipeline**"
   ]
  },
  {
   "cell_type": "code",
   "execution_count": 3,
   "metadata": {},
   "outputs": [
    {
     "name": "stdout",
     "output_type": "stream",
     "text": [
      "Saving model pipeline components...\n",
      "\n",
      "All components saved successfully:\n",
      "- Model: tourism_models/rating_prediction/model.pkl\n",
      "- Scaler: tourism_models/rating_prediction/scaler.pkl\n",
      "- Feature names: tourism_models/rating_prediction/feature_names.pkl\n",
      "- Feature template: tourism_models/rating_prediction/feature_template.pkl\n"
     ]
    }
   ],
   "source": [
    "import joblib\n",
    "import os\n",
    "\n",
    "# Create directory if it doesn't exist\n",
    "os.makedirs('tourism_models/rating_prediction', exist_ok=True)\n",
    "\n",
    "# Save components\n",
    "print(\"Saving model pipeline components...\")\n",
    "joblib.dump(models[\"Gradient Boosting\"], 'tourism_models/rating_prediction/model.pkl')\n",
    "joblib.dump(scaler, 'tourism_models/rating_prediction/scaler.pkl')\n",
    "\n",
    "# Save feature information\n",
    "feature_names = X_train_reg.columns.tolist()\n",
    "joblib.dump(feature_names, 'tourism_models/rating_prediction/feature_names.pkl')\n",
    "\n",
    "# Save feature template\n",
    "feature_template = {name: 0 for name in feature_names}\n",
    "joblib.dump(feature_template, 'tourism_models/rating_prediction/feature_template.pkl')\n",
    "\n",
    "print(\"\\nAll components saved successfully:\")\n",
    "print(\"- Model: tourism_models/rating_prediction/model.pkl\")\n",
    "print(\"- Scaler: tourism_models/rating_prediction/scaler.pkl\")\n",
    "print(\"- Feature names: tourism_models/rating_prediction/feature_names.pkl\")\n",
    "print(\"- Feature template: tourism_models/rating_prediction/feature_template.pkl\")"
   ]
  },
  {
   "cell_type": "markdown",
   "metadata": {},
   "source": [
    "## **4. Prediction Verification**"
   ]
  },
  {
   "cell_type": "code",
   "execution_count": 4,
   "metadata": {},
   "outputs": [
    {
     "name": "stdout",
     "output_type": "stream",
     "text": [
      "\n",
      "Testing prediction function...\n",
      "Warning: Feature 'AttractionType_Museum' not in original training data\n",
      "Warning: Feature 'ContinentId_Europe' not in original training data\n",
      "Predicted Rating: 1.02\n"
     ]
    }
   ],
   "source": [
    "def predict_rating(input_features):\n",
    "    \"\"\"\n",
    "    Predict attraction rating from input features\n",
    "    Args:\n",
    "        input_features: dict with available features (can be partial)\n",
    "    Returns:\n",
    "        Predicted rating (1-5)\n",
    "    \"\"\"\n",
    "    # Load all required components\n",
    "    model = joblib.load('tourism_models/rating_prediction/model.pkl')\n",
    "    scaler = joblib.load('tourism_models/rating_prediction/scaler.pkl')\n",
    "    feature_names = joblib.load('tourism_models/rating_prediction/feature_names.pkl')\n",
    "    template = joblib.load('tourism_models/rating_prediction/feature_template.pkl')\n",
    "    \n",
    "    # Update template with provided features\n",
    "    for key in input_features:\n",
    "        if key in template:\n",
    "            template[key] = input_features[key]\n",
    "        else:\n",
    "            print(f\"Warning: Feature '{key}' not in original training data\")\n",
    "    \n",
    "    # Create DataFrame with correct column order\n",
    "    input_df = pd.DataFrame([template], columns=feature_names)\n",
    "    \n",
    "    # Scale and predict\n",
    "    scaled_input = scaler.transform(input_df)\n",
    "    return max(1, min(5, model.predict(scaled_input)[0]))\n",
    "\n",
    "# Test prediction\n",
    "print(\"\\nTesting prediction function...\")\n",
    "test_sample = {\n",
    "    'AvgRating': 4.5,\n",
    "    'TotalVisits': 10,\n",
    "    'RatingStd': 0.5,\n",
    "    'UniqueAttractions': 5,\n",
    "    'VisitModeProp_Solo': 0.3,\n",
    "    'VisitModeProp_Family': 0.7,\n",
    "    'AttractionType_Museum': 1,\n",
    "    'ContinentId_Europe': 1,\n",
    "    'Country_freq_encoded': 0.05,\n",
    "    'VisitYear': 2023,\n",
    "    'VisitMonth': 6,\n",
    "    'IsWeekend': 0\n",
    "}\n",
    "\n",
    "try:\n",
    "    predicted_rating = predict_rating(test_sample)\n",
    "    print(f\"Predicted Rating: {predicted_rating:.2f}\")\n",
    "except Exception as e:\n",
    "    print(f\"Prediction failed: {str(e)}\")\n"
   ]
  },
  {
   "cell_type": "markdown",
   "metadata": {},
   "source": [
    "## **5. Feature Importance Analysis**"
   ]
  },
  {
   "cell_type": "code",
   "execution_count": 5,
   "metadata": {},
   "outputs": [
    {
     "data": {
      "text/plain": [
       "<Figure size 1200x800 with 0 Axes>"
      ]
     },
     "metadata": {},
     "output_type": "display_data"
    },
    {
     "data": {
      "image/png": "[encoded data removed]",
      "text/plain": [
       "<Figure size 640x480 with 1 Axes>"
      ]
     },
     "metadata": {},
     "output_type": "display_data"
    }
   ],
   "source": [
    "import matplotlib.pyplot as plt\n",
    "\n",
    "# Load the best model\n",
    "best_model = joblib.load('tourism_models/rating_prediction/model.pkl')\n",
    "\n",
    "# Get feature importances\n",
    "importances = best_model.feature_importances_\n",
    "feature_importance = pd.DataFrame({\n",
    "    'Feature': X_train_reg.columns,\n",
    "    'Importance': importances\n",
    "}).sort_values('Importance', ascending=False)\n",
    "\n",
    "# Plot top 20 features\n",
    "plt.figure(figsize=(12, 8))\n",
    "feature_importance.head(20).plot.bar(x='Feature', y='Importance')\n",
    "plt.title('Top 20 Feature Importances')\n",
    "plt.ylabel('Importance Score')\n",
    "plt.xticks(rotation=45, ha='right')\n",
    "plt.tight_layout()\n",
    "plt.show()"
   ]
  },
  {
   "cell_type": "markdown",
   "metadata": {},
   "source": [
    "## **6. Final Model Evaluation**"
   ]
  },
  {
   "cell_type": "code",
   "execution_count": 6,
   "metadata": {},
   "outputs": [
    {
     "name": "stdout",
     "output_type": "stream",
     "text": [
      "Running cross-validation...\n",
      "\n",
      "Cross-validation RMSE scores:\n",
      "['0.1221', '0.1210', '0.1227', '0.1209', '0.1209']\n",
      "Mean RMSE: 0.1215 (±0.0007)\n",
      "\n",
      "Final Test Set Performance:\n",
      "RMSE: 0.1236\n",
      "R2: 0.7428\n"
     ]
    }
   ],
   "source": [
    "from sklearn.model_selection import cross_val_score\n",
    "\n",
    "# Cross-validation on best model\n",
    "print(\"Running cross-validation...\")\n",
    "cv_scores = cross_val_score(\n",
    "    best_model,\n",
    "    X_train_reg_scaled,\n",
    "    y_train_reg,\n",
    "    cv=5,\n",
    "    scoring='neg_root_mean_squared_error'\n",
    ")\n",
    "\n",
    "print(\"\\nCross-validation RMSE scores:\")\n",
    "print([f\"{score:.4f}\" for score in -cv_scores])\n",
    "print(f\"Mean RMSE: {-cv_scores.mean():.4f} (±{cv_scores.std():.4f})\")\n",
    "\n",
    "# Final test set evaluation\n",
    "y_pred_final = best_model.predict(X_test_reg_scaled)\n",
    "final_rmse = mean_squared_error(y_test_reg, y_pred_final) ** 0.5\n",
    "final_r2 = r2_score(y_test_reg, y_pred_final)\n",
    "\n",
    "print(\"\\nFinal Test Set Performance:\")\n",
    "print(f\"RMSE: {final_rmse:.4f}\")\n",
    "print(f\"R2: {final_r2:.4f}\")"
   ]
  }
 ],
 "metadata": {
  "kernelspec": {
   "display_name": ".venv",
   "language": "python",
   "name": "python3"
  },
  "language_info": {
   "codemirror_mode": {
    "name": "ipython",
    "version": 3
   },
   "file_extension": ".py",
   "mimetype": "text/x-python",
   "name": "python",
   "nbconvert_exporter": "python",
   "pygments_lexer": "ipython3",
   "version": "3.10.11"
  }
 },
 "nbformat": 4,
 "nbformat_minor": 2
}
