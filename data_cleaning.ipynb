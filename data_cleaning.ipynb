{
 "cells": [
  {
   "cell_type": "markdown",
   "metadata": {},
   "source": [
    "# ***Data Loading and Cleaning***"
   ]
  },
  {
   "cell_type": "code",
   "execution_count": 1,
   "metadata": {},
   "outputs": [
    {
     "name": "stdout",
     "output_type": "stream",
     "text": [
      "Data loaded successfully!\n",
      "User data shape: (33530, 5)\n",
      "Attraction data shape: (17, 2)\n",
      "Visit data shape: (6, 2)\n",
      "Transaction data shape: (52930, 7)\n",
      "Region data shape: (22, 3)\n",
      "Item data shape: (30, 5)\n",
      "Country data shape: (165, 3)\n",
      "Continent data shape: (6, 2)\n",
      "City data shape: (9143, 3)\n"
     ]
    }
   ],
   "source": [
    "import pandas as pd\n",
    "\n",
    "# Load datasets\n",
    "user_data = pd.read_csv('D:\\\\Projects\\\\Guvi_Project4\\\\Datasets\\\\user_data.csv')  # User visit history\n",
    "attraction_data = pd.read_csv('D:\\\\Projects\\\\Guvi_Project4\\\\Datasets\\\\attraction_type.csv')  # Attraction features\n",
    "visit_data = pd.read_csv('D:\\\\Projects\\\\Guvi_Project4\\\\Datasets\\\\visit_mode.csv')  # User visit counts\n",
    "transaction_data = pd.read_csv('D:\\\\Projects\\\\Guvi_Project4\\\\Datasets\\\\transaction_data.csv')  # User transactions\n",
    "region_data = pd.read_csv('D:\\\\Projects\\\\Guvi_Project4\\\\Datasets\\\\region_data.csv')  # Region information\n",
    "item_data = pd.read_csv('D:\\\\Projects\\\\Guvi_Project4\\\\Datasets\\\\item_data.csv')  # Item features\n",
    "country_data = pd.read_csv('D:\\\\Projects\\\\Guvi_Project4\\\\Datasets\\\\country_data.csv')  # Country information\n",
    "continent_data = pd.read_csv('D:\\\\Projects\\\\Guvi_Project4\\\\Datasets\\\\continent_data.csv')  # Continent information\n",
    "city_data = pd.read_csv('D:\\\\Projects\\\\Guvi_Project4\\\\Datasets\\\\city_data.csv')  # City information\n",
    "\n",
    "print(\"Data loaded successfully!\")\n",
    "print(\"User data shape:\", user_data.shape)\n",
    "print(\"Attraction data shape:\", attraction_data.shape)   \n",
    "print(\"Visit data shape:\", visit_data.shape)\n",
    "print(\"Transaction data shape:\", transaction_data.shape)\n",
    "print(\"Region data shape:\", region_data.shape)\n",
    "print(\"Item data shape:\", item_data.shape)\n",
    "print(\"Country data shape:\", country_data.shape)\n",
    "print(\"Continent data shape:\", continent_data.shape)\n",
    "print(\"City data shape:\", city_data.shape)\n"
   ]
  },
  {
   "cell_type": "code",
   "execution_count": 2,
   "metadata": {},
   "outputs": [
    {
     "name": "stdout",
     "output_type": "stream",
     "text": [
      "Columns in our Dataset\n",
      "User data columns: Index(['UserId', 'ContinentId', 'RegionId', 'CountryId', 'CityId'], dtype='object')\n",
      "Attraction data columns: Index(['AttractionTypeId', 'AttractionType'], dtype='object')\n",
      "Visit data columns: Index(['VisitModeId', 'VisitMode'], dtype='object')\n",
      "Transaction data columns: Index(['TransactionId', 'UserId', 'VisitYear', 'VisitMonth', 'VisitMode',\n",
      "       'AttractionId', 'Rating'],\n",
      "      dtype='object')\n",
      "Region data columns: Index(['Region', 'RegionId', 'ContinentId'], dtype='object')\n",
      "Item data columns: Index(['AttractionId', 'AttractionCityId', 'AttractionTypeId', 'Attraction',\n",
      "       'AttractionAddress'],\n",
      "      dtype='object')\n",
      "Country data columns: Index(['CountryId', 'Country', 'RegionId'], dtype='object')\n",
      "Continent data columns: Index(['ContinentId', 'Continent'], dtype='object')\n",
      "City data columns: Index(['CityId', 'CityName', 'CountryId'], dtype='object')\n"
     ]
    }
   ],
   "source": [
    "print(\"Columns in our Dataset\")\n",
    "print(\"User data columns:\", user_data.columns)\n",
    "print(\"Attraction data columns:\", attraction_data.columns)\n",
    "print(\"Visit data columns:\", visit_data.columns) \n",
    "print(\"Transaction data columns:\", transaction_data.columns)\n",
    "print(\"Region data columns:\", region_data.columns)\n",
    "print(\"Item data columns:\", item_data.columns)\n",
    "print(\"Country data columns:\", country_data.columns) \n",
    "print(\"Continent data columns:\", continent_data.columns)\n",
    "print(\"City data columns:\", city_data.columns)\n"
   ]
  },
  {
   "cell_type": "code",
   "execution_count": 3,
   "metadata": {},
   "outputs": [
    {
     "name": "stdout",
     "output_type": "stream",
     "text": [
      "UserId         0\n",
      "ContinentId    0\n",
      "RegionId       0\n",
      "CountryId      0\n",
      "CityId         4\n",
      "dtype: int64\n",
      "AttractionTypeId    0\n",
      "AttractionType      0\n",
      "dtype: int64\n",
      "VisitModeId    0\n",
      "VisitMode      0\n",
      "dtype: int64\n",
      "TransactionId    0\n",
      "UserId           0\n",
      "VisitYear        0\n",
      "VisitMonth       0\n",
      "VisitMode        0\n",
      "AttractionId     0\n",
      "Rating           0\n",
      "dtype: int64\n",
      "Region         0\n",
      "RegionId       0\n",
      "ContinentId    0\n",
      "dtype: int64\n",
      "AttractionId         0\n",
      "AttractionCityId     0\n",
      "AttractionTypeId     0\n",
      "Attraction           0\n",
      "AttractionAddress    0\n",
      "dtype: int64\n",
      "CountryId    0\n",
      "Country      0\n",
      "RegionId     0\n",
      "dtype: int64\n",
      "ContinentId    0\n",
      "Continent      0\n",
      "dtype: int64\n",
      "CityId       0\n",
      "CityName     1\n",
      "CountryId    0\n",
      "dtype: int64\n"
     ]
    }
   ],
   "source": [
    "# Check for missing values in 'User' data\n",
    "print(user_data.isnull().sum())\n",
    "# Check for missing values in 'Attraction' data\n",
    "print(attraction_data.isnull().sum())\n",
    "# Check for missing values in 'Visit' data\n",
    "print(visit_data.isnull().sum())\n",
    "# Check for missing values in 'Transaction' data\n",
    "print(transaction_data.isnull().sum())\n",
    "# Check for missing values in 'Region' data\n",
    "print(region_data.isnull().sum())\n",
    "# Check for missing values in 'Item' data\n",
    "print(item_data.isnull().sum())\n",
    "# Check for missing values in 'Country' data\n",
    "print(country_data.isnull().sum())\n",
    "# Check for missing values in 'Continent' data\n",
    "print(continent_data.isnull().sum())\n",
    "# Check for missing values in 'City' data\n",
    "print(city_data.isnull().sum())\n"
   ]
  },
  {
   "cell_type": "markdown",
   "metadata": {},
   "source": [
    "# ***1. Handling Missing Values***"
   ]
  },
  {
   "cell_type": "markdown",
   "metadata": {},
   "source": [
    "a. User Dataset\n"
   ]
  },
  {
   "cell_type": "code",
   "execution_count": 4,
   "metadata": {},
   "outputs": [
    {
     "name": "stdout",
     "output_type": "stream",
     "text": [
      "Missing values in user data before cleaning:\n",
      "UserId         0\n",
      "ContinentId    0\n",
      "RegionId       0\n",
      "CountryId      0\n",
      "CityId         4\n",
      "dtype: int64\n"
     ]
    }
   ],
   "source": [
    "# Before handling\n",
    "print(\"Missing values in user data before cleaning:\")\n",
    "print(user_data.isna().sum())"
   ]
  },
  {
   "cell_type": "code",
   "execution_count": 5,
   "metadata": {},
   "outputs": [],
   "source": [
    "# Drop rows with missing CityId (only 4 out of 33,530)\n",
    "user_data.dropna(subset=['CityId'], inplace=True)"
   ]
  },
  {
   "cell_type": "code",
   "execution_count": 6,
   "metadata": {},
   "outputs": [
    {
     "name": "stdout",
     "output_type": "stream",
     "text": [
      "\n",
      "Missing values in user data after cleaning:\n",
      "UserId         0\n",
      "ContinentId    0\n",
      "RegionId       0\n",
      "CountryId      0\n",
      "CityId         0\n",
      "dtype: int64\n",
      "User data shape after cleaning: (33526, 5)\n"
     ]
    }
   ],
   "source": [
    "# Verify\n",
    "print(\"\\nMissing values in user data after cleaning:\")\n",
    "print(user_data.isna().sum())\n",
    "print(f\"User data shape after cleaning: {user_data.shape}\")"
   ]
  },
  {
   "cell_type": "markdown",
   "metadata": {},
   "source": [
    "b. City Dataset"
   ]
  },
  {
   "cell_type": "code",
   "execution_count": 7,
   "metadata": {},
   "outputs": [
    {
     "name": "stdout",
     "output_type": "stream",
     "text": [
      "Missing values in city data before cleaning:\n",
      "CityId       0\n",
      "CityName     1\n",
      "CountryId    0\n",
      "dtype: int64\n"
     ]
    }
   ],
   "source": [
    "# Before handling\n",
    "print(\"Missing values in city data before cleaning:\")\n",
    "print(city_data.isna().sum())"
   ]
  },
  {
   "cell_type": "code",
   "execution_count": 8,
   "metadata": {},
   "outputs": [],
   "source": [
    "# Drop the row with missing CityName\n",
    "city_data.dropna(subset=['CityName'], inplace=True)"
   ]
  },
  {
   "cell_type": "code",
   "execution_count": 9,
   "metadata": {},
   "outputs": [
    {
     "name": "stdout",
     "output_type": "stream",
     "text": [
      "Missing values in city data after cleaning:\n",
      "CityId       0\n",
      "CityName     0\n",
      "CountryId    0\n",
      "dtype: int64\n",
      "City data shape after cleaning: (9142, 3)\n"
     ]
    }
   ],
   "source": [
    "# Verify\n",
    "print(\"Missing values in city data after cleaning:\")\n",
    "print(city_data.isna().sum())\n",
    "print(f\"City data shape after cleaning: {city_data.shape}\")"
   ]
  },
  {
   "cell_type": "markdown",
   "metadata": {},
   "source": [
    "# ***2. Standardizing Categorical Variables***"
   ]
  },
  {
   "cell_type": "markdown",
   "metadata": {},
   "source": [
    "a. VisitMode\n"
   ]
  },
  {
   "cell_type": "code",
   "execution_count": 10,
   "metadata": {},
   "outputs": [
    {
     "name": "stdout",
     "output_type": "stream",
     "text": [
      "\n",
      "VisitMode values before standardization:\n",
      "VisitMode\n",
      "-           1\n",
      "Business    1\n",
      "Couples     1\n",
      "Family      1\n",
      "Friends     1\n",
      "Solo        1\n",
      "Name: count, dtype: int64\n"
     ]
    }
   ],
   "source": [
    "# Before standardization\n",
    "print(\"\\nVisitMode values before standardization:\")\n",
    "print(visit_data['VisitMode'].value_counts())"
   ]
  },
  {
   "cell_type": "code",
   "execution_count": 11,
   "metadata": {},
   "outputs": [],
   "source": [
    "# Standardize (strip whitespace and capitalize first letters)\n",
    "visit_data['VisitMode'] = visit_data['VisitMode'].str.strip().str.title()"
   ]
  },
  {
   "cell_type": "code",
   "execution_count": 12,
   "metadata": {},
   "outputs": [
    {
     "name": "stdout",
     "output_type": "stream",
     "text": [
      "\n",
      "VisitMode values after standardization:\n",
      "VisitMode\n",
      "-           1\n",
      "Business    1\n",
      "Couples     1\n",
      "Family      1\n",
      "Friends     1\n",
      "Solo        1\n",
      "Name: count, dtype: int64\n"
     ]
    }
   ],
   "source": [
    "# Verify\n",
    "print(\"\\nVisitMode values after standardization:\")\n",
    "print(visit_data['VisitMode'].value_counts())"
   ]
  },
  {
   "cell_type": "markdown",
   "metadata": {},
   "source": [
    "b. AttractionType\n"
   ]
  },
  {
   "cell_type": "code",
   "execution_count": 13,
   "metadata": {},
   "outputs": [
    {
     "name": "stdout",
     "output_type": "stream",
     "text": [
      "\n",
      "AttractionType values before standardization:\n",
      "AttractionType\n",
      "Ancient Ruins                     1\n",
      "Ballets                           1\n",
      "Beaches                           1\n",
      "Caverns & Caves                   1\n",
      "Flea & Street Markets             1\n",
      "Historic Sites                    1\n",
      "History Museums                   1\n",
      "National Parks                    1\n",
      "Nature & Wildlife Areas           1\n",
      "Neighborhoods                     1\n",
      "Points of Interest & Landmarks    1\n",
      "Religious Sites                   1\n",
      "Spas                              1\n",
      "Speciality Museums                1\n",
      "Volcanos                          1\n",
      "Water Parks                       1\n",
      "Waterfalls                        1\n",
      "Name: count, dtype: int64\n"
     ]
    }
   ],
   "source": [
    "# Before standardization\n",
    "print(\"\\nAttractionType values before standardization:\")\n",
    "print(attraction_data['AttractionType'].value_counts())"
   ]
  },
  {
   "cell_type": "code",
   "execution_count": 14,
   "metadata": {},
   "outputs": [],
   "source": [
    "# Standardize\n",
    "attraction_data['AttractionType'] = attraction_data['AttractionType'].str.strip().str.title()"
   ]
  },
  {
   "cell_type": "code",
   "execution_count": 15,
   "metadata": {},
   "outputs": [
    {
     "name": "stdout",
     "output_type": "stream",
     "text": [
      "\n",
      "AttractionType values after standardization:\n",
      "AttractionType\n",
      "Ancient Ruins                     1\n",
      "Ballets                           1\n",
      "Beaches                           1\n",
      "Caverns & Caves                   1\n",
      "Flea & Street Markets             1\n",
      "Historic Sites                    1\n",
      "History Museums                   1\n",
      "National Parks                    1\n",
      "Nature & Wildlife Areas           1\n",
      "Neighborhoods                     1\n",
      "Points Of Interest & Landmarks    1\n",
      "Religious Sites                   1\n",
      "Spas                              1\n",
      "Speciality Museums                1\n",
      "Volcanos                          1\n",
      "Water Parks                       1\n",
      "Waterfalls                        1\n",
      "Name: count, dtype: int64\n"
     ]
    }
   ],
   "source": [
    "# Verify\n",
    "print(\"\\nAttractionType values after standardization:\")\n",
    "print(attraction_data['AttractionType'].value_counts())"
   ]
  },
  {
   "cell_type": "markdown",
   "metadata": {},
   "source": [
    "c. City Names\n"
   ]
  },
  {
   "cell_type": "code",
   "execution_count": 16,
   "metadata": {},
   "outputs": [
    {
     "name": "stdout",
     "output_type": "stream",
     "text": [
      "['-' 'Douala' 'South Region' ... 'Yeovil' 'Yorkshire' 'Sanaa']\n"
     ]
    }
   ],
   "source": [
    "# Unique city names\n",
    "print(city_data['CityName'].unique())"
   ]
  },
  {
   "cell_type": "code",
   "execution_count": 17,
   "metadata": {},
   "outputs": [
    {
     "name": "stdout",
     "output_type": "stream",
     "text": [
      "\n",
      "Sample city names before cleaning:\n",
      "4893    Ourimbah\n",
      "8594     Margate\n",
      "5086     Seaford\n",
      "7674      Buinen\n",
      "7155       Roses\n",
      "Name: CityName, dtype: object\n",
      "\n",
      "Sample city names after cleaning:\n",
      "9002      Twickenham\n",
      "355     Comox Valley\n",
      "4296       Glenorchy\n",
      "6988           Braga\n",
      "4963       Plainland\n",
      "Name: CityName, dtype: object\n"
     ]
    }
   ],
   "source": [
    "# Create mapping for known discrepancies\n",
    "city_name_mapping = {\n",
    "    'New York City': 'New York',\n",
    "    'NYC': 'New York',\n",
    "    'San Fran': 'San Francisco',\n",
    "    'S.F.': 'San Francisco',\n",
    "    # Add more as needed\n",
    "    '-': None,  # Replace missing values with None (can be dropped later if needed)\n",
    "    'Los Ang': 'Los Angeles',\n",
    "    'L.A.': 'Los Angeles',\n",
    "    'Chicago, Il': 'Chicago',\n",
    "    'Chi-Town': 'Chicago',\n",
    "    'Vegas': 'Las Vegas',\n",
    "    'D.C.': 'Washington DC',\n",
    "    'Wash D.C.': 'Washington DC',\n",
    "    'Philly': 'Philadelphia',\n",
    "    'Nola': 'New Orleans',\n",
    "    'Saint Louis': 'St. Louis',\n",
    "    'St Louis': 'St. Louis',\n",
    "    'Ft Worth': 'Fort Worth',\n",
    "    'Ft. Worth': 'Fort Worth',\n",
    "    'San Antone': 'San Antonio',\n",
    "    'Atl': 'Atlanta',\n",
    "    'H-Town': 'Houston',\n",
    "    'Big D': 'Dallas',\n",
    "    'Motor City': 'Detroit',\n",
    "    'Beantown': 'Boston',\n",
    "}\n",
    "\n",
    "# Before cleaning\n",
    "print(\"\\nSample city names before cleaning:\")\n",
    "print(city_data['CityName'].sample(5))\n",
    "\n",
    "# Clean city names\n",
    "city_data['CityName'] = (\n",
    "    city_data['CityName']\n",
    "    .str.strip()\n",
    "    .str.title()\n",
    "    .replace(city_name_mapping)\n",
    ")\n",
    "\n",
    "# Verify\n",
    "print(\"\\nSample city names after cleaning:\")\n",
    "print(city_data['CityName'].sample(5))"
   ]
  },
  {
   "cell_type": "markdown",
   "metadata": {},
   "source": [
    "# ***3. Standardizing Date Format***"
   ]
  },
  {
   "cell_type": "code",
   "execution_count": 18,
   "metadata": {},
   "outputs": [
    {
     "name": "stdout",
     "output_type": "stream",
     "text": [
      "\n",
      "Transaction date columns before standardization:\n",
      "   VisitYear  VisitMonth\n",
      "0       2022          10\n",
      "1       2022          10\n",
      "2       2022          10\n",
      "3       2022          10\n",
      "4       2022          10\n"
     ]
    }
   ],
   "source": [
    "# Before conversion\n",
    "print(\"\\nTransaction date columns before standardization:\")\n",
    "print(transaction_data[['VisitYear', 'VisitMonth']].head())"
   ]
  },
  {
   "cell_type": "code",
   "execution_count": 19,
   "metadata": {},
   "outputs": [],
   "source": [
    "# Create proper date column (adding to existing DataFrame)\n",
    "transaction_data['VisitDate'] = pd.to_datetime(\n",
    "    transaction_data['VisitYear'].astype(str) + '-' + \n",
    "    transaction_data['VisitMonth'].astype(str) + '-01'\n",
    ")"
   ]
  },
  {
   "cell_type": "code",
   "execution_count": 20,
   "metadata": {},
   "outputs": [
    {
     "name": "stdout",
     "output_type": "stream",
     "text": [
      "\n",
      "Transaction date columns after standardization:\n",
      "   VisitYear  VisitMonth  VisitDate\n",
      "0       2022          10 2022-10-01\n",
      "1       2022          10 2022-10-01\n",
      "2       2022          10 2022-10-01\n",
      "3       2022          10 2022-10-01\n",
      "4       2022          10 2022-10-01\n"
     ]
    }
   ],
   "source": [
    "# Verify\n",
    "print(\"\\nTransaction date columns after standardization:\")\n",
    "print(transaction_data[['VisitYear', 'VisitMonth', 'VisitDate']].head())"
   ]
  },
  {
   "cell_type": "markdown",
   "metadata": {},
   "source": [
    "# ***4. Handling Rating Outliers***"
   ]
  },
  {
   "cell_type": "code",
   "execution_count": 21,
   "metadata": {},
   "outputs": [
    {
     "name": "stdout",
     "output_type": "stream",
     "text": [
      "\n",
      "Rating statistics before cleaning:\n",
      "count    52930.000000\n",
      "mean         4.157699\n",
      "std          0.970543\n",
      "min          1.000000\n",
      "25%          4.000000\n",
      "50%          4.000000\n",
      "75%          5.000000\n",
      "max          5.000000\n",
      "Name: Rating, dtype: float64\n"
     ]
    }
   ],
   "source": [
    "# Before handling\n",
    "print(\"\\nRating statistics before cleaning:\")\n",
    "print(transaction_data['Rating'].describe())\n"
   ]
  },
  {
   "cell_type": "code",
   "execution_count": 24,
   "metadata": {},
   "outputs": [
    {
     "data": {
      "image/png": "[encoded data removed]",
      "text/plain": [
       "<Figure size 800x400 with 1 Axes>"
      ]
     },
     "metadata": {},
     "output_type": "display_data"
    }
   ],
   "source": [
    "# Visualize distribution\n",
    "import matplotlib.pyplot as plt\n",
    "plt.figure(figsize=(8, 4))\n",
    "plt.hist(transaction_data['Rating'], bins=10)\n",
    "plt.title('Rating Distribution Before Cleaning')\n",
    "plt.show()"
   ]
  },
  {
   "cell_type": "code",
   "execution_count": 26,
   "metadata": {},
   "outputs": [
    {
     "name": "stdout",
     "output_type": "stream",
     "text": [
      "\n",
      "Removed 0 invalid ratings\n",
      "Rating statistics after cleaning:\n",
      "count    52930.000000\n",
      "mean         4.157699\n",
      "std          0.970543\n",
      "min          1.000000\n",
      "25%          4.000000\n",
      "50%          4.000000\n",
      "75%          5.000000\n",
      "max          5.000000\n",
      "Name: Rating, dtype: float64\n"
     ]
    }
   ],
   "source": [
    "# Remove invalid ratings (assuming scale is 1-5)\n",
    "initial_count = len(transaction_data)\n",
    "transaction_data = transaction_data[transaction_data['Rating'].between(1, 5)]\n",
    "removed_count = initial_count - len(transaction_data)\n",
    "\n",
    "print(f\"\\nRemoved {removed_count} invalid ratings\")\n",
    "print(\"Rating statistics after cleaning:\")\n",
    "print(transaction_data['Rating'].describe())"
   ]
  },
  {
   "cell_type": "code",
   "execution_count": 27,
   "metadata": {},
   "outputs": [
    {
     "data": {
      "image/png": "[encoded data removed]",
      "text/plain": [
       "<Figure size 800x400 with 1 Axes>"
      ]
     },
     "metadata": {},
     "output_type": "display_data"
    }
   ],
   "source": [
    "# Visualize cleaned distribution\n",
    "plt.figure(figsize=(8, 4))\n",
    "plt.hist(transaction_data['Rating'], bins=10)\n",
    "plt.title('Rating Distribution After Cleaning')\n",
    "plt.show()"
   ]
  },
  {
   "cell_type": "code",
   "execution_count": 28,
   "metadata": {},
   "outputs": [
    {
     "name": "stdout",
     "output_type": "stream",
     "text": [
      "\n",
      "=== Final Shapes ===\n",
      "User data shape: (33526, 5)\n",
      "City data shape: (9142, 3)\n",
      "Transaction data shape: (52930, 8)\n",
      "Visit data shape: (6, 2)\n",
      "Attraction data shape: (17, 2)\n",
      "\n",
      "=== Final Missing Values ===\n",
      "User data:\n",
      " UserId         0\n",
      "ContinentId    0\n",
      "RegionId       0\n",
      "CountryId      0\n",
      "CityId         0\n",
      "dtype: int64\n",
      "\n",
      "City data:\n",
      " CityId       0\n",
      "CityName     8\n",
      "CountryId    0\n",
      "dtype: int64\n",
      "\n",
      "Transaction data:\n",
      " TransactionId    0\n",
      "UserId           0\n",
      "VisitYear        0\n",
      "VisitMonth       0\n",
      "VisitMode        0\n",
      "AttractionId     0\n",
      "Rating           0\n",
      "VisitDate        0\n",
      "dtype: int64\n",
      "\n",
      "=== Sample Cleaned Values ===\n",
      "Sample VisitModes: ['-' 'Business' 'Couples' 'Family' 'Friends']\n",
      "Sample AttractionTypes: ['Ancient Ruins' 'Ballets' 'Beaches' 'Caverns & Caves'\n",
      " 'Flea & Street Markets']\n",
      "Sample CityNames: ['Lambersart' 'Kuna' 'Trinidad And Tobago' 'Texas' 'Rueil-Malmaison']\n",
      "Sample VisitDates: ['2019-09' '2015-10' '2017-03']\n",
      "Sample Ratings: [4 3 5 2 5]\n"
     ]
    }
   ],
   "source": [
    "#Final Verification\n",
    "print(\"\\n=== Final Shapes ===\")\n",
    "print(\"User data shape:\", user_data.shape)\n",
    "print(\"City data shape:\", city_data.shape)\n",
    "print(\"Transaction data shape:\", transaction_data.shape)\n",
    "print(\"Visit data shape:\", visit_data.shape)\n",
    "print(\"Attraction data shape:\", attraction_data.shape)\n",
    "\n",
    "print(\"\\n=== Final Missing Values ===\")\n",
    "print(\"User data:\\n\", user_data.isna().sum())\n",
    "print(\"\\nCity data:\\n\", city_data.isna().sum())\n",
    "print(\"\\nTransaction data:\\n\", transaction_data.isna().sum())\n",
    "\n",
    "print(\"\\n=== Sample Cleaned Values ===\")\n",
    "print(\"Sample VisitModes:\", visit_data['VisitMode'].unique()[:5])\n",
    "print(\"Sample AttractionTypes:\", attraction_data['AttractionType'].unique()[:5])\n",
    "print(\"Sample CityNames:\", city_data['CityName'].sample(5).values)\n",
    "print(\"Sample VisitDates:\", transaction_data['VisitDate'].dt.strftime('%Y-%m').sample(3).values)\n",
    "print(\"Sample Ratings:\", transaction_data['Rating'].sample(5).values)"
   ]
  },
  {
   "cell_type": "code",
   "execution_count": 29,
   "metadata": {},
   "outputs": [
    {
     "name": "stdout",
     "output_type": "stream",
     "text": [
      "\n",
      "Rows with missing CityName:\n",
      "      CityId CityName  CountryId\n",
      "0          0     None          0\n",
      "639      639     None         51\n",
      "2662    2662     None         93\n",
      "3003    3003     None        101\n",
      "3304    3304     None        103\n",
      "\n",
      "Missing values in city data after final cleaning:\n",
      "CityId       0\n",
      "CityName     0\n",
      "CountryId    0\n",
      "dtype: int64\n",
      "City data shape after final cleaning: (9134, 3)\n"
     ]
    }
   ],
   "source": [
    "# Check the rows with missing CityName\n",
    "print(\"\\nRows with missing CityName:\")\n",
    "print(city_data[city_data['CityName'].isna()].head())\n",
    "\n",
    "# Since we can't determine these cities, we'll drop them (8 out of 9,142 is negligible)\n",
    "city_data.dropna(subset=['CityName'], inplace=True)\n",
    "\n",
    "# Verify\n",
    "print(\"\\nMissing values in city data after final cleaning:\")\n",
    "print(city_data.isna().sum())\n",
    "print(f\"City data shape after final cleaning: {city_data.shape}\")"
   ]
  },
  {
   "cell_type": "code",
   "execution_count": 30,
   "metadata": {},
   "outputs": [
    {
     "name": "stdout",
     "output_type": "stream",
     "text": [
      "\n",
      "Cities with potential encoding issues:\n",
      "[\"N'Djamena\" 'Cape Town S. Africa' 'Curaã§Ao' 'St Martin / St Maarten'\n",
      " 'Fort St. John' \"Lion'S Head\" 'Montrã©Al' 'St. Albert' 'St. Catharines'\n",
      " \"St. John'S\" \"Morne-A-L'Eau\" \"Chicago'S North Shore\" \"Coeur D'Alene\"\n",
      " 'Denver29' \"D'Iberville\" 'Firefly2280' 'Ft. Lauderdale' \"Hale'Iwa\"\n",
      " \"Ka'Anapali\" 'Lake Tahoe (California)' 'Los Angeles/ Usa' 'Mt. Airy'\n",
      " 'N. California' \"Oahu'S North Shore\" \"O'Fallon\" 'St. Louis'\n",
      " 'St. Augustine' 'St. Croix' 'St. George' 'St. Lucia' 'St. Paul'\n",
      " 'St. Petersburg' 'U.S.' \"Arraial D'Ajuda\" 'Puxi (Downtown Shanghai)'\n",
      " \"Xi'An\" 'Sai Kung N.T.' 'Shinjuku 3 Chome' \"Da'An\" \"Beit She'An\"\n",
      " \"Ra'Anana\" 'Sohar. Oman' \"Cox'S Bazar\" 'Andheri West/Versova'\n",
      " 'Bengaluru (Bangalore)' 'Chennai (Madras)' 'Ghä\\x81Tkopar'\n",
      " 'Gurugram (Gurgaon)' 'Kochi (Cochin)' 'Kodagu (Coorg)'\n",
      " 'Kolkata (Calcutta)' 'Mysuru (Mysore)' 'Navi Mumbai (New Mumbai)'\n",
      " 'New Delhi (Delhi)' 'Ooty (Udhagamandalam)'\n",
      " 'Thiruvananthapuram (Trivandrum)' 'Patan (Lalitpur)' 'Kab. Pasuruan'\n",
      " 'Ubud .Bali' 'Yangon (Rangoon)' 'Bangkokstaymonth=7' 'Hanoi/Vietnam'\n",
      " 'Phuong 8' 'Australia / Guyana' 'Brisbane. Asutralia' 'Chillingham. Nsw.'\n",
      " 'Geelong & Bellarine' 'Gold Coast. Australia'\n",
      " 'Langwarrin South. Victoria. Australia' 'Malaysia/Singapore/Australia'\n",
      " 'Melbourne.' 'N.E. Vic' 'N.S.W' 'N.S.W. Australia' \"O'Halloran Hill\"\n",
      " 'Perth (Tasmania)' 'Perth. Wa' 'St. Kilda' 'Star707'\n",
      " 'Sunshine Coast Qld.' 'Sydney/Melbourne' 'Western Australia/Dunsbrough'\n",
      " 'Noumã©A' 'Hamilton & Waikato Region' \"Hawke'S Bay Region\"\n",
      " \"Vava'U Islands\" 'Bali&Austria' 'Bad Dã¼Rkheim' 'Baden-Wã¼Rttemberg'\n",
      " 'Biberach (Riss)' 'Dã¼Sseldorf' 'Frankfurt (Oder)' 'Halle (Saale)'\n",
      " 'Kã¶Nigs Wusterhausen' 'Kã¶Nigstein Im Taunus' 'Mã¶Nchengladbach'\n",
      " 'Mã¼Nchen' 'Meersburg (Bodensee)' 'Oberursel (Taunus)' 'Osnabrã¼Ck'\n",
      " 'Tã¼Bingen' 'Krakã³W' 'Delã©Mont' 'Lantsch/Lenz' 'Neuchã¢Tel'\n",
      " 'St. Gallen' 'Stã¤Fa' 'Brã¸Nshã¸J' 'Jyvã¤Skylã¤' 'Reykjavã\\xadK' 'Bodã¸'\n",
      " 'Tromsã¸' 'Eslã¶V' 'Gã¤Vle' 'Hã¤Rnã¶Sand' 'Jã¶Nkã¶Ping' 'Linkã¶Ping'\n",
      " 'Linköping' 'Luleã¥' 'Malmã¶' 'Norrkã¶Ping' 'Norrtã¤Lje' 'Tã¤By' 'Umeã¥'\n",
      " \"Capo D'Orlando\" 'Ciriã¨' \"Cortina D'Ampezzo\" 'Birgu (Vittoriosa)'\n",
      " \"Saint Julian'S\" \"St. Paul'S Bay\" 'El Fondã³ De Les Neus' \"L'Escala\"\n",
      " 'Santa Eulalia Del Rã\\xadO' 'Ieper (Ypres)' 'Province De Liã¨Ge'\n",
      " \"French Riviera - Cote D'Azur\" 'Le Touquet Â€“ Paris-Plage'\n",
      " \"L'Isle-Sur-La-Sorgue\" 'Megã¨Ve' 'Paris 12' 'Sarlat-La-Canã©Da'\n",
      " 'St.-Thibault-Des-Vignes' \"Val D'Isã¨Re\" \"Val D'Oise\" 'Hengelo (Ov)'\n",
      " \"Bishop'S Waltham\" 'Bromley Kent.Uk' 'Bury St. Edmunds' 'Bury. Lancs'\n",
      " 'England/Corfu' \"King'S Lynn\" \"Lytham St Anne'S\" 'N. Wales' 'St. Albans'\n",
      " 'St. Helier' 'St. Neots' 'Surrey/Uk' \"Taff'S Well\" 'U.K.'\n",
      " 'Windermere U.K']\n",
      "\n",
      "Sample cleaned city names:\n",
      "['Scarborough' 'St Helier' 'Sandakan Division' 'Cairo Governorate'\n",
      " 'Varnamo']\n"
     ]
    }
   ],
   "source": [
    "# Check for special characters in city names\n",
    "print(\"\\nCities with potential encoding issues:\")\n",
    "print(city_data[city_data['CityName'].str.contains('[^a-zA-Z \\-]', regex=True)]['CityName'].unique())\n",
    "\n",
    "# Clean special characters (example for common cases)\n",
    "city_data['CityName'] = city_data['CityName'].str.normalize('NFKD').str.encode('ascii', errors='ignore').str.decode('utf-8')\n",
    "city_data['CityName'] = city_data['CityName'].str.replace(r'[^\\w\\s-]', '', regex=True)\n",
    "\n",
    "# Verify\n",
    "print(\"\\nSample cleaned city names:\")\n",
    "print(city_data['CityName'].sample(5).values)"
   ]
  },
  {
   "cell_type": "code",
   "execution_count": 31,
   "metadata": {},
   "outputs": [
    {
     "name": "stdout",
     "output_type": "stream",
     "text": [
      "\n",
      "=== User Data Quality ===\n",
      "Shape: (33526, 5)\n",
      "Missing values:\n",
      "UserId         0\n",
      "ContinentId    0\n",
      "RegionId       0\n",
      "CountryId      0\n",
      "CityId         0\n",
      "dtype: int64\n",
      "\n",
      "=== City Data Quality ===\n",
      "Shape: (9134, 3)\n",
      "Missing values:\n",
      "CityId       0\n",
      "CityName     0\n",
      "CountryId    0\n",
      "dtype: int64\n",
      "\n",
      "=== Transaction Data Quality ===\n",
      "Shape: (52930, 8)\n",
      "Missing values:\n",
      "TransactionId    0\n",
      "UserId           0\n",
      "VisitYear        0\n",
      "VisitMonth       0\n",
      "VisitMode        0\n",
      "AttractionId     0\n",
      "Rating           0\n",
      "VisitDate        0\n",
      "dtype: int64\n",
      "\n",
      "Rating stats:\n",
      "count    52930.000000\n",
      "mean         4.157699\n",
      "std          0.970543\n",
      "min          1.000000\n",
      "25%          4.000000\n",
      "50%          4.000000\n",
      "75%          5.000000\n",
      "max          5.000000\n",
      "Name: Rating, dtype: float64\n",
      "\n",
      "Date range:\n",
      "2013-01-01 00:00:00 to 2022-10-01 00:00:00\n",
      "\n",
      "=== Visit Data Quality ===\n",
      "Shape: (6, 2)\n",
      "Missing values:\n",
      "VisitModeId    0\n",
      "VisitMode      0\n",
      "dtype: int64\n",
      "\n",
      "=== Attraction Data Quality ===\n",
      "Shape: (17, 2)\n",
      "Missing values:\n",
      "AttractionTypeId    0\n",
      "AttractionType      0\n",
      "dtype: int64\n"
     ]
    }
   ],
   "source": [
    "def check_data_quality(df, name):\n",
    "    print(f\"\\n=== {name} Data Quality ===\")\n",
    "    print(f\"Shape: {df.shape}\")\n",
    "    print(\"Missing values:\")\n",
    "    print(df.isna().sum())\n",
    "    if 'Rating' in df.columns:\n",
    "        print(\"\\nRating stats:\")\n",
    "        print(df['Rating'].describe())\n",
    "    if 'VisitDate' in df.columns:\n",
    "        print(\"\\nDate range:\")\n",
    "        print(df['VisitDate'].min(), \"to\", df['VisitDate'].max())\n",
    "\n",
    "check_data_quality(user_data, \"User\")\n",
    "check_data_quality(city_data, \"City\")\n",
    "check_data_quality(transaction_data, \"Transaction\")\n",
    "check_data_quality(visit_data, \"Visit\")\n",
    "check_data_quality(attraction_data, \"Attraction\")"
   ]
  },
  {
   "cell_type": "markdown",
   "metadata": {},
   "source": [
    "**City Name Cleaning:**  \n",
    "Some city names still have abbreviations (e.g., \"St.\" vs \"Saint\")  \n",
    "\n",
    "Some contain regions/states (e.g., \"Chillingham. Nsw.\")"
   ]
  },
  {
   "cell_type": "code",
   "execution_count": 32,
   "metadata": {},
   "outputs": [
    {
     "name": "stdout",
     "output_type": "stream",
     "text": [
      "\n",
      "Improved city names sample:\n",
      "['Saint Philip Parish' 'Saint Martin Saint Maarten' 'East Saint Paul'\n",
      " 'Fort Saint John' 'Saint-Damase' 'Sainte-Anne-Des-Plaines' 'Sainte-Marie'\n",
      " 'Saint Albert' 'Saint Catharines' 'Saint JohnS']\n"
     ]
    }
   ],
   "source": [
    "# Optional additional cleaning for city names\n",
    "city_data['CityName'] = (\n",
    "    city_data['CityName']\n",
    "    .str.replace(r'\\bSt\\b\\.?', 'Saint', regex=True)  # Replace St. with Saint\n",
    "    .str.replace(r'\\.', '', regex=True)  # Remove periods\n",
    "    .str.replace(r'\\s+', ' ', regex=True)  # Remove extra spaces\n",
    "    .str.strip()\n",
    ")\n",
    "\n",
    "# Verify improvements\n",
    "print(\"\\nImproved city names sample:\")\n",
    "print(city_data[city_data['CityName'].str.contains('Saint|St\\b', regex=True)]['CityName'].unique()[:10])"
   ]
  },
  {
   "cell_type": "markdown",
   "metadata": {},
   "source": [
    "Transaction Data Verification:\n",
    "\n"
   ]
  },
  {
   "cell_type": "code",
   "execution_count": 33,
   "metadata": {},
   "outputs": [
    {
     "name": "stdout",
     "output_type": "stream",
     "text": [
      "\n",
      "User IDs in transactions but not in user data: {17595, 56972, 67461, 7175}\n",
      "City IDs in user but not in city data: set()\n",
      "Attraction IDs in transactions but not in item data: set()\n"
     ]
    }
   ],
   "source": [
    "# Verify referential integrity\n",
    "print(\"\\nUser IDs in transactions but not in user data:\", \n",
    "      set(transaction_data['UserId']) - set(user_data['UserId']))\n",
    "print(\"City IDs in user but not in city data:\", \n",
    "      set(user_data['CityId']) - set(city_data['CityId']))\n",
    "print(\"Attraction IDs in transactions but not in item data:\", \n",
    "      set(transaction_data['AttractionId']) - set(item_data['AttractionId']))"
   ]
  },
  {
   "cell_type": "code",
   "execution_count": 34,
   "metadata": {},
   "outputs": [
    {
     "name": "stdout",
     "output_type": "stream",
     "text": [
      "Number of orphaned transactions: 8\n",
      "Remaining orphaned UserIDs after cleaning: set()\n"
     ]
    }
   ],
   "source": [
    "# Count affected transactions\n",
    "orphaned_transactions = transaction_data[transaction_data['UserId'].isin({17595, 56972, 67461, 7175})]\n",
    "print(f\"Number of orphaned transactions: {len(orphaned_transactions)}\")\n",
    "\n",
    "# Remove them (typically small percentage)\n",
    "transaction_data = transaction_data[~transaction_data['UserId'].isin({17595, 56972, 67461, 7175})]\n",
    "\n",
    "# Verify\n",
    "remaining_orphans = set(transaction_data['UserId']) - set(user_data['UserId'])\n",
    "print(\"Remaining orphaned UserIDs after cleaning:\", remaining_orphans)"
   ]
  },
  {
   "cell_type": "code",
   "execution_count": 35,
   "metadata": {},
   "outputs": [
    {
     "name": "stdout",
     "output_type": "stream",
     "text": [
      "Original transaction count: 52922\n",
      "Transaction count after cleaning: 52922\n",
      "Removed 8 transactions\n",
      "Remaining orphaned UserIDs: set()\n"
     ]
    }
   ],
   "source": [
    "# Count before removal\n",
    "print(f\"Original transaction count: {len(transaction_data)}\")\n",
    "\n",
    "# Remove orphaned transactions\n",
    "transaction_data = transaction_data[~transaction_data['UserId'].isin({17595, 56972, 67461, 7175})]\n",
    "\n",
    "# Count after removal\n",
    "print(f\"Transaction count after cleaning: {len(transaction_data)}\")\n",
    "print(f\"Removed {len(orphaned_transactions)} transactions\")\n",
    "\n",
    "# Final verification\n",
    "orphan_check = set(transaction_data['UserId']) - set(user_data['UserId'])\n",
    "print(\"Remaining orphaned UserIDs:\", orphan_check)"
   ]
  },
  {
   "cell_type": "markdown",
   "metadata": {},
   "source": [
    "# ***Feature Engineering and Preprocessing***"
   ]
  },
  {
   "cell_type": "markdown",
   "metadata": {},
   "source": [
    "**1. Encoding Categorical Variables**"
   ]
  },
  {
   "cell_type": "markdown",
   "metadata": {},
   "source": [
    "a. VisitMode Encoding"
   ]
  },
  {
   "cell_type": "code",
   "execution_count": 37,
   "metadata": {},
   "outputs": [
    {
     "name": "stdout",
     "output_type": "stream",
     "text": [
      "VisitMode\n",
      "-           1\n",
      "Business    1\n",
      "Couples     1\n",
      "Family      1\n",
      "Friends     1\n",
      "Solo        1\n",
      "Name: count, dtype: int64\n",
      "   VisitModeId  VisitMode_-  VisitMode_Business  VisitMode_Couples  \\\n",
      "0            0         True               False              False   \n",
      "1            1        False                True              False   \n",
      "2            2        False               False               True   \n",
      "3            3        False               False              False   \n",
      "4            4        False               False              False   \n",
      "\n",
      "   VisitMode_Family  VisitMode_Friends  VisitMode_Solo  \n",
      "0             False              False           False  \n",
      "1             False              False           False  \n",
      "2             False              False           False  \n",
      "3              True              False           False  \n",
      "4             False               True           False  \n"
     ]
    }
   ],
   "source": [
    "# Check current VisitMode values\n",
    "print(visit_data['VisitMode'].value_counts())\n",
    "\n",
    "# One-hot encode VisitMode\n",
    "visit_encoded = pd.get_dummies(visit_data, columns=['VisitMode'], prefix='VisitMode')\n",
    "print(visit_encoded.head())"
   ]
  },
  {
   "cell_type": "markdown",
   "metadata": {},
   "source": [
    "b. Continent/Country Encoding\n"
   ]
  },
  {
   "cell_type": "code",
   "execution_count": 38,
   "metadata": {},
   "outputs": [],
   "source": [
    "# For high-cardinality categories like Country, use target encoding or frequency encoding\n",
    "# Frequency encoding example for Country\n",
    "country_counts = user_data['CountryId'].value_counts(normalize=True)\n",
    "user_data['Country_freq_encoded'] = user_data['CountryId'].map(country_counts)\n",
    "\n",
    "# For Continent (low cardinality), one-hot encode\n",
    "continent_encoded = pd.get_dummies(user_data['ContinentId'].astype('category'), prefix='Continent')\n",
    "user_data = pd.concat([user_data, continent_encoded], axis=1)"
   ]
  },
  {
   "cell_type": "markdown",
   "metadata": {},
   "source": [
    "c. AttractionType Encoding\n"
   ]
  },
  {
   "cell_type": "code",
   "execution_count": 39,
   "metadata": {},
   "outputs": [
    {
     "name": "stdout",
     "output_type": "stream",
     "text": [
      "   AttractionTypeId  Attraction_Ancient Ruins  Attraction_Ballets  \\\n",
      "0                 2                      True               False   \n",
      "1                10                     False                True   \n",
      "2                13                     False               False   \n",
      "3                19                     False               False   \n",
      "4                34                     False               False   \n",
      "\n",
      "   Attraction_Beaches  Attraction_Caverns & Caves  \\\n",
      "0               False                       False   \n",
      "1               False                       False   \n",
      "2                True                       False   \n",
      "3               False                        True   \n",
      "4               False                       False   \n",
      "\n",
      "   Attraction_Flea & Street Markets  Attraction_Historic Sites  \\\n",
      "0                             False                      False   \n",
      "1                             False                      False   \n",
      "2                             False                      False   \n",
      "3                             False                      False   \n",
      "4                              True                      False   \n",
      "\n",
      "   Attraction_History Museums  Attraction_National Parks  \\\n",
      "0                       False                      False   \n",
      "1                       False                      False   \n",
      "2                       False                      False   \n",
      "3                       False                      False   \n",
      "4                       False                      False   \n",
      "\n",
      "   Attraction_Nature & Wildlife Areas  Attraction_Neighborhoods  \\\n",
      "0                               False                     False   \n",
      "1                               False                     False   \n",
      "2                               False                     False   \n",
      "3                               False                     False   \n",
      "4                               False                     False   \n",
      "\n",
      "   Attraction_Points Of Interest & Landmarks  Attraction_Religious Sites  \\\n",
      "0                                      False                       False   \n",
      "1                                      False                       False   \n",
      "2                                      False                       False   \n",
      "3                                      False                       False   \n",
      "4                                      False                       False   \n",
      "\n",
      "   Attraction_Spas  Attraction_Speciality Museums  Attraction_Volcanos  \\\n",
      "0            False                          False                False   \n",
      "1            False                          False                False   \n",
      "2            False                          False                False   \n",
      "3            False                          False                False   \n",
      "4            False                          False                False   \n",
      "\n",
      "   Attraction_Water Parks  Attraction_Waterfalls  \n",
      "0                   False                  False  \n",
      "1                   False                  False  \n",
      "2                   False                  False  \n",
      "3                   False                  False  \n",
      "4                   False                  False  \n"
     ]
    }
   ],
   "source": [
    "# One-hot encode attraction types\n",
    "attraction_encoded = pd.get_dummies(attraction_data, columns=['AttractionType'], prefix='Attraction')\n",
    "print(attraction_encoded.head())"
   ]
  },
  {
   "cell_type": "markdown",
   "metadata": {},
   "source": [
    "**2. User-Level Feature Aggregation**"
   ]
  },
  {
   "cell_type": "code",
   "execution_count": 40,
   "metadata": {},
   "outputs": [
    {
     "name": "stdout",
     "output_type": "stream",
     "text": [
      "   UserId  AvgRating  TotalVisits  RatingStd  FrequentVisitMode  \\\n",
      "0      14   4.666667            3   0.577350                  4   \n",
      "1      16   4.700000           10   0.674949                  3   \n",
      "2      20   4.000000            1        NaN                  3   \n",
      "3      23   5.000000            1        NaN                  4   \n",
      "4      25   5.000000            1        NaN                  4   \n",
      "\n",
      "   UniqueAttractions  VisitModeProp_1  VisitModeProp_2  VisitModeProp_3  \\\n",
      "0                  2              0.0              0.0              0.0   \n",
      "1                  5              0.0              0.3              0.4   \n",
      "2                  1              0.0              0.0              1.0   \n",
      "3                  1              0.0              0.0              0.0   \n",
      "4                  1              0.0              0.0              0.0   \n",
      "\n",
      "   VisitModeProp_4  VisitModeProp_5  \n",
      "0              1.0              0.0  \n",
      "1              0.2              0.1  \n",
      "2              0.0              0.0  \n",
      "3              1.0              0.0  \n",
      "4              1.0              0.0  \n"
     ]
    }
   ],
   "source": [
    "# Merge transaction data with user data first\n",
    "user_transactions = pd.merge(transaction_data, user_data, on='UserId')\n",
    "\n",
    "# Calculate user-level statistics\n",
    "user_features = user_transactions.groupby('UserId').agg({\n",
    "    'Rating': ['mean', 'count', 'std'],\n",
    "    'VisitMode': lambda x: x.mode()[0],\n",
    "    'AttractionId': 'nunique'\n",
    "}).reset_index()\n",
    "\n",
    "# Flatten multi-index columns\n",
    "user_features.columns = ['UserId', 'AvgRating', 'TotalVisits', 'RatingStd', 'FrequentVisitMode', 'UniqueAttractions']\n",
    "\n",
    "# Calculate visit mode proportions\n",
    "visit_mode_counts = user_transactions.groupby(['UserId', 'VisitMode']).size().unstack(fill_value=0)\n",
    "visit_mode_proportions = visit_mode_counts.div(visit_mode_counts.sum(axis=1), axis=0)\n",
    "visit_mode_proportions = visit_mode_proportions.add_prefix('VisitModeProp_')\n",
    "\n",
    "# Combine all user features\n",
    "user_features = pd.merge(user_features, visit_mode_proportions, left_on='UserId', right_index=True)\n",
    "print(user_features.head())"
   ]
  },
  {
   "cell_type": "markdown",
   "metadata": {},
   "source": [
    "**3. Data Consolidation**"
   ]
  },
  {
   "cell_type": "code",
   "execution_count": 41,
   "metadata": {},
   "outputs": [
    {
     "name": "stdout",
     "output_type": "stream",
     "text": [
      "Transaction columns: ['TransactionId', 'UserId', 'VisitYear', 'VisitMonth', 'VisitMode', 'AttractionId', 'Rating', 'VisitDate']\n",
      "Visit columns: ['VisitModeId', 'VisitMode']\n",
      "User columns: ['UserId', 'ContinentId', 'RegionId', 'CountryId', 'CityId', 'Country_freq_encoded', 'Continent_1', 'Continent_2', 'Continent_3', 'Continent_4', 'Continent_5']\n",
      "City columns: ['CityId', 'CityName', 'CountryId']\n",
      "Item columns: ['AttractionId', 'AttractionCityId', 'AttractionTypeId', 'Attraction', 'AttractionAddress']\n",
      "Attraction columns: ['AttractionTypeId', 'AttractionType']\n"
     ]
    }
   ],
   "source": [
    "# Check columns in each DataFrame\n",
    "print(\"Transaction columns:\", transaction_data.columns.tolist())\n",
    "print(\"Visit columns:\", visit_data.columns.tolist())\n",
    "print(\"User columns:\", user_data.columns.tolist())\n",
    "print(\"City columns:\", city_data.columns.tolist())\n",
    "print(\"Item columns:\", item_data.columns.tolist())\n",
    "print(\"Attraction columns:\", attraction_data.columns.tolist())"
   ]
  },
  {
   "cell_type": "markdown",
   "metadata": {},
   "source": [
    "1. First Merge: Transaction + User + City"
   ]
  },
  {
   "cell_type": "code",
   "execution_count": 42,
   "metadata": {},
   "outputs": [],
   "source": [
    "# Merge transaction with user data\n",
    "merged_df = pd.merge(transaction_data, user_data, on='UserId')\n",
    "\n",
    "# Then merge with city data\n",
    "merged_df = pd.merge(merged_df, city_data, left_on='CityId', right_on='CityId', suffixes=('_user', '_city'))"
   ]
  },
  {
   "cell_type": "markdown",
   "metadata": {},
   "source": [
    "2. Second Merge: Attraction Information"
   ]
  },
  {
   "cell_type": "code",
   "execution_count": 43,
   "metadata": {},
   "outputs": [],
   "source": [
    "# Merge with item data\n",
    "merged_df = pd.merge(merged_df, item_data, on='AttractionId')\n",
    "\n",
    "# Merge with attraction type data\n",
    "merged_df = pd.merge(merged_df, attraction_data, on='AttractionTypeId')"
   ]
  },
  {
   "cell_type": "markdown",
   "metadata": {},
   "source": [
    "3. Third Merge: Visit Mode Information"
   ]
  },
  {
   "cell_type": "code",
   "execution_count": 44,
   "metadata": {},
   "outputs": [],
   "source": [
    "# Merge with visit mode data (note: transaction has 'VisitMode' which matches 'VisitModeId' in visit)\n",
    "merged_df = pd.merge(merged_df, visit_data, left_on='VisitMode', right_on='VisitModeId')"
   ]
  },
  {
   "cell_type": "markdown",
   "metadata": {},
   "source": [
    "**4. Feature Engineering**"
   ]
  },
  {
   "cell_type": "markdown",
   "metadata": {},
   "source": [
    "1. Examine the Merged DataFrame Columns\n"
   ]
  },
  {
   "cell_type": "code",
   "execution_count": 45,
   "metadata": {},
   "outputs": [
    {
     "name": "stdout",
     "output_type": "stream",
     "text": [
      "Columns in merged_df: ['TransactionId', 'UserId', 'VisitYear', 'VisitMonth', 'VisitMode_x', 'AttractionId', 'Rating', 'VisitDate', 'ContinentId', 'RegionId', 'CountryId_user', 'CityId', 'Country_freq_encoded', 'Continent_1', 'Continent_2', 'Continent_3', 'Continent_4', 'Continent_5', 'CityName', 'CountryId_city', 'AttractionCityId', 'AttractionTypeId', 'Attraction', 'AttractionAddress', 'AttractionType', 'VisitModeId', 'VisitMode_y']\n",
      "Visit mode related columns: ['VisitYear', 'VisitMonth', 'VisitMode_x', 'VisitDate', 'VisitModeId', 'VisitMode_y']\n"
     ]
    }
   ],
   "source": [
    "# Print all columns in the merged DataFrame\n",
    "print(\"Columns in merged_df:\", merged_df.columns.tolist())\n",
    "\n",
    "# Look for visit mode related columns\n",
    "visit_mode_cols = [col for col in merged_df.columns if 'visit' in col.lower() or 'mode' in col.lower()]\n",
    "print(\"Visit mode related columns:\", visit_mode_cols)"
   ]
  },
  {
   "cell_type": "markdown",
   "metadata": {},
   "source": [
    "2. Feature Engineering Code"
   ]
  },
  {
   "cell_type": "code",
   "execution_count": 46,
   "metadata": {},
   "outputs": [],
   "source": [
    "# Corrected user feature calculation\n",
    "user_features = merged_df.groupby('UserId').agg({\n",
    "    'Rating': ['mean', 'count', 'std'],\n",
    "    'VisitMode_y': lambda x: x.mode()[0],  # Use the descriptive visit mode\n",
    "    'AttractionId': 'nunique'\n",
    "}).reset_index()\n",
    "\n",
    "# Flatten multi-index columns\n",
    "user_features.columns = ['UserId', 'AvgRating', 'TotalVisits', 'RatingStd', 'FrequentVisitMode', 'UniqueAttractions']\n",
    "\n",
    "# Calculate visit mode proportions using the correct column\n",
    "visit_mode_counts = merged_df.groupby(['UserId', 'VisitMode_y']).size().unstack(fill_value=0)\n",
    "visit_mode_proportions = visit_mode_counts.div(visit_mode_counts.sum(axis=1), axis=0)\n",
    "visit_mode_proportions = visit_mode_proportions.add_prefix('VisitModeProp_')\n",
    "\n",
    "# Combine with main dataframe\n",
    "merged_df = pd.merge(merged_df, user_features, on='UserId')\n",
    "merged_df = pd.merge(merged_df, visit_mode_proportions, left_on='UserId', right_index=True)"
   ]
  },
  {
   "cell_type": "markdown",
   "metadata": {},
   "source": [
    "3. Verify the Correction\n"
   ]
  },
  {
   "cell_type": "code",
   "execution_count": 47,
   "metadata": {},
   "outputs": [
    {
     "name": "stdout",
     "output_type": "stream",
     "text": [
      "New columns after feature engineering:\n",
      "['VisitMode_x', 'VisitModeId', 'VisitMode_y', 'FrequentVisitMode', 'VisitModeProp_Business', 'VisitModeProp_Couples', 'VisitModeProp_Family', 'VisitModeProp_Friends', 'VisitModeProp_Solo']\n",
      "\n",
      "Sample user features:\n",
      "   UserId  AvgRating  TotalVisits  RatingStd FrequentVisitMode  \\\n",
      "0      14   4.666667            3   0.577350           Friends   \n",
      "1      16   4.700000           10   0.674949            Family   \n",
      "2      20   4.000000            1        NaN            Family   \n",
      "3      23   5.000000            1        NaN           Friends   \n",
      "4      25   5.000000            1        NaN           Friends   \n",
      "\n",
      "   UniqueAttractions  \n",
      "0                  2  \n",
      "1                  5  \n",
      "2                  1  \n",
      "3                  1  \n",
      "4                  1  \n"
     ]
    }
   ],
   "source": [
    "# Check if the new columns exist\n",
    "print(\"New columns after feature engineering:\")\n",
    "print([col for col in merged_df.columns if 'VisitMode' in col])\n",
    "\n",
    "# Sample the results\n",
    "print(\"\\nSample user features:\")\n",
    "print(user_features.head())"
   ]
  },
  {
   "cell_type": "markdown",
   "metadata": {},
   "source": [
    "4. Complete Preprocessing Pipeline\n"
   ]
  },
  {
   "cell_type": "code",
   "execution_count": 48,
   "metadata": {},
   "outputs": [],
   "source": [
    "# One-hot encoding (using the correct visit mode column)\n",
    "merged_df = pd.get_dummies(merged_df, columns=[\n",
    "    'VisitMode_y',  # The descriptive visit mode\n",
    "    'AttractionType',\n",
    "    'ContinentId'\n",
    "], drop_first=True)\n",
    "\n",
    "# Temporal features\n",
    "merged_df['VisitYear'] = merged_df['VisitDate'].dt.year\n",
    "merged_df['VisitMonth'] = merged_df['VisitDate'].dt.month\n",
    "merged_df['VisitDayOfWeek'] = merged_df['VisitDate'].dt.dayofweek\n",
    "merged_df['IsWeekend'] = merged_df['VisitDayOfWeek'].isin([5, 6]).astype(int)\n",
    "\n",
    "# Normalization\n",
    "from sklearn.preprocessing import MinMaxScaler\n",
    "\n",
    "numerical_features = ['Rating', 'AvgRating', 'TotalVisits', 'UniqueAttractions']\n",
    "scaler = MinMaxScaler()\n",
    "merged_df[numerical_features] = scaler.fit_transform(merged_df[numerical_features])"
   ]
  },
  {
   "cell_type": "markdown",
   "metadata": {},
   "source": [
    "5. Final Feature Selection\n"
   ]
  },
  {
   "cell_type": "code",
   "execution_count": 49,
   "metadata": {},
   "outputs": [
    {
     "name": "stdout",
     "output_type": "stream",
     "text": [
      "Final modeling dataset shape: (52922, 38)\n",
      "Sample features: ['AvgRating', 'TotalVisits', 'RatingStd', 'UniqueAttractions', 'VisitModeProp_Business', 'VisitModeProp_Couples', 'VisitModeProp_Family', 'VisitModeProp_Friends', 'VisitModeProp_Solo', 'VisitMode_y_Couples']\n"
     ]
    }
   ],
   "source": [
    "# Select features for modeling\n",
    "selected_features = [\n",
    "    # User features\n",
    "    'AvgRating', 'TotalVisits', 'RatingStd', 'UniqueAttractions',\n",
    "    \n",
    "    # Visit behavior\n",
    "    *[col for col in merged_df.columns if col.startswith('VisitModeProp_')],\n",
    "    *[col for col in merged_df.columns if col.startswith('VisitMode_y_')],\n",
    "    \n",
    "    # Attraction features\n",
    "    *[col for col in merged_df.columns if col.startswith('AttractionType_')],\n",
    "    \n",
    "    # Location features\n",
    "    *[col for col in merged_df.columns if col.startswith('ContinentId_')],\n",
    "    'Country_freq_encoded',\n",
    "    \n",
    "    # Temporal features\n",
    "    'VisitYear', 'VisitMonth', 'IsWeekend'\n",
    "]\n",
    "\n",
    "modeling_df = merged_df[selected_features + ['Rating']]\n",
    "print(\"Final modeling dataset shape:\", modeling_df.shape)\n",
    "print(\"Sample features:\", modeling_df.columns.tolist()[:10])  # Show first 10 features"
   ]
  },
  {
   "cell_type": "code",
   "execution_count": 50,
   "metadata": {},
   "outputs": [
    {
     "name": "stdout",
     "output_type": "stream",
     "text": [
      "Final modeling dataset shape: (52922, 38)\n",
      "\n",
      "First 3 columns and last 3 columns:\n",
      "['AvgRating', 'TotalVisits', 'RatingStd'] ... ['VisitMonth', 'IsWeekend', 'Rating']\n",
      "\n",
      "Data types:\n",
      "bool       24\n",
      "float64    11\n",
      "int32       2\n",
      "int64       1\n",
      "Name: count, dtype: int64\n"
     ]
    }
   ],
   "source": [
    "print(\"Final modeling dataset shape:\", modeling_df.shape)\n",
    "print(\"\\nFirst 3 columns and last 3 columns:\")\n",
    "print(modeling_df.columns[:3].tolist(), \"...\", modeling_df.columns[-3:].tolist())\n",
    "print(\"\\nData types:\")\n",
    "print(modeling_df.dtypes.value_counts())"
   ]
  },
  {
   "cell_type": "code",
   "execution_count": 51,
   "metadata": {},
   "outputs": [
    {
     "name": "stdout",
     "output_type": "stream",
     "text": [
      "Missing values in final dataset: 22911\n"
     ]
    }
   ],
   "source": [
    "print(\"Missing values in final dataset:\", modeling_df.isna().sum().sum())"
   ]
  },
  {
   "cell_type": "code",
   "execution_count": 52,
   "metadata": {},
   "outputs": [
    {
     "name": "stdout",
     "output_type": "stream",
     "text": [
      "\n",
      "Normalized features range check:\n",
      "     Rating  AvgRating  TotalVisits  UniqueAttractions\n",
      "min     0.0        0.0          0.0                0.0\n",
      "max     1.0        1.0          1.0                1.0\n"
     ]
    }
   ],
   "source": [
    "print(\"\\nNormalized features range check:\")\n",
    "print(modeling_df[numerical_features].describe().loc[['min', 'max']])"
   ]
  },
  {
   "cell_type": "code",
   "execution_count": 53,
   "metadata": {},
   "outputs": [
    {
     "name": "stdout",
     "output_type": "stream",
     "text": [
      "\n",
      "Encoded categorical features sample:\n",
      "['VisitModeProp_Business', 'VisitModeProp_Couples', 'VisitModeProp_Family', 'VisitModeProp_Friends', 'VisitModeProp_Solo', 'VisitMode_y_Couples', 'VisitMode_y_Family', 'VisitMode_y_Friends', 'VisitMode_y_Solo', 'AttractionType_Ballets']\n"
     ]
    }
   ],
   "source": [
    "print(\"\\nEncoded categorical features sample:\")\n",
    "print([col for col in modeling_df.columns if '_' in col][:10])"
   ]
  },
  {
   "cell_type": "markdown",
   "metadata": {},
   "source": [
    "**Addressing Missing Values and Finalizing Preprocessing**"
   ]
  },
  {
   "cell_type": "markdown",
   "metadata": {},
   "source": [
    "1. Handling Missing Values\n"
   ]
  },
  {
   "cell_type": "code",
   "execution_count": 54,
   "metadata": {},
   "outputs": [
    {
     "name": "stdout",
     "output_type": "stream",
     "text": [
      "Columns with missing values:\n",
      " RatingStd    22911\n",
      "dtype: int64\n"
     ]
    }
   ],
   "source": [
    "# Check which columns have missing values\n",
    "missing_values = modeling_df.isna().sum()\n",
    "print(\"Columns with missing values:\\n\", missing_values[missing_values > 0])"
   ]
  },
  {
   "cell_type": "markdown",
   "metadata": {},
   "source": [
    "For Numerical Features (AvgRating, TotalVisits, RatingStd):\n"
   ]
  },
  {
   "cell_type": "code",
   "execution_count": 55,
   "metadata": {},
   "outputs": [
    {
     "name": "stderr",
     "output_type": "stream",
     "text": [
      "C:\\Users\\Admin\\AppData\\Local\\Temp\\ipykernel_17312\\4167772387.py:3: SettingWithCopyWarning: \n",
      "A value is trying to be set on a copy of a slice from a DataFrame.\n",
      "Try using .loc[row_indexer,col_indexer] = value instead\n",
      "\n",
      "See the caveats in the documentation: https://pandas.pydata.org/pandas-docs/stable/user_guide/indexing.html#returning-a-view-versus-a-copy\n",
      "  modeling_df[numerical_cols] = modeling_df[numerical_cols].fillna(\n"
     ]
    }
   ],
   "source": [
    "# Fill with median (more robust than mean)\n",
    "numerical_cols = ['AvgRating', 'TotalVisits', 'RatingStd']\n",
    "modeling_df[numerical_cols] = modeling_df[numerical_cols].fillna(\n",
    "    modeling_df[numerical_cols].median()\n",
    ")"
   ]
  },
  {
   "cell_type": "markdown",
   "metadata": {},
   "source": [
    "For Categorical Features (VisitModeProp_*):\n"
   ]
  },
  {
   "cell_type": "code",
   "execution_count": 56,
   "metadata": {},
   "outputs": [
    {
     "name": "stderr",
     "output_type": "stream",
     "text": [
      "C:\\Users\\Admin\\AppData\\Local\\Temp\\ipykernel_17312\\2405103851.py:3: SettingWithCopyWarning: \n",
      "A value is trying to be set on a copy of a slice from a DataFrame.\n",
      "Try using .loc[row_indexer,col_indexer] = value instead\n",
      "\n",
      "See the caveats in the documentation: https://pandas.pydata.org/pandas-docs/stable/user_guide/indexing.html#returning-a-view-versus-a-copy\n",
      "  modeling_df[visit_mode_cols] = modeling_df[visit_mode_cols].fillna(0)\n"
     ]
    }
   ],
   "source": [
    "# Fill with 0 (assuming missing means no visits of that type)\n",
    "visit_mode_cols = [col for col in modeling_df.columns if 'VisitModeProp_' in col]\n",
    "modeling_df[visit_mode_cols] = modeling_df[visit_mode_cols].fillna(0)"
   ]
  },
  {
   "cell_type": "markdown",
   "metadata": {},
   "source": [
    "For Rating (Target Variable):\n"
   ]
  },
  {
   "cell_type": "code",
   "execution_count": 57,
   "metadata": {},
   "outputs": [
    {
     "name": "stderr",
     "output_type": "stream",
     "text": [
      "C:\\Users\\Admin\\AppData\\Local\\Temp\\ipykernel_17312\\2527772568.py:5: SettingWithCopyWarning: \n",
      "A value is trying to be set on a copy of a slice from a DataFrame.\n",
      "Try using .loc[row_indexer,col_indexer] = value instead\n",
      "\n",
      "See the caveats in the documentation: https://pandas.pydata.org/pandas-docs/stable/user_guide/indexing.html#returning-a-view-versus-a-copy\n",
      "  modeling_df['Rating'] = modeling_df['Rating'].fillna(\n"
     ]
    }
   ],
   "source": [
    "# Option 1: Drop rows with missing ratings (if not too many)\n",
    "# modeling_df = modeling_df.dropna(subset=['Rating'])\n",
    "\n",
    "# Option 2: Impute with median (better for keeping data)\n",
    "modeling_df['Rating'] = modeling_df['Rating'].fillna(\n",
    "    modeling_df['Rating'].median()\n",
    ")"
   ]
  },
  {
   "cell_type": "markdown",
   "metadata": {},
   "source": [
    "2. Final Verification\n"
   ]
  },
  {
   "cell_type": "code",
   "execution_count": 58,
   "metadata": {},
   "outputs": [
    {
     "name": "stdout",
     "output_type": "stream",
     "text": [
      "\n",
      "Missing values after handling: 0\n",
      "\n",
      "Data shape after cleaning: (52922, 38)\n",
      "\n",
      "Normalized features check:\n",
      "        Rating  AvgRating  TotalVisits  UniqueAttractions\n",
      "min   0.000000   0.000000     0.000000           0.000000\n",
      "max   1.000000   1.000000     1.000000           1.000000\n",
      "mean  0.789402   0.789402     0.028911           0.092721\n"
     ]
    }
   ],
   "source": [
    "print(\"\\nMissing values after handling:\", modeling_df.isna().sum().sum())\n",
    "print(\"\\nData shape after cleaning:\", modeling_df.shape)\n",
    "\n",
    "# Verify normalization preserved\n",
    "print(\"\\nNormalized features check:\")\n",
    "print(modeling_df[numerical_features].describe().loc[['min', 'max', 'mean']])"
   ]
  },
  {
   "cell_type": "markdown",
   "metadata": {},
   "source": [
    "# ***3. Preparing for Modeling***"
   ]
  },
  {
   "cell_type": "markdown",
   "metadata": {},
   "source": [
    "**Train-Test Split**"
   ]
  },
  {
   "cell_type": "code",
   "execution_count": 61,
   "metadata": {},
   "outputs": [
    {
     "name": "stdout",
     "output_type": "stream",
     "text": [
      "\n",
      "Shapes after split:\n",
      "X_train: (42337, 37)\n",
      "X_test: (10585, 37)\n",
      "y_train: (42337,)\n",
      "y_test: (10585,)\n"
     ]
    }
   ],
   "source": [
    "from sklearn.model_selection import train_test_split\n",
    "\n",
    "# Separate features and target\n",
    "X = modeling_df.drop('Rating', axis=1)\n",
    "y = modeling_df['Rating']\n",
    "\n",
    "# Split data (80% train, 20% test)\n",
    "X_train, X_test, y_train, y_test = train_test_split(\n",
    "    X, y, \n",
    "    test_size=0.2, \n",
    "    random_state=42\n",
    ")\n",
    "\n",
    "print(\"\\nShapes after split:\")\n",
    "print(\"X_train:\", X_train.shape)\n",
    "print(\"X_test:\", X_test.shape)\n",
    "print(\"y_train:\", y_train.shape)\n",
    "print(\"y_test:\", y_test.shape)"
   ]
  },
  {
   "cell_type": "markdown",
   "metadata": {},
   "source": [
    "Feature Importance \n"
   ]
  },
  {
   "cell_type": "code",
   "execution_count": 62,
   "metadata": {},
   "outputs": [
    {
     "name": "stdout",
     "output_type": "stream",
     "text": [
      "\n",
      "Top 10 important features:\n",
      "                  Feature  Importance\n",
      "0               AvgRating    0.755458\n",
      "35             VisitMonth    0.034883\n",
      "2               RatingStd    0.034649\n",
      "34              VisitYear    0.024758\n",
      "33   Country_freq_encoded    0.021705\n",
      "3       UniqueAttractions    0.011542\n",
      "5   VisitModeProp_Couples    0.009578\n",
      "6    VisitModeProp_Family    0.009289\n",
      "7   VisitModeProp_Friends    0.008567\n",
      "1             TotalVisits    0.007940\n"
     ]
    }
   ],
   "source": [
    "from sklearn.ensemble import RandomForestRegressor\n",
    "\n",
    "# Quick feature importance check\n",
    "rf = RandomForestRegressor(n_estimators=50, random_state=42)\n",
    "rf.fit(X_train, y_train)\n",
    "\n",
    "# Get feature importances\n",
    "importances = pd.DataFrame({\n",
    "    'Feature': X_train.columns,\n",
    "    'Importance': rf.feature_importances_\n",
    "}).sort_values('Importance', ascending=False)\n",
    "\n",
    "print(\"\\nTop 10 important features:\")\n",
    "print(importances.head(10))"
   ]
  },
  {
   "cell_type": "markdown",
   "metadata": {},
   "source": [
    "***Final Dataset Ready***  \n",
    "\n",
    "52,922 observations\n",
    "\n",
    "38 features (37 predictors + 1 target)\n",
    "\n",
    "All features properly encoded and normalized"
   ]
  },
  {
   "cell_type": "markdown",
   "metadata": {},
   "source": [
    "# ***Model Training and Evaluation Pipeline***"
   ]
  },
  {
   "cell_type": "markdown",
   "metadata": {},
   "source": [
    "# **1. Regression Task: Rating Prediction**"
   ]
  },
  {
   "cell_type": "markdown",
   "metadata": {},
   "source": [
    "Data Preparation\n"
   ]
  },
  {
   "cell_type": "code",
   "execution_count": 63,
   "metadata": {},
   "outputs": [],
   "source": [
    "from sklearn.model_selection import train_test_split\n",
    "from sklearn.preprocessing import StandardScaler\n",
    "\n",
    "# Features and target\n",
    "X_reg = modeling_df.drop(['Rating', *[col for col in modeling_df.columns if 'VisitMode_y_' in col]], axis=1)\n",
    "y_reg = modeling_df['Rating']\n",
    "\n",
    "# Train-test split\n",
    "X_train_reg, X_test_reg, y_train_reg, y_test_reg = train_test_split(\n",
    "    X_reg, y_reg, test_size=0.2, random_state=42\n",
    ")\n",
    "\n",
    "# Scale features\n",
    "scaler = StandardScaler()\n",
    "X_train_reg_scaled = scaler.fit_transform(X_train_reg)\n",
    "X_test_reg_scaled = scaler.transform(X_test_reg)"
   ]
  },
  {
   "cell_type": "code",
   "execution_count": 64,
   "metadata": {},
   "outputs": [
    {
     "data": {
      "text/html": [
       "<div>\n",
       "<style scoped>\n",
       "    .dataframe tbody tr th:only-of-type {\n",
       "        vertical-align: middle;\n",
       "    }\n",
       "\n",
       "    .dataframe tbody tr th {\n",
       "        vertical-align: top;\n",
       "    }\n",
       "\n",
       "    .dataframe thead th {\n",
       "        text-align: right;\n",
       "    }\n",
       "</style>\n",
       "<table border=\"1\" class=\"dataframe\">\n",
       "  <thead>\n",
       "    <tr style=\"text-align: right;\">\n",
       "      <th></th>\n",
       "      <th>RMSE</th>\n",
       "      <th>R2</th>\n",
       "    </tr>\n",
       "  </thead>\n",
       "  <tbody>\n",
       "    <tr>\n",
       "      <th>Random Forest</th>\n",
       "      <td>0.139736</td>\n",
       "      <td>0.671182</td>\n",
       "    </tr>\n",
       "    <tr>\n",
       "      <th>XGBoost</th>\n",
       "      <td>0.135628</td>\n",
       "      <td>0.690232</td>\n",
       "    </tr>\n",
       "    <tr>\n",
       "      <th>Gradient Boosting</th>\n",
       "      <td>0.123584</td>\n",
       "      <td>0.742805</td>\n",
       "    </tr>\n",
       "  </tbody>\n",
       "</table>\n",
       "</div>"
      ],
      "text/plain": [
       "                       RMSE        R2\n",
       "Random Forest      0.139736  0.671182\n",
       "XGBoost            0.135628  0.690232\n",
       "Gradient Boosting  0.123584  0.742805"
      ]
     },
     "execution_count": 64,
     "metadata": {},
     "output_type": "execute_result"
    }
   ],
   "source": [
    "from sklearn.ensemble import RandomForestRegressor, GradientBoostingRegressor\n",
    "from xgboost import XGBRegressor\n",
    "from sklearn.metrics import mean_squared_error, r2_score\n",
    "\n",
    "# Initialize models\n",
    "models = {\n",
    "    \"Random Forest\": RandomForestRegressor(random_state=42),\n",
    "    \"XGBoost\": XGBRegressor(random_state=42),\n",
    "    \"Gradient Boosting\": GradientBoostingRegressor(random_state=42)\n",
    "}\n",
    "\n",
    "# Train and evaluate\n",
    "results = {}\n",
    "for name, model in models.items():\n",
    "    model.fit(X_train_reg_scaled, y_train_reg)\n",
    "    y_pred = model.predict(X_test_reg_scaled)\n",
    "    \n",
    "    results[name] = {\n",
    "        \"RMSE\": mean_squared_error(y_test_reg, y_pred) ** 0.5,  # Manually compute RMSE\n",
    "        \"R2\": r2_score(y_test_reg, y_pred)\n",
    "    }\n",
    "\n",
    "# Display results\n",
    "pd.DataFrame(results).T"
   ]
  },
  {
   "cell_type": "markdown",
   "metadata": {},
   "source": [
    "# **Complete Saving Process**"
   ]
  },
  {
   "cell_type": "code",
   "execution_count": 65,
   "metadata": {},
   "outputs": [
    {
     "name": "stdout",
     "output_type": "stream",
     "text": [
      "All regression components saved successfully\n"
     ]
    }
   ],
   "source": [
    "import joblib\n",
    "import pandas as pd\n",
    "import os\n",
    "\n",
    "# Create directory if it doesn't exist\n",
    "os.makedirs('tourism_models/rating_prediction', exist_ok=True)\n",
    "\n",
    "# 1. Save the model\n",
    "joblib.dump(models[\"Gradient Boosting\"], 'tourism_models/rating_prediction/model.pkl')\n",
    "\n",
    "# 2. Save the scaler\n",
    "joblib.dump(scaler, 'tourism_models/rating_prediction/scaler.pkl')\n",
    "\n",
    "# 3. Save the EXACT feature list used in training\n",
    "feature_names = X_train_reg.columns.tolist()\n",
    "joblib.dump(feature_names, 'tourism_models/rating_prediction/feature_names.pkl')\n",
    "\n",
    "# 4. Save a template with all features set to 0\n",
    "feature_template = {name: 0 for name in feature_names}\n",
    "joblib.dump(feature_template, 'tourism_models/rating_prediction/feature_template.pkl')\n",
    "\n",
    "print(\"All regression components saved successfully\")"
   ]
  },
  {
   "cell_type": "markdown",
   "metadata": {},
   "source": [
    "**Verification Code**"
   ]
  },
  {
   "cell_type": "code",
   "execution_count": 66,
   "metadata": {},
   "outputs": [],
   "source": [
    "def predict_rating(input_features):\n",
    "    \"\"\"\n",
    "    Predict attraction rating from input features\n",
    "    Args:\n",
    "        input_features: dict with available features (can be partial)\n",
    "    Returns:\n",
    "        Predicted rating (1-5)\n",
    "    \"\"\"\n",
    "    # Load all required components\n",
    "    model = joblib.load('tourism_models/rating_prediction/model.pkl')\n",
    "    scaler = joblib.load('tourism_models/rating_prediction/scaler.pkl')\n",
    "    feature_names = joblib.load('tourism_models/rating_prediction/feature_names.pkl')\n",
    "    template = joblib.load('tourism_models/rating_prediction/feature_template.pkl')\n",
    "    \n",
    "    # Update template with provided features\n",
    "    for key in input_features:\n",
    "        if key in template:\n",
    "            template[key] = input_features[key]\n",
    "        else:\n",
    "            print(f\"Warning: Feature '{key}' not in original training data\")\n",
    "    \n",
    "    # Create DataFrame with correct column order\n",
    "    input_df = pd.DataFrame([template], columns=feature_names)\n",
    "    \n",
    "    # Scale and predict\n",
    "    scaled_input = scaler.transform(input_df)\n",
    "    return max(1, min(5, model.predict(scaled_input)[0]))"
   ]
  },
  {
   "cell_type": "code",
   "execution_count": 67,
   "metadata": {},
   "outputs": [
    {
     "name": "stdout",
     "output_type": "stream",
     "text": [
      "Predicted Rating: 1.01\n"
     ]
    }
   ],
   "source": [
    "# Create proper test sample - must include ALL training features\n",
    "test_sample = {\n",
    "    'AvgRating': 4.5,\n",
    "    'TotalVisits': 10,\n",
    "    'RatingStd': 0.5,\n",
    "    'UniqueAttractions': 5,\n",
    "    # Include all other features that were in X_train_reg\n",
    "    # ...\n",
    "}\n",
    "\n",
    "# Make prediction\n",
    "try:\n",
    "    predicted_rating = predict_rating(test_sample)\n",
    "    print(f\"Predicted Rating: {predicted_rating:.2f}\")\n",
    "except ValueError as e:\n",
    "    print(f\"Prediction failed: {str(e)}\")"
   ]
  },
  {
   "cell_type": "markdown",
   "metadata": {},
   "source": [
    "# **2. Classification Task: Visit Mode Prediction**"
   ]
  },
  {
   "cell_type": "markdown",
   "metadata": {},
   "source": [
    "Data Preparation"
   ]
  },
  {
   "cell_type": "code",
   "execution_count": 84,
   "metadata": {},
   "outputs": [
    {
     "name": "stdout",
     "output_type": "stream",
     "text": [
      "Columns in merged_df: ['TransactionId', 'UserId', 'VisitYear', 'VisitMonth', 'VisitMode_x', 'AttractionId', 'Rating', 'VisitDate', 'RegionId', 'CountryId_user', 'CityId', 'Country_freq_encoded', 'Continent_1', 'Continent_2', 'Continent_3', 'Continent_4', 'Continent_5', 'CityName', 'CountryId_city', 'AttractionCityId', 'AttractionTypeId', 'Attraction', 'AttractionAddress', 'VisitModeId', 'AvgRating', 'TotalVisits', 'RatingStd', 'FrequentVisitMode', 'UniqueAttractions', 'VisitModeProp_Business', 'VisitModeProp_Couples', 'VisitModeProp_Family', 'VisitModeProp_Friends', 'VisitModeProp_Solo', 'VisitMode_y_Couples', 'VisitMode_y_Family', 'VisitMode_y_Friends', 'VisitMode_y_Solo', 'AttractionType_Ballets', 'AttractionType_Beaches', 'AttractionType_Caverns & Caves', 'AttractionType_Flea & Street Markets', 'AttractionType_Historic Sites', 'AttractionType_History Museums', 'AttractionType_National Parks', 'AttractionType_Nature & Wildlife Areas', 'AttractionType_Neighborhoods', 'AttractionType_Points Of Interest & Landmarks', 'AttractionType_Religious Sites', 'AttractionType_Spas', 'AttractionType_Speciality Museums', 'AttractionType_Volcanos', 'AttractionType_Water Parks', 'AttractionType_Waterfalls', 'ContinentId_2', 'ContinentId_3', 'ContinentId_4', 'ContinentId_5', 'VisitDayOfWeek', 'IsWeekend']\n"
     ]
    }
   ],
   "source": [
    "print(\"Columns in merged_df:\", merged_df.columns.tolist())"
   ]
  },
  {
   "cell_type": "markdown",
   "metadata": {},
   "source": [
    "1. Prepare Classification Target\n"
   ]
  },
  {
   "cell_type": "code",
   "execution_count": 85,
   "metadata": {},
   "outputs": [
    {
     "name": "stdout",
     "output_type": "stream",
     "text": [
      "Value counts for VisitMode:\n",
      "VisitMode_x\n",
      "Couples     21617\n",
      "Family      15215\n",
      "Friends     10944\n",
      "Solo         4523\n",
      "Business      623\n",
      "Name: count, dtype: int64\n"
     ]
    }
   ],
   "source": [
    "# We have two options for the target:\n",
    "\n",
    "# Option A: Use the one-hot encoded columns to reconstruct original categories\n",
    "visit_mode_cols = [col for col in merged_df.columns if col.startswith('VisitMode_y_')]\n",
    "y_clf = merged_df[visit_mode_cols].idxmax(axis=1).str.replace('VisitMode_y_', '')\n",
    "\n",
    "# Option B: Use the original mapping from visit table (more reliable)\n",
    "visit_mode_mapping = visit_data.set_index('VisitModeId')['VisitMode'].to_dict()\n",
    "y_clf = merged_df['VisitMode_x'].map(visit_mode_mapping)\n",
    "\n",
    "# I recommend Option B as it's more reliable\n",
    "print(\"Value counts for VisitMode:\")\n",
    "print(y_clf.value_counts())"
   ]
  },
  {
   "cell_type": "markdown",
   "metadata": {},
   "source": [
    "2. Prepare Classification Features\n"
   ]
  },
  {
   "cell_type": "code",
   "execution_count": 86,
   "metadata": {},
   "outputs": [
    {
     "name": "stdout",
     "output_type": "stream",
     "text": [
      "\n",
      "Selected features for classification:\n",
      "['TransactionId', 'UserId', 'VisitYear', 'VisitMonth', 'AttractionId', 'RegionId', 'CountryId_user', 'CityId', 'Country_freq_encoded', 'Continent_1', 'Continent_2', 'Continent_3', 'Continent_4', 'Continent_5', 'CityName', 'CountryId_city', 'AttractionCityId', 'AttractionTypeId', 'Attraction', 'AttractionAddress', 'AvgRating', 'TotalVisits', 'RatingStd', 'FrequentVisitMode', 'UniqueAttractions', 'VisitModeProp_Business', 'VisitModeProp_Couples', 'VisitModeProp_Family', 'VisitModeProp_Friends', 'VisitModeProp_Solo', 'AttractionType_Ballets', 'AttractionType_Beaches', 'AttractionType_Caverns & Caves', 'AttractionType_Flea & Street Markets', 'AttractionType_Historic Sites', 'AttractionType_History Museums', 'AttractionType_National Parks', 'AttractionType_Nature & Wildlife Areas', 'AttractionType_Neighborhoods', 'AttractionType_Points Of Interest & Landmarks', 'AttractionType_Religious Sites', 'AttractionType_Spas', 'AttractionType_Speciality Museums', 'AttractionType_Volcanos', 'AttractionType_Water Parks', 'AttractionType_Waterfalls', 'ContinentId_2', 'ContinentId_3', 'ContinentId_4', 'ContinentId_5', 'VisitDayOfWeek', 'IsWeekend']\n"
     ]
    }
   ],
   "source": [
    "# Exclude all visit mode related columns and target variables\n",
    "cols_to_exclude = [\n",
    "    'VisitMode_x', 'VisitModeId', 'Rating', 'VisitDate',\n",
    "    *[col for col in merged_df.columns if 'VisitMode_' in col]\n",
    "]\n",
    "\n",
    "X_clf = merged_df.drop(cols_to_exclude, axis=1)\n",
    "\n",
    "# Verify feature columns\n",
    "print(\"\\nSelected features for classification:\")\n",
    "print(X_clf.columns.tolist())"
   ]
  },
  {
   "cell_type": "markdown",
   "metadata": {},
   "source": [
    "3. Identify and Encode Categorical Features\n"
   ]
  },
  {
   "cell_type": "code",
   "execution_count": 87,
   "metadata": {},
   "outputs": [
    {
     "name": "stdout",
     "output_type": "stream",
     "text": [
      "Feature data types:\n",
      " bool       25\n",
      "float64    11\n",
      "int64       9\n",
      "object      4\n",
      "int32       3\n",
      "Name: count, dtype: int64\n",
      "\n",
      "Categorical columns to encode: ['CityName', 'Attraction', 'AttractionAddress', 'FrequentVisitMode']\n"
     ]
    }
   ],
   "source": [
    "# Check data types in our features\n",
    "print(\"Feature data types:\\n\", X_clf.dtypes.value_counts())\n",
    "\n",
    "# Identify categorical columns (both object and string dtypes)\n",
    "categorical_cols = X_clf.select_dtypes(include=['object', 'string']).columns\n",
    "print(\"\\nCategorical columns to encode:\", categorical_cols.tolist())"
   ]
  },
  {
   "cell_type": "markdown",
   "metadata": {},
   "source": [
    "4. Proper Feature Encoding Pipeline\n"
   ]
  },
  {
   "cell_type": "code",
   "execution_count": 89,
   "metadata": {},
   "outputs": [
    {
     "name": "stdout",
     "output_type": "stream",
     "text": [
      "Preprocessor structure: ColumnTransformer(transformers=[('num', StandardScaler(),\n",
      "                                 Index(['TransactionId', 'UserId', 'AttractionId', 'RegionId', 'CountryId_user',\n",
      "       'CityId', 'Country_freq_encoded', 'CountryId_city', 'AttractionCityId',\n",
      "       'AttractionTypeId', 'AvgRating', 'TotalVisits', 'RatingStd',\n",
      "       'UniqueAttractions', 'VisitModeProp_Business', 'VisitModeProp_Couples',\n",
      "       'VisitModeProp_Family', 'VisitModeProp_Friends', 'VisitModeProp_Solo',\n",
      "       'IsWeekend'],\n",
      "      dtype='object')),\n",
      "                                ('cat', OneHotEncoder(handle_unknown='ignore'),\n",
      "                                 Index(['CityName', 'Attraction', 'AttractionAddress', 'FrequentVisitMode'], dtype='object'))])\n"
     ]
    }
   ],
   "source": [
    "from sklearn.compose import ColumnTransformer\n",
    "from sklearn.pipeline import Pipeline\n",
    "from sklearn.preprocessing import OneHotEncoder, StandardScaler\n",
    "\n",
    "# Separate numerical and categorical features\n",
    "numerical_cols = X_clf.select_dtypes(include=['int64', 'float64']).columns\n",
    "categorical_cols = X_clf.select_dtypes(include=['object', 'string']).columns\n",
    "\n",
    "# Create preprocessing pipeline\n",
    "preprocessor = ColumnTransformer(\n",
    "    transformers=[\n",
    "        ('num', StandardScaler(), numerical_cols),\n",
    "        ('cat', OneHotEncoder(handle_unknown='ignore'), categorical_cols)\n",
    "    ])\n",
    "\n",
    "# Verify pipeline\n",
    "print(\"Preprocessor structure:\", preprocessor)"
   ]
  },
  {
   "cell_type": "markdown",
   "metadata": {},
   "source": [
    "5. Complete Corrected Classification Workflow\n"
   ]
  },
  {
   "cell_type": "code",
   "execution_count": 90,
   "metadata": {},
   "outputs": [
    {
     "name": "stdout",
     "output_type": "stream",
     "text": [
      "Missing values in X_train_clf:\n",
      "RatingStd                                        18325\n",
      "UserId                                               0\n",
      "VisitYear                                            0\n",
      "VisitMonth                                           0\n",
      "TransactionId                                        0\n",
      "RegionId                                             0\n",
      "CountryId_user                                       0\n",
      "CityId                                               0\n",
      "Country_freq_encoded                                 0\n",
      "Continent_1                                          0\n",
      "Continent_2                                          0\n",
      "Continent_3                                          0\n",
      "Continent_4                                          0\n",
      "Continent_5                                          0\n",
      "CityName                                             0\n",
      "CountryId_city                                       0\n",
      "AttractionCityId                                     0\n",
      "AttractionTypeId                                     0\n",
      "Attraction                                           0\n",
      "AttractionAddress                                    0\n",
      "AttractionId                                         0\n",
      "VisitModeId                                          0\n",
      "AvgRating                                            0\n",
      "TotalVisits                                          0\n",
      "FrequentVisitMode                                    0\n",
      "UniqueAttractions                                    0\n",
      "VisitModeProp_Business                               0\n",
      "VisitModeProp_Couples                                0\n",
      "VisitModeProp_Family                                 0\n",
      "VisitModeProp_Friends                                0\n",
      "VisitModeProp_Solo                                   0\n",
      "AttractionType_Ballets                               0\n",
      "AttractionType_Beaches                               0\n",
      "AttractionType_Caverns & Caves                       0\n",
      "AttractionType_Flea & Street Markets                 0\n",
      "AttractionType_Historic Sites                        0\n",
      "AttractionType_History Museums                       0\n",
      "AttractionType_National Parks                        0\n",
      "AttractionType_Nature & Wildlife Areas               0\n",
      "AttractionType_Neighborhoods                         0\n",
      "AttractionType_Points Of Interest & Landmarks        0\n",
      "AttractionType_Religious Sites                       0\n",
      "AttractionType_Spas                                  0\n",
      "AttractionType_Speciality Museums                    0\n",
      "AttractionType_Volcanos                              0\n",
      "AttractionType_Water Parks                           0\n",
      "AttractionType_Waterfalls                            0\n",
      "ContinentId_2                                        0\n",
      "ContinentId_3                                        0\n",
      "ContinentId_4                                        0\n",
      "ContinentId_5                                        0\n",
      "VisitDayOfWeek                                       0\n",
      "IsWeekend                                            0\n",
      "dtype: int64\n",
      "\n",
      "Missing values in y_train_clf: 0\n"
     ]
    }
   ],
   "source": [
    "from sklearn.model_selection import train_test_split\n",
    "\n",
    "# Define features and target for classification\n",
    "X_clf = merged_df.drop(['VisitMode_x', 'Rating', 'VisitDate', *visit_mode_cols], axis=1)\n",
    "y_clf = merged_df['VisitMode_x']\n",
    "\n",
    "# Perform train-test split\n",
    "X_train_clf, X_test_clf, y_train_clf, y_test_clf = train_test_split(\n",
    "\tX_clf, y_clf, test_size=0.2, random_state=42\n",
    ")\n",
    "\n",
    "# Check for missing values\n",
    "print(\"Missing values in X_train_clf:\")\n",
    "print(X_train_clf.isna().sum().sort_values(ascending=False))\n",
    "\n",
    "# Check for missing values in y_train_clf\n",
    "print(\"\\nMissing values in y_train_clf:\", pd.Series(y_train_clf).isna().sum())"
   ]
  },
  {
   "cell_type": "code",
   "execution_count": 91,
   "metadata": {},
   "outputs": [
    {
     "name": "stdout",
     "output_type": "stream",
     "text": [
      "Preprocessor structure:\n",
      "ColumnTransformer(transformers=[('num',\n",
      "                                 Pipeline(steps=[('imputer',\n",
      "                                                  SimpleImputer(strategy='median')),\n",
      "                                                 ('scaler', StandardScaler())]),\n",
      "                                 Index(['TransactionId', 'UserId', 'AttractionId', 'RegionId', 'CountryId_user',\n",
      "       'CityId', 'Country_freq_encoded', 'CountryId_city', 'AttractionCityId',\n",
      "       'AttractionTypeId', 'VisitModeId', 'AvgRating', 'TotalVisits',\n",
      "       'RatingStd', 'Uniqu..._Business',\n",
      "       'VisitModeProp_Couples', 'VisitModeProp_Family',\n",
      "       'VisitModeProp_Friends', 'VisitModeProp_Solo', 'IsWeekend'],\n",
      "      dtype='object')),\n",
      "                                ('cat',\n",
      "                                 Pipeline(steps=[('imputer',\n",
      "                                                  SimpleImputer(strategy='most_frequent')),\n",
      "                                                 ('onehot',\n",
      "                                                  OneHotEncoder(handle_unknown='ignore'))]),\n",
      "                                 Index(['CityName', 'Attraction', 'AttractionAddress', 'FrequentVisitMode'], dtype='object'))])\n"
     ]
    }
   ],
   "source": [
    "#Create Robust Preprocessing Pipeline\n",
    "from sklearn.impute import SimpleImputer\n",
    "from sklearn.compose import ColumnTransformer\n",
    "from sklearn.pipeline import Pipeline\n",
    "from sklearn.preprocessing import OneHotEncoder, StandardScaler\n",
    "\n",
    "# Separate numerical and categorical features\n",
    "numerical_cols = X_clf.select_dtypes(include=['int64', 'float64']).columns\n",
    "categorical_cols = X_clf.select_dtypes(include=['object', 'string']).columns\n",
    "\n",
    "# Create preprocessing pipelines\n",
    "numerical_transformer = Pipeline(steps=[\n",
    "    ('imputer', SimpleImputer(strategy='median')),\n",
    "    ('scaler', StandardScaler())\n",
    "])\n",
    "\n",
    "categorical_transformer = Pipeline(steps=[\n",
    "    ('imputer', SimpleImputer(strategy='most_frequent')),\n",
    "    ('onehot', OneHotEncoder(handle_unknown='ignore'))\n",
    "])\n",
    "\n",
    "preprocessor = ColumnTransformer(\n",
    "    transformers=[\n",
    "        ('num', numerical_transformer, numerical_cols),\n",
    "        ('cat', categorical_transformer, categorical_cols)\n",
    "    ])\n",
    "\n",
    "# Verify pipeline\n",
    "print(\"Preprocessor structure:\")\n",
    "print(preprocessor)"
   ]
  },
  {
   "cell_type": "code",
   "execution_count": 92,
   "metadata": {},
   "outputs": [
    {
     "name": "stdout",
     "output_type": "stream",
     "text": [
      "\n",
      "=== Random Forest ===\n",
      "Error with Random Forest: object of type 'numpy.int64' has no len()\n",
      "\n",
      "=== XGBoost ===\n",
      "Error with XGBoost: Invalid classes inferred from unique values of `y`.  Expected: [0 1 2 3 4], got [1 2 3 4 5]\n",
      "\n",
      "=== LightGBM ===\n",
      "[LightGBM] [Info] Auto-choosing row-wise multi-threading, the overhead of testing was 0.001735 seconds.\n",
      "You can set `force_row_wise=true` to remove the overhead.\n",
      "And if memory is not enough, you can set `force_col_wise=true`.\n",
      "[LightGBM] [Info] Total Bins 2462\n",
      "[LightGBM] [Info] Number of data points in the train set: 42337, number of used features: 345\n",
      "[LightGBM] [Info] Start training from score -4.463101\n",
      "[LightGBM] [Info] Start training from score -0.896112\n",
      "[LightGBM] [Info] Start training from score -1.242587\n",
      "[LightGBM] [Info] Start training from score -1.576151\n",
      "[LightGBM] [Info] Start training from score -2.466117\n",
      "[LightGBM] [Warning] No further splits with positive gain, best gain: -inf\n",
      "[LightGBM] [Warning] No further splits with positive gain, best gain: -inf\n",
      "[LightGBM] [Warning] No further splits with positive gain, best gain: -inf\n",
      "[LightGBM] [Warning] No further splits with positive gain, best gain: -inf\n",
      "[LightGBM] [Warning] No further splits with positive gain, best gain: -inf\n",
      "[LightGBM] [Warning] No further splits with positive gain, best gain: -inf\n",
      "[LightGBM] [Warning] No further splits with positive gain, best gain: -inf\n",
      "[LightGBM] [Warning] No further splits with positive gain, best gain: -inf\n",
      "[LightGBM] [Warning] No further splits with positive gain, best gain: -inf\n",
      "[LightGBM] [Warning] No further splits with positive gain, best gain: -inf\n",
      "[LightGBM] [Warning] No further splits with positive gain, best gain: -inf\n",
      "[LightGBM] [Warning] No further splits with positive gain, best gain: -inf\n",
      "[LightGBM] [Warning] No further splits with positive gain, best gain: -inf\n",
      "[LightGBM] [Warning] No further splits with positive gain, best gain: -inf\n",
      "[LightGBM] [Warning] No further splits with positive gain, best gain: -inf\n",
      "[LightGBM] [Warning] No further splits with positive gain, best gain: -inf\n",
      "[LightGBM] [Warning] No further splits with positive gain, best gain: -inf\n",
      "[LightGBM] [Warning] No further splits with positive gain, best gain: -inf\n",
      "[LightGBM] [Warning] No further splits with positive gain, best gain: -inf\n",
      "[LightGBM] [Warning] No further splits with positive gain, best gain: -inf\n",
      "[LightGBM] [Warning] No further splits with positive gain, best gain: -inf\n",
      "[LightGBM] [Warning] No further splits with positive gain, best gain: -inf\n",
      "[LightGBM] [Warning] No further splits with positive gain, best gain: -inf\n",
      "[LightGBM] [Warning] No further splits with positive gain, best gain: -inf\n",
      "[LightGBM] [Warning] No further splits with positive gain, best gain: -inf\n",
      "[LightGBM] [Warning] No further splits with positive gain, best gain: -inf\n",
      "[LightGBM] [Warning] No further splits with positive gain, best gain: -inf\n",
      "[LightGBM] [Warning] No further splits with positive gain, best gain: -inf\n",
      "[LightGBM] [Warning] No further splits with positive gain, best gain: -inf\n",
      "[LightGBM] [Warning] No further splits with positive gain, best gain: -inf\n",
      "[LightGBM] [Warning] No further splits with positive gain, best gain: -inf\n",
      "[LightGBM] [Warning] No further splits with positive gain, best gain: -inf\n",
      "[LightGBM] [Warning] No further splits with positive gain, best gain: -inf\n",
      "[LightGBM] [Warning] No further splits with positive gain, best gain: -inf\n",
      "[LightGBM] [Warning] No further splits with positive gain, best gain: -inf\n",
      "[LightGBM] [Warning] No further splits with positive gain, best gain: -inf\n",
      "[LightGBM] [Warning] No further splits with positive gain, best gain: -inf\n",
      "[LightGBM] [Warning] No further splits with positive gain, best gain: -inf\n",
      "[LightGBM] [Warning] No further splits with positive gain, best gain: -inf\n",
      "[LightGBM] [Warning] No further splits with positive gain, best gain: -inf\n",
      "[LightGBM] [Warning] No further splits with positive gain, best gain: -inf\n",
      "[LightGBM] [Warning] No further splits with positive gain, best gain: -inf\n",
      "[LightGBM] [Warning] No further splits with positive gain, best gain: -inf\n",
      "[LightGBM] [Warning] No further splits with positive gain, best gain: -inf\n",
      "[LightGBM] [Warning] No further splits with positive gain, best gain: -inf\n",
      "[LightGBM] [Warning] No further splits with positive gain, best gain: -inf\n",
      "[LightGBM] [Warning] No further splits with positive gain, best gain: -inf\n",
      "[LightGBM] [Warning] No further splits with positive gain, best gain: -inf\n",
      "[LightGBM] [Warning] No further splits with positive gain, best gain: -inf\n",
      "[LightGBM] [Warning] No further splits with positive gain, best gain: -inf\n",
      "[LightGBM] [Warning] No further splits with positive gain, best gain: -inf\n",
      "[LightGBM] [Warning] No further splits with positive gain, best gain: -inf\n",
      "[LightGBM] [Warning] No further splits with positive gain, best gain: -inf\n",
      "[LightGBM] [Warning] No further splits with positive gain, best gain: -inf\n",
      "[LightGBM] [Warning] No further splits with positive gain, best gain: -inf\n",
      "[LightGBM] [Warning] No further splits with positive gain, best gain: -inf\n",
      "[LightGBM] [Warning] No further splits with positive gain, best gain: -inf\n",
      "[LightGBM] [Warning] No further splits with positive gain, best gain: -inf\n",
      "[LightGBM] [Warning] No further splits with positive gain, best gain: -inf\n",
      "[LightGBM] [Warning] No further splits with positive gain, best gain: -inf\n",
      "[LightGBM] [Warning] No further splits with positive gain, best gain: -inf\n",
      "[LightGBM] [Warning] No further splits with positive gain, best gain: -inf\n",
      "[LightGBM] [Warning] No further splits with positive gain, best gain: -inf\n",
      "[LightGBM] [Warning] No further splits with positive gain, best gain: -inf\n",
      "[LightGBM] [Warning] No further splits with positive gain, best gain: -inf\n",
      "[LightGBM] [Warning] No further splits with positive gain, best gain: -inf\n",
      "[LightGBM] [Warning] No further splits with positive gain, best gain: -inf\n",
      "[LightGBM] [Warning] No further splits with positive gain, best gain: -inf\n",
      "[LightGBM] [Warning] No further splits with positive gain, best gain: -inf\n",
      "[LightGBM] [Warning] No further splits with positive gain, best gain: -inf\n",
      "[LightGBM] [Warning] No further splits with positive gain, best gain: -inf\n",
      "[LightGBM] [Warning] No further splits with positive gain, best gain: -inf\n",
      "[LightGBM] [Warning] No further splits with positive gain, best gain: -inf\n",
      "[LightGBM] [Warning] No further splits with positive gain, best gain: -inf\n",
      "[LightGBM] [Warning] No further splits with positive gain, best gain: -inf\n",
      "[LightGBM] [Warning] No further splits with positive gain, best gain: -inf\n",
      "[LightGBM] [Warning] No further splits with positive gain, best gain: -inf\n",
      "[LightGBM] [Warning] No further splits with positive gain, best gain: -inf\n",
      "[LightGBM] [Warning] No further splits with positive gain, best gain: -inf\n",
      "[LightGBM] [Warning] No further splits with positive gain, best gain: -inf\n",
      "[LightGBM] [Warning] No further splits with positive gain, best gain: -inf\n",
      "[LightGBM] [Warning] No further splits with positive gain, best gain: -inf\n",
      "[LightGBM] [Warning] No further splits with positive gain, best gain: -inf\n",
      "[LightGBM] [Warning] No further splits with positive gain, best gain: -inf\n",
      "[LightGBM] [Warning] No further splits with positive gain, best gain: -inf\n",
      "[LightGBM] [Warning] No further splits with positive gain, best gain: -inf\n",
      "[LightGBM] [Warning] No further splits with positive gain, best gain: -inf\n",
      "[LightGBM] [Warning] No further splits with positive gain, best gain: -inf\n",
      "[LightGBM] [Warning] No further splits with positive gain, best gain: -inf\n",
      "[LightGBM] [Warning] No further splits with positive gain, best gain: -inf\n",
      "[LightGBM] [Warning] No further splits with positive gain, best gain: -inf\n",
      "[LightGBM] [Warning] No further splits with positive gain, best gain: -inf\n",
      "[LightGBM] [Warning] No further splits with positive gain, best gain: -inf\n",
      "[LightGBM] [Warning] No further splits with positive gain, best gain: -inf\n",
      "[LightGBM] [Warning] No further splits with positive gain, best gain: -inf\n",
      "[LightGBM] [Warning] No further splits with positive gain, best gain: -inf\n",
      "[LightGBM] [Warning] No further splits with positive gain, best gain: -inf\n",
      "[LightGBM] [Warning] No further splits with positive gain, best gain: -inf\n",
      "[LightGBM] [Warning] No further splits with positive gain, best gain: -inf\n",
      "[LightGBM] [Warning] No further splits with positive gain, best gain: -inf\n",
      "[LightGBM] [Warning] No further splits with positive gain, best gain: -inf\n",
      "[LightGBM] [Warning] No further splits with positive gain, best gain: -inf\n",
      "[LightGBM] [Warning] No further splits with positive gain, best gain: -inf\n",
      "[LightGBM] [Warning] No further splits with positive gain, best gain: -inf\n",
      "[LightGBM] [Warning] No further splits with positive gain, best gain: -inf\n",
      "[LightGBM] [Warning] No further splits with positive gain, best gain: -inf\n",
      "[LightGBM] [Warning] No further splits with positive gain, best gain: -inf\n",
      "[LightGBM] [Warning] No further splits with positive gain, best gain: -inf\n",
      "[LightGBM] [Warning] No further splits with positive gain, best gain: -inf\n",
      "[LightGBM] [Warning] No further splits with positive gain, best gain: -inf\n",
      "[LightGBM] [Warning] No further splits with positive gain, best gain: -inf\n",
      "[LightGBM] [Warning] No further splits with positive gain, best gain: -inf\n",
      "[LightGBM] [Warning] No further splits with positive gain, best gain: -inf\n",
      "[LightGBM] [Warning] No further splits with positive gain, best gain: -inf\n",
      "[LightGBM] [Warning] No further splits with positive gain, best gain: -inf\n",
      "[LightGBM] [Warning] No further splits with positive gain, best gain: -inf\n",
      "[LightGBM] [Warning] No further splits with positive gain, best gain: -inf\n",
      "[LightGBM] [Warning] No further splits with positive gain, best gain: -inf\n",
      "[LightGBM] [Warning] No further splits with positive gain, best gain: -inf\n",
      "[LightGBM] [Warning] No further splits with positive gain, best gain: -inf\n",
      "[LightGBM] [Warning] No further splits with positive gain, best gain: -inf\n",
      "[LightGBM] [Warning] No further splits with positive gain, best gain: -inf\n",
      "[LightGBM] [Warning] No further splits with positive gain, best gain: -inf\n",
      "[LightGBM] [Warning] No further splits with positive gain, best gain: -inf\n",
      "[LightGBM] [Warning] No further splits with positive gain, best gain: -inf\n",
      "[LightGBM] [Warning] No further splits with positive gain, best gain: -inf\n",
      "[LightGBM] [Warning] No further splits with positive gain, best gain: -inf\n",
      "[LightGBM] [Warning] No further splits with positive gain, best gain: -inf\n",
      "[LightGBM] [Warning] No further splits with positive gain, best gain: -inf\n",
      "[LightGBM] [Warning] No further splits with positive gain, best gain: -inf\n",
      "[LightGBM] [Warning] No further splits with positive gain, best gain: -inf\n",
      "[LightGBM] [Warning] No further splits with positive gain, best gain: -inf\n",
      "[LightGBM] [Warning] No further splits with positive gain, best gain: -inf\n",
      "[LightGBM] [Warning] No further splits with positive gain, best gain: -inf\n",
      "[LightGBM] [Warning] No further splits with positive gain, best gain: -inf\n",
      "[LightGBM] [Warning] No further splits with positive gain, best gain: -inf\n",
      "[LightGBM] [Warning] No further splits with positive gain, best gain: -inf\n",
      "[LightGBM] [Warning] No further splits with positive gain, best gain: -inf\n",
      "[LightGBM] [Warning] No further splits with positive gain, best gain: -inf\n",
      "[LightGBM] [Warning] No further splits with positive gain, best gain: -inf\n",
      "[LightGBM] [Warning] No further splits with positive gain, best gain: -inf\n",
      "[LightGBM] [Warning] No further splits with positive gain, best gain: -inf\n",
      "[LightGBM] [Warning] No further splits with positive gain, best gain: -inf\n",
      "[LightGBM] [Warning] No further splits with positive gain, best gain: -inf\n",
      "[LightGBM] [Warning] No further splits with positive gain, best gain: -inf\n",
      "[LightGBM] [Warning] No further splits with positive gain, best gain: -inf\n",
      "[LightGBM] [Warning] No further splits with positive gain, best gain: -inf\n",
      "[LightGBM] [Warning] No further splits with positive gain, best gain: -inf\n",
      "[LightGBM] [Warning] No further splits with positive gain, best gain: -inf\n",
      "[LightGBM] [Warning] No further splits with positive gain, best gain: -inf\n",
      "[LightGBM] [Warning] No further splits with positive gain, best gain: -inf\n",
      "[LightGBM] [Warning] No further splits with positive gain, best gain: -inf\n",
      "[LightGBM] [Warning] No further splits with positive gain, best gain: -inf\n",
      "[LightGBM] [Warning] No further splits with positive gain, best gain: -inf\n",
      "[LightGBM] [Warning] No further splits with positive gain, best gain: -inf\n",
      "Error with LightGBM: object of type 'numpy.int64' has no len()\n"
     ]
    },
    {
     "name": "stderr",
     "output_type": "stream",
     "text": [
      "d:\\Projects\\Guvi_Project4\\.venv\\lib\\site-packages\\sklearn\\utils\\validation.py:2739: UserWarning: X does not have valid feature names, but LGBMClassifier was fitted with feature names\n",
      "  warnings.warn(\n"
     ]
    }
   ],
   "source": [
    "#Update Model Pipelines with Imputation\n",
    "\n",
    "\n",
    "from sklearn.pipeline import make_pipeline\n",
    "\n",
    "# Update models with complete preprocessing\n",
    "clf_models = {\n",
    "    \"Random Forest\": make_pipeline(preprocessor, RandomForestClassifier(random_state=42)),\n",
    "    \"XGBoost\": make_pipeline(preprocessor, XGBClassifier(random_state=42, enable_categorical=True)),\n",
    "    \"LightGBM\": make_pipeline(preprocessor, LGBMClassifier(random_state=42))\n",
    "}\n",
    "\n",
    "# Train and evaluate\n",
    "for name, pipeline in clf_models.items():\n",
    "    print(f\"\\n=== {name} ===\")\n",
    "    try:\n",
    "        pipeline.fit(X_train_clf, y_train_clf)\n",
    "        y_pred = pipeline.predict(X_test_clf)\n",
    "        \n",
    "        print(classification_report(\n",
    "            y_test_clf, \n",
    "            y_pred, \n",
    "            target_names=le.classes_\n",
    "        ))\n",
    "        \n",
    "        # Confusion matrix\n",
    "        cm = confusion_matrix(y_test_clf, y_pred)\n",
    "        plt.figure(figsize=(8,6))\n",
    "        sns.heatmap(cm, annot=True, fmt='d', \n",
    "                    xticklabels=le.classes_,\n",
    "                    yticklabels=le.classes_)\n",
    "        plt.title(f'{name} Confusion Matrix')\n",
    "        plt.ylabel('True Label')\n",
    "        plt.xlabel('Predicted Label')\n",
    "        plt.show()\n",
    "        \n",
    "    except Exception as e:\n",
    "        print(f\"Error with {name}: {str(e)}\")"
   ]
  },
  {
   "cell_type": "code",
   "execution_count": 83,
   "metadata": {},
   "outputs": [
    {
     "name": "stdout",
     "output_type": "stream",
     "text": [
      "\n",
      "=== Random Forest ===\n",
      "Error with Random Forest: object of type 'numpy.int64' has no len()\n",
      "\n",
      "=== XGBoost ===\n",
      "Error with XGBoost: object of type 'numpy.int64' has no len()\n",
      "\n",
      "=== LightGBM ===\n",
      "[LightGBM] [Info] Auto-choosing row-wise multi-threading, the overhead of testing was 0.002166 seconds.\n",
      "You can set `force_row_wise=true` to remove the overhead.\n",
      "And if memory is not enough, you can set `force_col_wise=true`.\n",
      "[LightGBM] [Info] Total Bins 2462\n",
      "[LightGBM] [Info] Number of data points in the train set: 42337, number of used features: 345\n",
      "[LightGBM] [Info] Start training from score -4.463101\n",
      "[LightGBM] [Info] Start training from score -0.896112\n",
      "[LightGBM] [Info] Start training from score -1.242587\n",
      "[LightGBM] [Info] Start training from score -1.576151\n",
      "[LightGBM] [Info] Start training from score -2.466117\n",
      "[LightGBM] [Warning] No further splits with positive gain, best gain: -inf\n",
      "[LightGBM] [Warning] No further splits with positive gain, best gain: -inf\n",
      "[LightGBM] [Warning] No further splits with positive gain, best gain: -inf\n",
      "[LightGBM] [Warning] No further splits with positive gain, best gain: -inf\n",
      "[LightGBM] [Warning] No further splits with positive gain, best gain: -inf\n",
      "[LightGBM] [Warning] No further splits with positive gain, best gain: -inf\n",
      "[LightGBM] [Warning] No further splits with positive gain, best gain: -inf\n",
      "[LightGBM] [Warning] No further splits with positive gain, best gain: -inf\n",
      "[LightGBM] [Warning] No further splits with positive gain, best gain: -inf\n",
      "[LightGBM] [Warning] No further splits with positive gain, best gain: -inf\n",
      "[LightGBM] [Warning] No further splits with positive gain, best gain: -inf\n",
      "[LightGBM] [Warning] No further splits with positive gain, best gain: -inf\n",
      "[LightGBM] [Warning] No further splits with positive gain, best gain: -inf\n",
      "[LightGBM] [Warning] No further splits with positive gain, best gain: -inf\n",
      "[LightGBM] [Warning] No further splits with positive gain, best gain: -inf\n",
      "[LightGBM] [Warning] No further splits with positive gain, best gain: -inf\n",
      "[LightGBM] [Warning] No further splits with positive gain, best gain: -inf\n",
      "[LightGBM] [Warning] No further splits with positive gain, best gain: -inf\n",
      "[LightGBM] [Warning] No further splits with positive gain, best gain: -inf\n",
      "[LightGBM] [Warning] No further splits with positive gain, best gain: -inf\n",
      "[LightGBM] [Warning] No further splits with positive gain, best gain: -inf\n",
      "[LightGBM] [Warning] No further splits with positive gain, best gain: -inf\n",
      "[LightGBM] [Warning] No further splits with positive gain, best gain: -inf\n",
      "[LightGBM] [Warning] No further splits with positive gain, best gain: -inf\n",
      "[LightGBM] [Warning] No further splits with positive gain, best gain: -inf\n",
      "[LightGBM] [Warning] No further splits with positive gain, best gain: -inf\n",
      "[LightGBM] [Warning] No further splits with positive gain, best gain: -inf\n",
      "[LightGBM] [Warning] No further splits with positive gain, best gain: -inf\n",
      "[LightGBM] [Warning] No further splits with positive gain, best gain: -inf\n",
      "[LightGBM] [Warning] No further splits with positive gain, best gain: -inf\n",
      "[LightGBM] [Warning] No further splits with positive gain, best gain: -inf\n",
      "[LightGBM] [Warning] No further splits with positive gain, best gain: -inf\n",
      "[LightGBM] [Warning] No further splits with positive gain, best gain: -inf\n",
      "[LightGBM] [Warning] No further splits with positive gain, best gain: -inf\n",
      "[LightGBM] [Warning] No further splits with positive gain, best gain: -inf\n",
      "[LightGBM] [Warning] No further splits with positive gain, best gain: -inf\n",
      "[LightGBM] [Warning] No further splits with positive gain, best gain: -inf\n",
      "[LightGBM] [Warning] No further splits with positive gain, best gain: -inf\n",
      "[LightGBM] [Warning] No further splits with positive gain, best gain: -inf\n",
      "[LightGBM] [Warning] No further splits with positive gain, best gain: -inf\n",
      "[LightGBM] [Warning] No further splits with positive gain, best gain: -inf\n",
      "[LightGBM] [Warning] No further splits with positive gain, best gain: -inf\n",
      "[LightGBM] [Warning] No further splits with positive gain, best gain: -inf\n",
      "[LightGBM] [Warning] No further splits with positive gain, best gain: -inf\n",
      "[LightGBM] [Warning] No further splits with positive gain, best gain: -inf\n",
      "[LightGBM] [Warning] No further splits with positive gain, best gain: -inf\n",
      "[LightGBM] [Warning] No further splits with positive gain, best gain: -inf\n",
      "[LightGBM] [Warning] No further splits with positive gain, best gain: -inf\n",
      "[LightGBM] [Warning] No further splits with positive gain, best gain: -inf\n",
      "[LightGBM] [Warning] No further splits with positive gain, best gain: -inf\n",
      "[LightGBM] [Warning] No further splits with positive gain, best gain: -inf\n",
      "[LightGBM] [Warning] No further splits with positive gain, best gain: -inf\n",
      "[LightGBM] [Warning] No further splits with positive gain, best gain: -inf\n",
      "[LightGBM] [Warning] No further splits with positive gain, best gain: -inf\n",
      "[LightGBM] [Warning] No further splits with positive gain, best gain: -inf\n",
      "[LightGBM] [Warning] No further splits with positive gain, best gain: -inf\n",
      "[LightGBM] [Warning] No further splits with positive gain, best gain: -inf\n",
      "[LightGBM] [Warning] No further splits with positive gain, best gain: -inf\n",
      "[LightGBM] [Warning] No further splits with positive gain, best gain: -inf\n",
      "[LightGBM] [Warning] No further splits with positive gain, best gain: -inf\n",
      "[LightGBM] [Warning] No further splits with positive gain, best gain: -inf\n",
      "[LightGBM] [Warning] No further splits with positive gain, best gain: -inf\n",
      "[LightGBM] [Warning] No further splits with positive gain, best gain: -inf\n",
      "[LightGBM] [Warning] No further splits with positive gain, best gain: -inf\n",
      "[LightGBM] [Warning] No further splits with positive gain, best gain: -inf\n",
      "[LightGBM] [Warning] No further splits with positive gain, best gain: -inf\n",
      "[LightGBM] [Warning] No further splits with positive gain, best gain: -inf\n",
      "[LightGBM] [Warning] No further splits with positive gain, best gain: -inf\n",
      "[LightGBM] [Warning] No further splits with positive gain, best gain: -inf\n",
      "[LightGBM] [Warning] No further splits with positive gain, best gain: -inf\n",
      "[LightGBM] [Warning] No further splits with positive gain, best gain: -inf\n",
      "[LightGBM] [Warning] No further splits with positive gain, best gain: -inf\n",
      "[LightGBM] [Warning] No further splits with positive gain, best gain: -inf\n",
      "[LightGBM] [Warning] No further splits with positive gain, best gain: -inf\n",
      "[LightGBM] [Warning] No further splits with positive gain, best gain: -inf\n",
      "[LightGBM] [Warning] No further splits with positive gain, best gain: -inf\n",
      "[LightGBM] [Warning] No further splits with positive gain, best gain: -inf\n",
      "[LightGBM] [Warning] No further splits with positive gain, best gain: -inf\n",
      "[LightGBM] [Warning] No further splits with positive gain, best gain: -inf\n",
      "[LightGBM] [Warning] No further splits with positive gain, best gain: -inf\n",
      "[LightGBM] [Warning] No further splits with positive gain, best gain: -inf\n",
      "[LightGBM] [Warning] No further splits with positive gain, best gain: -inf\n",
      "[LightGBM] [Warning] No further splits with positive gain, best gain: -inf\n",
      "[LightGBM] [Warning] No further splits with positive gain, best gain: -inf\n",
      "[LightGBM] [Warning] No further splits with positive gain, best gain: -inf\n",
      "[LightGBM] [Warning] No further splits with positive gain, best gain: -inf\n",
      "[LightGBM] [Warning] No further splits with positive gain, best gain: -inf\n",
      "[LightGBM] [Warning] No further splits with positive gain, best gain: -inf\n",
      "[LightGBM] [Warning] No further splits with positive gain, best gain: -inf\n",
      "[LightGBM] [Warning] No further splits with positive gain, best gain: -inf\n",
      "[LightGBM] [Warning] No further splits with positive gain, best gain: -inf\n",
      "[LightGBM] [Warning] No further splits with positive gain, best gain: -inf\n",
      "[LightGBM] [Warning] No further splits with positive gain, best gain: -inf\n",
      "[LightGBM] [Warning] No further splits with positive gain, best gain: -inf\n",
      "[LightGBM] [Warning] No further splits with positive gain, best gain: -inf\n",
      "[LightGBM] [Warning] No further splits with positive gain, best gain: -inf\n",
      "[LightGBM] [Warning] No further splits with positive gain, best gain: -inf\n",
      "[LightGBM] [Warning] No further splits with positive gain, best gain: -inf\n",
      "[LightGBM] [Warning] No further splits with positive gain, best gain: -inf\n",
      "[LightGBM] [Warning] No further splits with positive gain, best gain: -inf\n",
      "[LightGBM] [Warning] No further splits with positive gain, best gain: -inf\n",
      "[LightGBM] [Warning] No further splits with positive gain, best gain: -inf\n",
      "[LightGBM] [Warning] No further splits with positive gain, best gain: -inf\n",
      "[LightGBM] [Warning] No further splits with positive gain, best gain: -inf\n",
      "[LightGBM] [Warning] No further splits with positive gain, best gain: -inf\n",
      "[LightGBM] [Warning] No further splits with positive gain, best gain: -inf\n",
      "[LightGBM] [Warning] No further splits with positive gain, best gain: -inf\n",
      "[LightGBM] [Warning] No further splits with positive gain, best gain: -inf\n",
      "[LightGBM] [Warning] No further splits with positive gain, best gain: -inf\n",
      "[LightGBM] [Warning] No further splits with positive gain, best gain: -inf\n",
      "[LightGBM] [Warning] No further splits with positive gain, best gain: -inf\n",
      "[LightGBM] [Warning] No further splits with positive gain, best gain: -inf\n",
      "[LightGBM] [Warning] No further splits with positive gain, best gain: -inf\n",
      "[LightGBM] [Warning] No further splits with positive gain, best gain: -inf\n",
      "[LightGBM] [Warning] No further splits with positive gain, best gain: -inf\n",
      "[LightGBM] [Warning] No further splits with positive gain, best gain: -inf\n",
      "[LightGBM] [Warning] No further splits with positive gain, best gain: -inf\n",
      "[LightGBM] [Warning] No further splits with positive gain, best gain: -inf\n",
      "[LightGBM] [Warning] No further splits with positive gain, best gain: -inf\n",
      "[LightGBM] [Warning] No further splits with positive gain, best gain: -inf\n",
      "[LightGBM] [Warning] No further splits with positive gain, best gain: -inf\n",
      "[LightGBM] [Warning] No further splits with positive gain, best gain: -inf\n",
      "[LightGBM] [Warning] No further splits with positive gain, best gain: -inf\n",
      "[LightGBM] [Warning] No further splits with positive gain, best gain: -inf\n",
      "[LightGBM] [Warning] No further splits with positive gain, best gain: -inf\n",
      "[LightGBM] [Warning] No further splits with positive gain, best gain: -inf\n",
      "[LightGBM] [Warning] No further splits with positive gain, best gain: -inf\n",
      "[LightGBM] [Warning] No further splits with positive gain, best gain: -inf\n",
      "[LightGBM] [Warning] No further splits with positive gain, best gain: -inf\n",
      "[LightGBM] [Warning] No further splits with positive gain, best gain: -inf\n",
      "[LightGBM] [Warning] No further splits with positive gain, best gain: -inf\n",
      "[LightGBM] [Warning] No further splits with positive gain, best gain: -inf\n",
      "[LightGBM] [Warning] No further splits with positive gain, best gain: -inf\n",
      "[LightGBM] [Warning] No further splits with positive gain, best gain: -inf\n",
      "[LightGBM] [Warning] No further splits with positive gain, best gain: -inf\n",
      "[LightGBM] [Warning] No further splits with positive gain, best gain: -inf\n",
      "[LightGBM] [Warning] No further splits with positive gain, best gain: -inf\n",
      "[LightGBM] [Warning] No further splits with positive gain, best gain: -inf\n",
      "[LightGBM] [Warning] No further splits with positive gain, best gain: -inf\n",
      "[LightGBM] [Warning] No further splits with positive gain, best gain: -inf\n",
      "[LightGBM] [Warning] No further splits with positive gain, best gain: -inf\n",
      "[LightGBM] [Warning] No further splits with positive gain, best gain: -inf\n",
      "[LightGBM] [Warning] No further splits with positive gain, best gain: -inf\n",
      "[LightGBM] [Warning] No further splits with positive gain, best gain: -inf\n",
      "[LightGBM] [Warning] No further splits with positive gain, best gain: -inf\n",
      "[LightGBM] [Warning] No further splits with positive gain, best gain: -inf\n",
      "[LightGBM] [Warning] No further splits with positive gain, best gain: -inf\n",
      "[LightGBM] [Warning] No further splits with positive gain, best gain: -inf\n",
      "[LightGBM] [Warning] No further splits with positive gain, best gain: -inf\n",
      "[LightGBM] [Warning] No further splits with positive gain, best gain: -inf\n",
      "[LightGBM] [Warning] No further splits with positive gain, best gain: -inf\n",
      "[LightGBM] [Warning] No further splits with positive gain, best gain: -inf\n",
      "[LightGBM] [Warning] No further splits with positive gain, best gain: -inf\n",
      "[LightGBM] [Warning] No further splits with positive gain, best gain: -inf\n",
      "[LightGBM] [Warning] No further splits with positive gain, best gain: -inf\n",
      "Error with LightGBM: object of type 'numpy.int64' has no len()\n"
     ]
    },
    {
     "name": "stderr",
     "output_type": "stream",
     "text": [
      "d:\\Projects\\Guvi_Project4\\.venv\\lib\\site-packages\\sklearn\\utils\\validation.py:2739: UserWarning: X does not have valid feature names, but LGBMClassifier was fitted with feature names\n",
      "  warnings.warn(\n"
     ]
    }
   ],
   "source": [
    "#Update Model Pipelines with Imputation\n",
    "\n",
    "\n",
    "from sklearn.pipeline import make_pipeline\n",
    "from sklearn.ensemble import RandomForestClassifier\n",
    "from xgboost import XGBClassifier\n",
    "from lightgbm import LGBMClassifier\n",
    "from sklearn.metrics import classification_report, confusion_matrix\n",
    "\n",
    "# Update models with complete preprocessing\n",
    "clf_models = {\n",
    "    \"Random Forest\": make_pipeline(preprocessor, RandomForestClassifier(random_state=42)),\n",
    "    \"XGBoost\": make_pipeline(preprocessor, XGBClassifier(random_state=42, enable_categorical=True)),\n",
    "    \"LightGBM\": make_pipeline(preprocessor, LGBMClassifier(random_state=42))\n",
    "}\n",
    "\n",
    "# Train and evaluate\n",
    "for name, pipeline in clf_models.items():\n",
    "    print(f\"\\n=== {name} ===\")\n",
    "    try:\n",
    "        pipeline.fit(X_train_clf, y_train_clf)\n",
    "        y_pred = pipeline.predict(X_test_clf)\n",
    "        \n",
    "        print(classification_report(\n",
    "            y_test_clf, \n",
    "            y_pred, \n",
    "            target_names=le.classes_\n",
    "        ))\n",
    "        \n",
    "        # Confusion matrix\n",
    "        cm = confusion_matrix(y_test_clf, y_pred)\n",
    "        plt.figure(figsize=(8,6))\n",
    "        sns.heatmap(cm, annot=True, fmt='d', \n",
    "                    xticklabels=le.classes_,\n",
    "                    yticklabels=le.classes_)\n",
    "        plt.title(f'{name} Confusion Matrix')\n",
    "        plt.ylabel('True Label')\n",
    "        plt.xlabel('Predicted Label')\n",
    "        plt.show()\n",
    "        \n",
    "    except Exception as e:\n",
    "        print(f\"Error with {name}: {str(e)}\")"
   ]
  },
  {
   "cell_type": "markdown",
   "metadata": {},
   "source": [
    "1. Fix Target Variable Encoding:"
   ]
  },
  {
   "cell_type": "code",
   "execution_count": 93,
   "metadata": {},
   "outputs": [],
   "source": [
    "from sklearn.preprocessing import LabelEncoder\n",
    "\n",
    "# Encode target variable starting from 0\n",
    "le = LabelEncoder()\n",
    "y_train_clf_encoded = le.fit_transform(y_train_clf)\n",
    "y_test_clf_encoded = le.transform(y_test_clf)"
   ]
  },
  {
   "cell_type": "markdown",
   "metadata": {},
   "source": [
    "2.Update Pipeline with Proper Feature Handling:"
   ]
  },
  {
   "cell_type": "code",
   "execution_count": 94,
   "metadata": {},
   "outputs": [],
   "source": [
    "# Separate columns more carefully\n",
    "numerical_cols = X_clf.select_dtypes(include=['int', 'float']).columns\n",
    "categorical_cols = X_clf.select_dtypes(include=['object', 'string', 'category']).columns\n",
    "\n",
    "# Ensure all numerical cols are actually numerical\n",
    "numerical_cols = numerical_cols.drop(['VisitModeId', 'AttractionTypeId'], errors='ignore')\n",
    "\n",
    "# Update transformers\n",
    "numerical_transformer = Pipeline(steps=[\n",
    "    ('imputer', SimpleImputer(strategy='median')),\n",
    "    ('scaler', StandardScaler())\n",
    "])\n",
    "\n",
    "categorical_transformer = Pipeline(steps=[\n",
    "    ('imputer', SimpleImputer(strategy='most_frequent')),\n",
    "    ('onehot', OneHotEncoder(handle_unknown='ignore', sparse_output=False))\n",
    "])\n",
    "\n",
    "preprocessor = ColumnTransformer(\n",
    "    transformers=[\n",
    "        ('num', numerical_transformer, numerical_cols),\n",
    "        ('cat', categorical_transformer, categorical_cols)\n",
    "    ])"
   ]
  },
  {
   "cell_type": "markdown",
   "metadata": {},
   "source": [
    "3. Update Model Pipelines:\n"
   ]
  },
  {
   "cell_type": "code",
   "execution_count": 95,
   "metadata": {},
   "outputs": [],
   "source": [
    "from sklearn.ensemble import RandomForestClassifier\n",
    "from xgboost import XGBClassifier\n",
    "from lightgbm import LGBMClassifier\n",
    "\n",
    "clf_models = {\n",
    "    \"Random Forest\": make_pipeline(\n",
    "        preprocessor,\n",
    "        RandomForestClassifier(random_state=42, class_weight='balanced')\n",
    "    ),\n",
    "    \"XGBoost\": make_pipeline(\n",
    "        preprocessor,\n",
    "        XGBClassifier(\n",
    "            random_state=42,\n",
    "            eval_metric='mlogloss',\n",
    "            use_label_encoder=False\n",
    "        )\n",
    "    ),\n",
    "    \"LightGBM\": make_pipeline(\n",
    "        preprocessor,\n",
    "        LGBMClassifier(\n",
    "            random_state=42,\n",
    "            class_weight='balanced'\n",
    "        )\n",
    "    )\n",
    "}"
   ]
  },
  {
   "cell_type": "markdown",
   "metadata": {},
   "source": [
    "4. Train with Encoded Labels:"
   ]
  },
  {
   "cell_type": "code",
   "execution_count": 96,
   "metadata": {},
   "outputs": [
    {
     "name": "stdout",
     "output_type": "stream",
     "text": [
      "\n",
      "=== Random Forest ===\n",
      "Error with Random Forest: object of type 'numpy.int64' has no len()\n",
      "\n",
      "=== XGBoost ===\n"
     ]
    },
    {
     "name": "stderr",
     "output_type": "stream",
     "text": [
      "d:\\Projects\\Guvi_Project4\\.venv\\lib\\site-packages\\xgboost\\training.py:183: UserWarning: [23:31:16] WARNING: C:\\actions-runner\\_work\\xgboost\\xgboost\\src\\learner.cc:738: \n",
      "Parameters: { \"use_label_encoder\" } are not used.\n",
      "\n",
      "  bst.update(dtrain, iteration=i, fobj=obj)\n"
     ]
    },
    {
     "name": "stdout",
     "output_type": "stream",
     "text": [
      "Error with XGBoost: object of type 'numpy.int64' has no len()\n",
      "\n",
      "=== LightGBM ===\n",
      "[LightGBM] [Info] Auto-choosing row-wise multi-threading, the overhead of testing was 0.001958 seconds.\n",
      "You can set `force_row_wise=true` to remove the overhead.\n",
      "And if memory is not enough, you can set `force_col_wise=true`.\n",
      "[LightGBM] [Info] Total Bins 2470\n",
      "[LightGBM] [Info] Number of data points in the train set: 42337, number of used features: 346\n",
      "[LightGBM] [Info] Start training from score -1.609438\n",
      "[LightGBM] [Info] Start training from score -1.609438\n",
      "[LightGBM] [Info] Start training from score -1.609438\n",
      "[LightGBM] [Info] Start training from score -1.609438\n",
      "[LightGBM] [Info] Start training from score -1.609438\n",
      "[LightGBM] [Warning] No further splits with positive gain, best gain: -inf\n",
      "Error with LightGBM: object of type 'numpy.int64' has no len()\n"
     ]
    },
    {
     "name": "stderr",
     "output_type": "stream",
     "text": [
      "d:\\Projects\\Guvi_Project4\\.venv\\lib\\site-packages\\sklearn\\utils\\validation.py:2739: UserWarning: X does not have valid feature names, but LGBMClassifier was fitted with feature names\n",
      "  warnings.warn(\n"
     ]
    }
   ],
   "source": [
    "for name, pipeline in clf_models.items():\n",
    "    print(f\"\\n=== {name} ===\")\n",
    "    try:\n",
    "        pipeline.fit(X_train_clf, y_train_clf_encoded)\n",
    "        y_pred = pipeline.predict(X_test_clf)\n",
    "        y_pred_labels = le.inverse_transform(y_pred)\n",
    "        \n",
    "        print(classification_report(\n",
    "            y_test_clf, \n",
    "            y_pred_labels,\n",
    "            target_names=le.classes_\n",
    "        ))\n",
    "        \n",
    "        # Confusion matrix\n",
    "        cm = confusion_matrix(y_test_clf, y_pred_labels)\n",
    "        plt.figure(figsize=(8,6))\n",
    "        sns.heatmap(cm, annot=True, fmt='d', \n",
    "                    xticklabels=le.classes_,\n",
    "                    yticklabels=le.classes_)\n",
    "        plt.title(f'{name} Confusion Matrix')\n",
    "        plt.ylabel('True Label')\n",
    "        plt.xlabel('Predicted Label')\n",
    "        plt.show()\n",
    "        \n",
    "    except Exception as e:\n",
    "        print(f\"Error with {name}: {str(e)}\")"
   ]
  },
  {
   "cell_type": "code",
   "execution_count": 99,
   "metadata": {},
   "outputs": [
    {
     "name": "stdout",
     "output_type": "stream",
     "text": [
      "Columns containing 'VisitMode': ['VisitMode_x', 'VisitModeId', 'FrequentVisitMode', 'VisitModeProp_Business', 'VisitModeProp_Couples', 'VisitModeProp_Family', 'VisitModeProp_Friends', 'VisitModeProp_Solo', 'VisitMode_y_Couples', 'VisitMode_y_Family', 'VisitMode_y_Friends', 'VisitMode_y_Solo']\n"
     ]
    }
   ],
   "source": [
    "print(\"Columns containing 'VisitMode':\", [col for col in merged_df.columns if 'VisitMode' in col])"
   ]
  },
  {
   "cell_type": "markdown",
   "metadata": {},
   "source": [
    "Solution 1: Use the Original VisitMode from Transaction Data (VisitMode_x)"
   ]
  },
  {
   "cell_type": "code",
   "execution_count": 100,
   "metadata": {},
   "outputs": [
    {
     "name": "stdout",
     "output_type": "stream",
     "text": [
      "Value counts for VisitMode:\n",
      "VisitMode_x\n",
      "2    21617\n",
      "3    15215\n",
      "4    10944\n",
      "5     4523\n",
      "1      623\n",
      "Name: count, dtype: int64\n"
     ]
    }
   ],
   "source": [
    "# Use the original visit mode from transaction data\n",
    "y_clf = merged_df['VisitMode_x']\n",
    "print(\"Value counts for VisitMode:\")\n",
    "print(y_clf.value_counts())"
   ]
  },
  {
   "cell_type": "markdown",
   "metadata": {},
   "source": [
    "Solution 2: Reconstruct from One-Hot Encoded Columns\n"
   ]
  },
  {
   "cell_type": "code",
   "execution_count": 101,
   "metadata": {},
   "outputs": [
    {
     "name": "stdout",
     "output_type": "stream",
     "text": [
      "Value counts for VisitMode:\n",
      "Couples    22240\n",
      "Family     15215\n",
      "Friends    10944\n",
      "Solo        4523\n",
      "Name: count, dtype: int64\n"
     ]
    }
   ],
   "source": [
    "# Reconstruct the visit mode from one-hot encoded columns\n",
    "visit_mode_cols = ['VisitMode_y_Couples', 'VisitMode_y_Family', 'VisitMode_y_Friends', 'VisitMode_y_Solo']\n",
    "y_clf = merged_df[visit_mode_cols].idxmax(axis=1).str.replace('VisitMode_y_', '')\n",
    "print(\"Value counts for VisitMode:\")\n",
    "print(y_clf.value_counts())"
   ]
  },
  {
   "cell_type": "code",
   "execution_count": 103,
   "metadata": {},
   "outputs": [
    {
     "name": "stdout",
     "output_type": "stream",
     "text": [
      "Datetime columns to convert: ['VisitDate']\n"
     ]
    }
   ],
   "source": [
    "datetime_cols = X_clf.select_dtypes(include=['datetime64']).columns\n",
    "print(\"Datetime columns to convert:\", datetime_cols.tolist())"
   ]
  },
  {
   "cell_type": "markdown",
   "metadata": {},
   "source": [
    "Convert datetime columns to numerical features:\n",
    "\n"
   ]
  },
  {
   "cell_type": "code",
   "execution_count": 104,
   "metadata": {},
   "outputs": [],
   "source": [
    "# Convert VisitDate to numerical features\n",
    "if 'VisitDate' in X_clf.columns:\n",
    "    X_clf['VisitYear'] = X_clf['VisitDate'].dt.year\n",
    "    X_clf['VisitMonth'] = X_clf['VisitDate'].dt.month\n",
    "    X_clf['VisitDay'] = X_clf['VisitDate'].dt.day\n",
    "    X_clf = X_clf.drop('VisitDate', axis=1)"
   ]
  },
  {
   "cell_type": "markdown",
   "metadata": {},
   "source": [
    "Complete Fixed Classification Code:"
   ]
  },
  {
   "cell_type": "code",
   "execution_count": 113,
   "metadata": {},
   "outputs": [
    {
     "name": "stdout",
     "output_type": "stream",
     "text": [
      "Unique classes before encoding: ['2' '4' '3' '5' '1']\n",
      "\n",
      "Encoded classes: [(0, '1'), (1, '2'), (2, '3'), (3, '4'), (4, '5')]\n",
      "\n",
      "Classification Report:\n",
      "              precision    recall  f1-score   support\n",
      "\n",
      "           1       0.93      0.28      0.43       135\n",
      "           2       0.54      0.77      0.64      4337\n",
      "           3       0.55      0.50      0.52      2995\n",
      "           4       0.51      0.30      0.37      2190\n",
      "           5       0.60      0.21      0.31       928\n",
      "\n",
      "    accuracy                           0.54     10585\n",
      "   macro avg       0.63      0.41      0.46     10585\n",
      "weighted avg       0.55      0.54      0.52     10585\n",
      "\n"
     ]
    },
    {
     "data": {
      "image/png": "[encoded data removed]",
      "text/plain": [
       "<Figure size 1000x700 with 2 Axes>"
      ]
     },
     "metadata": {},
     "output_type": "display_data"
    }
   ],
   "source": [
    "# 1. Prepare target - ensure string type and handle any missing values\n",
    "y_clf = merged_df['VisitMode_x'].astype(str).fillna('Unknown')\n",
    "\n",
    "# 2. Get unique classes and ensure they're strings\n",
    "unique_classes = y_clf.unique()\n",
    "print(\"Unique classes before encoding:\", unique_classes)\n",
    "\n",
    "# 3. Prepare features - drop unwanted columns\n",
    "X_clf = merged_df.drop(\n",
    "    columns=[\n",
    "        'Rating',\n",
    "        'VisitMode_x', 'VisitModeId', 'FrequentVisitMode',\n",
    "        *[col for col in merged_df.columns if 'VisitModeProp_' in col],\n",
    "        *[col for col in merged_df.columns if 'VisitMode_y_' in col],\n",
    "        'CityName', 'Attraction', 'AttractionAddress'\n",
    "    ]\n",
    ")\n",
    "\n",
    "# 4. Handle datetime columns\n",
    "if 'VisitDate' in X_clf.columns:\n",
    "    X_clf['VisitYear'] = X_clf['VisitDate'].dt.year\n",
    "    X_clf['VisitMonth'] = X_clf['VisitDate'].dt.month\n",
    "    X_clf = X_clf.drop('VisitDate', axis=1)\n",
    "\n",
    "# 5. Convert remaining non-numeric columns\n",
    "non_numeric = X_clf.select_dtypes(exclude=['number']).columns\n",
    "if len(non_numeric) > 0:\n",
    "    X_clf = pd.get_dummies(X_clf, columns=non_numeric)\n",
    "\n",
    "# 6. Classification pipeline\n",
    "from sklearn.preprocessing import LabelEncoder\n",
    "from sklearn.model_selection import train_test_split\n",
    "from sklearn.ensemble import RandomForestClassifier\n",
    "from sklearn.metrics import classification_report\n",
    "\n",
    "# Create and fit label encoder\n",
    "le = LabelEncoder()\n",
    "y_clf_encoded = le.fit_transform(y_clf)\n",
    "\n",
    "# Get the original class names as strings\n",
    "class_names = [str(cls) for cls in le.classes_]\n",
    "print(\"\\nEncoded classes:\", list(zip(range(len(class_names)), class_names)))\n",
    "\n",
    "# Train-test split\n",
    "X_train_clf, X_test_clf, y_train_clf, y_test_clf = train_test_split(\n",
    "    X_clf, y_clf_encoded, test_size=0.2, random_state=42\n",
    ")\n",
    "\n",
    "# Train model\n",
    "clf = RandomForestClassifier(random_state=42)\n",
    "clf.fit(X_train_clf, y_train_clf)\n",
    "\n",
    "# Make predictions\n",
    "y_pred_clf = clf.predict(X_test_clf)\n",
    "\n",
    "# Generate classification report with proper string labels\n",
    "print(\"\\nClassification Report:\")\n",
    "print(classification_report(\n",
    "    y_test_clf, \n",
    "    y_pred_clf, \n",
    "    target_names=class_names\n",
    "))\n",
    "\n",
    "# Print confusion matrix for better interpretation\n",
    "from sklearn.metrics import confusion_matrix\n",
    "import seaborn as sns\n",
    "import matplotlib.pyplot as plt\n",
    "\n",
    "cm = confusion_matrix(y_test_clf, y_pred_clf)\n",
    "plt.figure(figsize=(10, 7))\n",
    "sns.heatmap(cm, annot=True, fmt='d', xticklabels=class_names, yticklabels=class_names)\n",
    "plt.xlabel('Predicted')\n",
    "plt.ylabel('Actual')\n",
    "plt.title('Confusion Matrix')\n",
    "plt.show()"
   ]
  },
  {
   "cell_type": "code",
   "execution_count": 114,
   "metadata": {},
   "outputs": [
    {
     "name": "stdout",
     "output_type": "stream",
     "text": [
      "Unique classes before encoding: ['2' '4' '3' '5' '1']\n",
      "\n",
      "Encoded classes: [(0, '1'), (1, '2'), (2, '3'), (3, '4'), (4, '5')]\n",
      "\n",
      "Classification Report:\n",
      "              precision    recall  f1-score   support\n",
      "\n",
      "           1       0.93      0.28      0.43       135\n",
      "           2       0.54      0.77      0.64      4337\n",
      "           3       0.55      0.50      0.52      2995\n",
      "           4       0.51      0.30      0.37      2190\n",
      "           5       0.60      0.21      0.31       928\n",
      "\n",
      "    accuracy                           0.54     10585\n",
      "   macro avg       0.63      0.41      0.46     10585\n",
      "weighted avg       0.55      0.54      0.52     10585\n",
      "\n"
     ]
    },
    {
     "data": {
      "image/png": "[encoded data removed]",
      "text/plain": [
       "<Figure size 1000x700 with 2 Axes>"
      ]
     },
     "metadata": {},
     "output_type": "display_data"
    }
   ],
   "source": [
    "# 1. Prepare target - ensure string type and handle any missing values\n",
    "y_clf = merged_df['VisitMode_x'].astype(str).fillna('Unknown')\n",
    "\n",
    "# 2. Get unique classes and ensure they're strings\n",
    "unique_classes = y_clf.unique()\n",
    "print(\"Unique classes before encoding:\", unique_classes)\n",
    "\n",
    "# 3. Prepare features - drop unwanted columns\n",
    "X_clf = merged_df.drop(\n",
    "    columns=[\n",
    "        'Rating',\n",
    "        'VisitMode_x', 'VisitModeId', 'FrequentVisitMode',\n",
    "        *[col for col in merged_df.columns if 'VisitModeProp_' in col],\n",
    "        *[col for col in merged_df.columns if 'VisitMode_y_' in col],\n",
    "        'CityName', 'Attraction', 'AttractionAddress'\n",
    "    ]\n",
    ")\n",
    "\n",
    "# 4. Handle datetime columns\n",
    "if 'VisitDate' in X_clf.columns:\n",
    "    X_clf['VisitYear'] = X_clf['VisitDate'].dt.year\n",
    "    X_clf['VisitMonth'] = X_clf['VisitDate'].dt.month\n",
    "    X_clf = X_clf.drop('VisitDate', axis=1)\n",
    "\n",
    "# 5. Convert remaining non-numeric columns\n",
    "non_numeric = X_clf.select_dtypes(exclude=['number']).columns\n",
    "if len(non_numeric) > 0:\n",
    "    X_clf = pd.get_dummies(X_clf, columns=non_numeric)\n",
    "\n",
    "# 6. Classification pipeline\n",
    "from sklearn.preprocessing import LabelEncoder\n",
    "from sklearn.model_selection import train_test_split\n",
    "from sklearn.ensemble import RandomForestClassifier\n",
    "from sklearn.metrics import classification_report\n",
    "\n",
    "# Create and fit label encoder\n",
    "le = LabelEncoder()\n",
    "y_clf_encoded = le.fit_transform(y_clf)\n",
    "\n",
    "# Get the original class names as strings\n",
    "class_names = [str(cls) for cls in le.classes_]\n",
    "print(\"\\nEncoded classes:\", list(zip(range(len(class_names)), class_names)))\n",
    "\n",
    "# Train-test split\n",
    "X_train_clf, X_test_clf, y_train_clf, y_test_clf = train_test_split(\n",
    "    X_clf, y_clf_encoded, test_size=0.2, random_state=42\n",
    ")\n",
    "\n",
    "# Train model\n",
    "clf = RandomForestClassifier(random_state=42)\n",
    "clf.fit(X_train_clf, y_train_clf)\n",
    "\n",
    "# Make predictions\n",
    "y_pred_clf = clf.predict(X_test_clf)\n",
    "\n",
    "# Generate classification report with proper string labels\n",
    "print(\"\\nClassification Report:\")\n",
    "print(classification_report(\n",
    "    y_test_clf, \n",
    "    y_pred_clf, \n",
    "    target_names=class_names\n",
    "))\n",
    "\n",
    "# Print confusion matrix for better interpretation\n",
    "from sklearn.metrics import confusion_matrix\n",
    "import seaborn as sns\n",
    "import matplotlib.pyplot as plt\n",
    "\n",
    "cm = confusion_matrix(y_test_clf, y_pred_clf)\n",
    "plt.figure(figsize=(10, 7))\n",
    "sns.heatmap(cm, annot=True, fmt='d', xticklabels=class_names, yticklabels=class_names)\n",
    "plt.xlabel('Predicted')\n",
    "plt.ylabel('Actual')\n",
    "plt.title('Confusion Matrix')\n",
    "plt.show()"
   ]
  },
  {
   "cell_type": "markdown",
   "metadata": {},
   "source": [
    "1. Advanced Class Imbalance Handling\n"
   ]
  },
  {
   "cell_type": "code",
   "execution_count": 117,
   "metadata": {},
   "outputs": [],
   "source": [
    "from imblearn.ensemble import BalancedRandomForestClassifier\n",
    "\n",
    "# Replace your current classifier with this\n",
    "clf = BalancedRandomForestClassifier(\n",
    "    random_state=42,\n",
    "    n_estimators=200,\n",
    "    max_depth=10,\n",
    "    sampling_strategy='all',  # Resamples all classes to median\n",
    "    replacement=True\n",
    ")"
   ]
  },
  {
   "cell_type": "markdown",
   "metadata": {},
   "source": [
    "2. Cost-Sensitive Learning\n"
   ]
  },
  {
   "cell_type": "code",
   "execution_count": 121,
   "metadata": {},
   "outputs": [],
   "source": [
    "# Calculate class weights inversely proportional to class frequencies\n",
    "import numpy as np\n",
    "from sklearn.utils.class_weight import compute_class_weight\n",
    "\n",
    "classes = np.unique(y_train_clf)\n",
    "weights = compute_class_weight('balanced', classes=classes, y=y_train_clf)\n",
    "class_weights = dict(zip(classes, weights))\n",
    "\n",
    "clf = RandomForestClassifier(\n",
    "    random_state=42,\n",
    "    class_weight=class_weights,\n",
    "    n_estimators=200,\n",
    "    max_depth=10\n",
    ")"
   ]
  },
  {
   "cell_type": "markdown",
   "metadata": {},
   "source": [
    "3. Alternative Model Architectures\n"
   ]
  },
  {
   "cell_type": "code",
   "execution_count": 122,
   "metadata": {},
   "outputs": [
    {
     "name": "stderr",
     "output_type": "stream",
     "text": [
      "  WARNING: Failed to remove contents in a temporary directory 'D:\\Projects\\Guvi_Project4\\.venv\\Lib\\site-packages\\~umpy.libs'.\n",
      "  You can safely remove it manually.\n",
      "  WARNING: Failed to remove contents in a temporary directory 'D:\\Projects\\Guvi_Project4\\.venv\\Lib\\site-packages\\~umpy'.\n",
      "  You can safely remove it manually.\n"
     ]
    },
    {
     "name": "stdout",
     "output_type": "stream",
     "text": [
      "Collecting tensorflow\n",
      "  Downloading tensorflow-2.19.0-cp310-cp310-win_amd64.whl.metadata (4.1 kB)\n",
      "Collecting absl-py>=1.0.0 (from tensorflow)\n",
      "  Downloading absl_py-2.2.2-py3-none-any.whl.metadata (2.6 kB)\n",
      "Collecting astunparse>=1.6.0 (from tensorflow)\n",
      "  Downloading astunparse-1.6.3-py2.py3-none-any.whl.metadata (4.4 kB)\n",
      "Collecting flatbuffers>=24.3.25 (from tensorflow)\n",
      "  Downloading flatbuffers-25.2.10-py2.py3-none-any.whl.metadata (875 bytes)\n",
      "Collecting gast!=0.5.0,!=0.5.1,!=0.5.2,>=0.2.1 (from tensorflow)\n",
      "  Downloading gast-0.6.0-py3-none-any.whl.metadata (1.3 kB)\n",
      "Collecting google-pasta>=0.1.1 (from tensorflow)\n",
      "  Downloading google_pasta-0.2.0-py3-none-any.whl.metadata (814 bytes)\n",
      "Collecting libclang>=13.0.0 (from tensorflow)\n",
      "  Downloading libclang-18.1.1-py2.py3-none-win_amd64.whl.metadata (5.3 kB)\n",
      "Collecting opt-einsum>=2.3.2 (from tensorflow)\n",
      "  Downloading opt_einsum-3.4.0-py3-none-any.whl.metadata (6.3 kB)\n",
      "Requirement already satisfied: packaging in d:\\projects\\guvi_project4\\.venv\\lib\\site-packages (from tensorflow) (24.2)\n",
      "Requirement already satisfied: protobuf!=4.21.0,!=4.21.1,!=4.21.2,!=4.21.3,!=4.21.4,!=4.21.5,<6.0.0dev,>=3.20.3 in d:\\projects\\guvi_project4\\.venv\\lib\\site-packages (from tensorflow) (5.29.4)\n",
      "Requirement already satisfied: requests<3,>=2.21.0 in d:\\projects\\guvi_project4\\.venv\\lib\\site-packages (from tensorflow) (2.32.3)\n",
      "Requirement already satisfied: setuptools in d:\\projects\\guvi_project4\\.venv\\lib\\site-packages (from tensorflow) (65.5.0)\n",
      "Requirement already satisfied: six>=1.12.0 in d:\\projects\\guvi_project4\\.venv\\lib\\site-packages (from tensorflow) (1.17.0)\n",
      "Collecting termcolor>=1.1.0 (from tensorflow)\n",
      "  Downloading termcolor-3.0.1-py3-none-any.whl.metadata (6.1 kB)\n",
      "Requirement already satisfied: typing-extensions>=3.6.6 in d:\\projects\\guvi_project4\\.venv\\lib\\site-packages (from tensorflow) (4.13.0)\n",
      "Collecting wrapt>=1.11.0 (from tensorflow)\n",
      "  Downloading wrapt-1.17.2-cp310-cp310-win_amd64.whl.metadata (6.5 kB)\n",
      "Collecting grpcio<2.0,>=1.24.3 (from tensorflow)\n",
      "  Downloading grpcio-1.71.0-cp310-cp310-win_amd64.whl.metadata (4.0 kB)\n",
      "Collecting tensorboard~=2.19.0 (from tensorflow)\n",
      "  Downloading tensorboard-2.19.0-py3-none-any.whl.metadata (1.8 kB)\n",
      "Collecting keras>=3.5.0 (from tensorflow)\n",
      "  Downloading keras-3.9.2-py3-none-any.whl.metadata (6.1 kB)\n",
      "Collecting numpy<2.2.0,>=1.26.0 (from tensorflow)\n",
      "  Downloading numpy-2.1.3-cp310-cp310-win_amd64.whl.metadata (60 kB)\n",
      "Collecting h5py>=3.11.0 (from tensorflow)\n",
      "  Downloading h5py-3.13.0-cp310-cp310-win_amd64.whl.metadata (2.5 kB)\n",
      "Collecting ml-dtypes<1.0.0,>=0.5.1 (from tensorflow)\n",
      "  Downloading ml_dtypes-0.5.1-cp310-cp310-win_amd64.whl.metadata (22 kB)\n",
      "Collecting tensorflow-io-gcs-filesystem>=0.23.1 (from tensorflow)\n",
      "  Downloading tensorflow_io_gcs_filesystem-0.31.0-cp310-cp310-win_amd64.whl.metadata (14 kB)\n",
      "Collecting wheel<1.0,>=0.23.0 (from astunparse>=1.6.0->tensorflow)\n",
      "  Using cached wheel-0.45.1-py3-none-any.whl.metadata (2.3 kB)\n",
      "Collecting rich (from keras>=3.5.0->tensorflow)\n",
      "  Using cached rich-14.0.0-py3-none-any.whl.metadata (18 kB)\n",
      "Collecting namex (from keras>=3.5.0->tensorflow)\n",
      "  Downloading namex-0.0.8-py3-none-any.whl.metadata (246 bytes)\n",
      "Collecting optree (from keras>=3.5.0->tensorflow)\n",
      "  Downloading optree-0.14.1-cp310-cp310-win_amd64.whl.metadata (50 kB)\n",
      "Requirement already satisfied: charset-normalizer<4,>=2 in d:\\projects\\guvi_project4\\.venv\\lib\\site-packages (from requests<3,>=2.21.0->tensorflow) (3.4.1)\n",
      "Requirement already satisfied: idna<4,>=2.5 in d:\\projects\\guvi_project4\\.venv\\lib\\site-packages (from requests<3,>=2.21.0->tensorflow) (3.10)\n",
      "Requirement already satisfied: urllib3<3,>=1.21.1 in d:\\projects\\guvi_project4\\.venv\\lib\\site-packages (from requests<3,>=2.21.0->tensorflow) (2.3.0)\n",
      "Requirement already satisfied: certifi>=2017.4.17 in d:\\projects\\guvi_project4\\.venv\\lib\\site-packages (from requests<3,>=2.21.0->tensorflow) (2025.1.31)\n",
      "Collecting markdown>=2.6.8 (from tensorboard~=2.19.0->tensorflow)\n",
      "  Downloading Markdown-3.7-py3-none-any.whl.metadata (7.0 kB)\n",
      "Collecting tensorboard-data-server<0.8.0,>=0.7.0 (from tensorboard~=2.19.0->tensorflow)\n",
      "  Downloading tensorboard_data_server-0.7.2-py3-none-any.whl.metadata (1.1 kB)\n",
      "Collecting werkzeug>=1.0.1 (from tensorboard~=2.19.0->tensorflow)\n",
      "  Downloading werkzeug-3.1.3-py3-none-any.whl.metadata (3.7 kB)\n",
      "Requirement already satisfied: MarkupSafe>=2.1.1 in d:\\projects\\guvi_project4\\.venv\\lib\\site-packages (from werkzeug>=1.0.1->tensorboard~=2.19.0->tensorflow) (3.0.2)\n",
      "Collecting markdown-it-py>=2.2.0 (from rich->keras>=3.5.0->tensorflow)\n",
      "  Using cached markdown_it_py-3.0.0-py3-none-any.whl.metadata (6.9 kB)\n",
      "Requirement already satisfied: pygments<3.0.0,>=2.13.0 in d:\\projects\\guvi_project4\\.venv\\lib\\site-packages (from rich->keras>=3.5.0->tensorflow) (2.19.1)\n",
      "Collecting mdurl~=0.1 (from markdown-it-py>=2.2.0->rich->keras>=3.5.0->tensorflow)\n",
      "  Using cached mdurl-0.1.2-py3-none-any.whl.metadata (1.6 kB)\n",
      "Downloading tensorflow-2.19.0-cp310-cp310-win_amd64.whl (375.7 MB)\n",
      "   ---------------------------------------- 0.0/375.7 MB ? eta -:--:--\n",
      "   ---------------------------------------- 0.3/375.7 MB ? eta -:--:--\n",
      "   ---------------------------------------- 0.5/375.7 MB 1.5 MB/s eta 0:04:07\n",
      "   ---------------------------------------- 0.8/375.7 MB 1.5 MB/s eta 0:04:18\n",
      "   ---------------------------------------- 1.0/375.7 MB 1.5 MB/s eta 0:04:13\n",
      "   ---------------------------------------- 1.6/375.7 MB 1.6 MB/s eta 0:04:01\n",
      "   ---------------------------------------- 1.8/375.7 MB 1.6 MB/s eta 0:03:55\n",
      "   ---------------------------------------- 2.4/375.7 MB 1.7 MB/s eta 0:03:46\n",
      "   ---------------------------------------- 2.9/375.7 MB 1.7 MB/s eta 0:03:38\n",
      "   ---------------------------------------- 3.1/375.7 MB 1.7 MB/s eta 0:03:34\n",
      "   ---------------------------------------- 3.7/375.7 MB 1.7 MB/s eta 0:03:34\n",
      "   ---------------------------------------- 3.9/375.7 MB 1.8 MB/s eta 0:03:31\n",
      "   ---------------------------------------- 4.5/375.7 MB 1.8 MB/s eta 0:03:27\n",
      "    --------------------------------------- 5.0/375.7 MB 1.9 MB/s eta 0:03:21\n",
      "    --------------------------------------- 5.5/375.7 MB 1.9 MB/s eta 0:03:16\n",
      "    --------------------------------------- 6.0/375.7 MB 1.9 MB/s eta 0:03:11\n",
      "    --------------------------------------- 6.8/375.7 MB 2.0 MB/s eta 0:03:03\n",
      "    --------------------------------------- 7.3/375.7 MB 2.0 MB/s eta 0:03:00\n",
      "    --------------------------------------- 7.9/375.7 MB 2.1 MB/s eta 0:02:57\n",
      "    --------------------------------------- 8.7/375.7 MB 2.1 MB/s eta 0:02:51\n",
      "    --------------------------------------- 9.2/375.7 MB 2.2 MB/s eta 0:02:48\n",
      "   - -------------------------------------- 9.7/375.7 MB 2.2 MB/s eta 0:02:46\n",
      "   - -------------------------------------- 10.5/375.7 MB 2.3 MB/s eta 0:02:41\n",
      "   - -------------------------------------- 11.0/375.7 MB 2.3 MB/s eta 0:02:38\n",
      "   - -------------------------------------- 11.8/375.7 MB 2.4 MB/s eta 0:02:35\n",
      "   - -------------------------------------- 12.6/375.7 MB 2.4 MB/s eta 0:02:32\n",
      "   - -------------------------------------- 13.4/375.7 MB 2.5 MB/s eta 0:02:28\n",
      "   - -------------------------------------- 14.2/375.7 MB 2.5 MB/s eta 0:02:25\n",
      "   - -------------------------------------- 14.9/375.7 MB 2.5 MB/s eta 0:02:23\n",
      "   - -------------------------------------- 15.7/375.7 MB 2.6 MB/s eta 0:02:20\n",
      "   - -------------------------------------- 16.8/375.7 MB 2.6 MB/s eta 0:02:16\n",
      "   - -------------------------------------- 17.6/375.7 MB 2.7 MB/s eta 0:02:13\n",
      "   - -------------------------------------- 18.6/375.7 MB 2.8 MB/s eta 0:02:10\n",
      "   -- ------------------------------------- 19.4/375.7 MB 2.8 MB/s eta 0:02:08\n",
      "   -- ------------------------------------- 20.4/375.7 MB 2.8 MB/s eta 0:02:05\n",
      "   -- ------------------------------------- 21.2/375.7 MB 2.9 MB/s eta 0:02:04\n",
      "   -- ------------------------------------- 22.3/375.7 MB 2.9 MB/s eta 0:02:01\n",
      "   -- ------------------------------------- 23.1/375.7 MB 3.0 MB/s eta 0:01:59\n",
      "   -- ------------------------------------- 24.1/375.7 MB 3.0 MB/s eta 0:01:58\n",
      "   -- ------------------------------------- 25.2/375.7 MB 3.0 MB/s eta 0:01:56\n",
      "   -- ------------------------------------- 26.2/375.7 MB 3.1 MB/s eta 0:01:53\n",
      "   -- ------------------------------------- 27.3/375.7 MB 3.1 MB/s eta 0:01:51\n",
      "   --- ------------------------------------ 28.3/375.7 MB 3.2 MB/s eta 0:01:49\n",
      "   --- ------------------------------------ 29.4/375.7 MB 3.2 MB/s eta 0:01:48\n",
      "   --- ------------------------------------ 30.7/375.7 MB 3.3 MB/s eta 0:01:45\n",
      "   --- ------------------------------------ 31.7/375.7 MB 3.3 MB/s eta 0:01:44\n",
      "   --- ------------------------------------ 33.0/375.7 MB 3.4 MB/s eta 0:01:42\n",
      "   --- ------------------------------------ 34.3/375.7 MB 3.4 MB/s eta 0:01:40\n",
      "   --- ------------------------------------ 35.7/375.7 MB 3.5 MB/s eta 0:01:38\n",
      "   --- ------------------------------------ 37.2/375.7 MB 3.6 MB/s eta 0:01:35\n",
      "   ---- ----------------------------------- 38.8/375.7 MB 3.7 MB/s eta 0:01:33\n",
      "   ---- ----------------------------------- 40.6/375.7 MB 3.7 MB/s eta 0:01:30\n",
      "   ---- ----------------------------------- 42.2/375.7 MB 3.8 MB/s eta 0:01:28\n",
      "   ---- ----------------------------------- 43.8/375.7 MB 3.9 MB/s eta 0:01:26\n",
      "   ---- ----------------------------------- 45.9/375.7 MB 4.0 MB/s eta 0:01:23\n",
      "   ----- ---------------------------------- 47.7/375.7 MB 4.1 MB/s eta 0:01:21\n",
      "   ----- ---------------------------------- 49.5/375.7 MB 4.2 MB/s eta 0:01:19\n",
      "   ----- ---------------------------------- 51.6/375.7 MB 4.3 MB/s eta 0:01:16\n",
      "   ----- ---------------------------------- 53.7/375.7 MB 4.4 MB/s eta 0:01:14\n",
      "   ----- ---------------------------------- 55.8/375.7 MB 4.5 MB/s eta 0:01:12\n",
      "   ------ --------------------------------- 57.7/375.7 MB 4.5 MB/s eta 0:01:11\n",
      "   ------ --------------------------------- 59.8/375.7 MB 4.6 MB/s eta 0:01:09\n",
      "   ------ --------------------------------- 61.9/375.7 MB 4.7 MB/s eta 0:01:07\n",
      "   ------ --------------------------------- 64.0/375.7 MB 4.8 MB/s eta 0:01:06\n",
      "   ------- -------------------------------- 66.1/375.7 MB 4.9 MB/s eta 0:01:04\n",
      "   ------- -------------------------------- 68.7/375.7 MB 5.0 MB/s eta 0:01:02\n",
      "   ------- -------------------------------- 71.0/375.7 MB 5.1 MB/s eta 0:01:01\n",
      "   ------- -------------------------------- 73.4/375.7 MB 5.2 MB/s eta 0:00:59\n",
      "   -------- ------------------------------- 76.0/375.7 MB 5.3 MB/s eta 0:00:57\n",
      "   -------- ------------------------------- 77.9/375.7 MB 5.3 MB/s eta 0:00:57\n",
      "   -------- ------------------------------- 80.5/375.7 MB 5.4 MB/s eta 0:00:55\n",
      "   -------- ------------------------------- 82.8/375.7 MB 5.5 MB/s eta 0:00:54\n",
      "   --------- ------------------------------ 84.9/375.7 MB 5.6 MB/s eta 0:00:53\n",
      "   --------- ------------------------------ 87.3/375.7 MB 5.6 MB/s eta 0:00:52\n",
      "   --------- ------------------------------ 89.9/375.7 MB 5.7 MB/s eta 0:00:50\n",
      "   --------- ------------------------------ 92.0/375.7 MB 5.8 MB/s eta 0:00:50\n",
      "   ---------- ----------------------------- 94.4/375.7 MB 5.8 MB/s eta 0:00:49\n",
      "   ---------- ----------------------------- 96.5/375.7 MB 5.9 MB/s eta 0:00:48\n",
      "   ---------- ----------------------------- 98.6/375.7 MB 5.9 MB/s eta 0:00:47\n",
      "   ---------- ----------------------------- 100.7/375.7 MB 6.0 MB/s eta 0:00:46\n",
      "   ---------- ----------------------------- 102.8/375.7 MB 6.0 MB/s eta 0:00:46\n",
      "   ----------- ---------------------------- 105.1/375.7 MB 6.1 MB/s eta 0:00:45\n",
      "   ----------- ---------------------------- 107.5/375.7 MB 6.2 MB/s eta 0:00:44\n",
      "   ----------- ---------------------------- 110.1/375.7 MB 6.2 MB/s eta 0:00:43\n",
      "   ----------- ---------------------------- 112.2/375.7 MB 6.3 MB/s eta 0:00:42\n",
      "   ------------ --------------------------- 114.6/375.7 MB 6.3 MB/s eta 0:00:42\n",
      "   ------------ --------------------------- 116.7/375.7 MB 6.4 MB/s eta 0:00:41\n",
      "   ------------ --------------------------- 119.0/375.7 MB 6.4 MB/s eta 0:00:40\n",
      "   ------------ --------------------------- 121.6/375.7 MB 6.5 MB/s eta 0:00:40\n",
      "   ------------- -------------------------- 123.7/375.7 MB 6.5 MB/s eta 0:00:39\n",
      "   ------------- -------------------------- 125.8/375.7 MB 6.6 MB/s eta 0:00:38\n",
      "   ------------- -------------------------- 127.9/375.7 MB 6.6 MB/s eta 0:00:38\n",
      "   ------------- -------------------------- 130.3/375.7 MB 6.7 MB/s eta 0:00:37\n",
      "   -------------- ------------------------- 132.4/375.7 MB 6.7 MB/s eta 0:00:37\n",
      "   -------------- ------------------------- 134.5/375.7 MB 6.7 MB/s eta 0:00:36\n",
      "   -------------- ------------------------- 136.6/375.7 MB 6.8 MB/s eta 0:00:36\n",
      "   -------------- ------------------------- 139.2/375.7 MB 6.8 MB/s eta 0:00:35\n",
      "   -------------- ------------------------- 140.8/375.7 MB 6.8 MB/s eta 0:00:35\n",
      "   --------------- ------------------------ 143.4/375.7 MB 6.9 MB/s eta 0:00:34\n",
      "   --------------- ------------------------ 145.8/375.7 MB 6.9 MB/s eta 0:00:34\n",
      "   --------------- ------------------------ 148.1/375.7 MB 6.9 MB/s eta 0:00:33\n",
      "   ---------------- ----------------------- 150.5/375.7 MB 7.0 MB/s eta 0:00:33\n",
      "   ---------------- ----------------------- 153.1/375.7 MB 7.0 MB/s eta 0:00:32\n",
      "   ---------------- ----------------------- 155.5/375.7 MB 7.1 MB/s eta 0:00:32\n",
      "   ---------------- ----------------------- 158.1/375.7 MB 7.1 MB/s eta 0:00:31\n",
      "   ----------------- ---------------------- 160.7/375.7 MB 7.2 MB/s eta 0:00:30\n",
      "   ----------------- ---------------------- 163.3/375.7 MB 7.2 MB/s eta 0:00:30\n",
      "   ----------------- ---------------------- 165.7/375.7 MB 7.3 MB/s eta 0:00:29\n",
      "   ----------------- ---------------------- 168.0/375.7 MB 7.3 MB/s eta 0:00:29\n",
      "   ------------------ --------------------- 170.7/375.7 MB 7.3 MB/s eta 0:00:28\n",
      "   ------------------ --------------------- 173.3/375.7 MB 7.4 MB/s eta 0:00:28\n",
      "   ------------------ --------------------- 175.6/375.7 MB 7.4 MB/s eta 0:00:27\n",
      "   ------------------ --------------------- 177.7/375.7 MB 7.4 MB/s eta 0:00:27\n",
      "   ------------------- -------------------- 180.1/375.7 MB 7.5 MB/s eta 0:00:27\n",
      "   ------------------- -------------------- 182.5/375.7 MB 7.5 MB/s eta 0:00:26\n",
      "   ------------------- -------------------- 184.8/375.7 MB 7.5 MB/s eta 0:00:26\n",
      "   ------------------- -------------------- 187.4/375.7 MB 7.6 MB/s eta 0:00:25\n",
      "   -------------------- ------------------- 189.8/375.7 MB 7.6 MB/s eta 0:00:25\n",
      "   -------------------- ------------------- 192.7/375.7 MB 7.7 MB/s eta 0:00:24\n",
      "   -------------------- ------------------- 194.8/375.7 MB 7.7 MB/s eta 0:00:24\n",
      "   --------------------- ------------------ 197.4/375.7 MB 7.7 MB/s eta 0:00:24\n",
      "   --------------------- ------------------ 199.8/375.7 MB 7.7 MB/s eta 0:00:23\n",
      "   --------------------- ------------------ 202.4/375.7 MB 7.8 MB/s eta 0:00:23\n",
      "   --------------------- ------------------ 204.7/375.7 MB 7.8 MB/s eta 0:00:22\n",
      "   ---------------------- ----------------- 207.4/375.7 MB 7.8 MB/s eta 0:00:22\n",
      "   ---------------------- ----------------- 209.2/375.7 MB 7.9 MB/s eta 0:00:22\n",
      "   ---------------------- ----------------- 212.6/375.7 MB 7.9 MB/s eta 0:00:21\n",
      "   ---------------------- ----------------- 214.7/375.7 MB 7.9 MB/s eta 0:00:21\n",
      "   ----------------------- ---------------- 217.3/375.7 MB 8.0 MB/s eta 0:00:20\n",
      "   ----------------------- ---------------- 219.4/375.7 MB 8.0 MB/s eta 0:00:20\n",
      "   ----------------------- ---------------- 222.0/375.7 MB 8.0 MB/s eta 0:00:20\n",
      "   ----------------------- ---------------- 224.7/375.7 MB 8.0 MB/s eta 0:00:19\n",
      "   ------------------------ --------------- 227.5/375.7 MB 8.1 MB/s eta 0:00:19\n",
      "   ------------------------ --------------- 229.9/375.7 MB 8.1 MB/s eta 0:00:19\n",
      "   ------------------------ --------------- 232.8/375.7 MB 8.1 MB/s eta 0:00:18\n",
      "   ------------------------- -------------- 235.4/375.7 MB 8.2 MB/s eta 0:00:18\n",
      "   ------------------------- -------------- 237.5/375.7 MB 8.2 MB/s eta 0:00:17\n",
      "   ------------------------- -------------- 239.3/375.7 MB 8.2 MB/s eta 0:00:17\n",
      "   ------------------------- -------------- 241.4/375.7 MB 8.2 MB/s eta 0:00:17\n",
      "   ------------------------- -------------- 243.5/375.7 MB 8.2 MB/s eta 0:00:17\n",
      "   -------------------------- ------------- 245.6/375.7 MB 8.2 MB/s eta 0:00:16\n",
      "   -------------------------- ------------- 247.5/375.7 MB 8.3 MB/s eta 0:00:16\n",
      "   -------------------------- ------------- 249.6/375.7 MB 8.3 MB/s eta 0:00:16\n",
      "   -------------------------- ------------- 251.9/375.7 MB 8.4 MB/s eta 0:00:15\n",
      "   --------------------------- ------------ 254.0/375.7 MB 8.4 MB/s eta 0:00:15\n",
      "   --------------------------- ------------ 256.1/375.7 MB 8.5 MB/s eta 0:00:15\n",
      "   --------------------------- ------------ 257.9/375.7 MB 8.6 MB/s eta 0:00:14\n",
      "   --------------------------- ------------ 259.8/375.7 MB 8.6 MB/s eta 0:00:14\n",
      "   --------------------------- ------------ 261.9/375.7 MB 8.6 MB/s eta 0:00:14\n",
      "   ---------------------------- ----------- 264.2/375.7 MB 8.7 MB/s eta 0:00:13\n",
      "   ---------------------------- ----------- 266.3/375.7 MB 8.8 MB/s eta 0:00:13\n",
      "   ---------------------------- ----------- 268.4/375.7 MB 9.0 MB/s eta 0:00:12\n",
      "   ---------------------------- ----------- 270.5/375.7 MB 9.2 MB/s eta 0:00:12\n",
      "   ----------------------------- ---------- 272.9/375.7 MB 9.3 MB/s eta 0:00:12\n",
      "   ----------------------------- ---------- 275.0/375.7 MB 9.5 MB/s eta 0:00:11\n",
      "   ----------------------------- ---------- 276.8/375.7 MB 9.6 MB/s eta 0:00:11\n",
      "   ----------------------------- ---------- 279.2/375.7 MB 9.7 MB/s eta 0:00:10\n",
      "   ----------------------------- ---------- 281.3/375.7 MB 9.8 MB/s eta 0:00:10\n",
      "   ------------------------------ --------- 283.1/375.7 MB 9.9 MB/s eta 0:00:10\n",
      "   ----------------------------- --------- 285.2/375.7 MB 10.0 MB/s eta 0:00:10\n",
      "   ----------------------------- --------- 287.3/375.7 MB 10.1 MB/s eta 0:00:09\n",
      "   ------------------------------ -------- 289.1/375.7 MB 10.2 MB/s eta 0:00:09\n",
      "   ------------------------------ -------- 291.2/375.7 MB 10.2 MB/s eta 0:00:09\n",
      "   ------------------------------ -------- 292.8/375.7 MB 10.3 MB/s eta 0:00:09\n",
      "   ------------------------------ -------- 294.9/375.7 MB 10.3 MB/s eta 0:00:08\n",
      "   ------------------------------ -------- 296.7/375.7 MB 10.4 MB/s eta 0:00:08\n",
      "   ------------------------------- ------- 298.8/375.7 MB 10.4 MB/s eta 0:00:08\n",
      "   ------------------------------- ------- 300.9/375.7 MB 10.4 MB/s eta 0:00:08\n",
      "   ------------------------------- ------- 302.8/375.7 MB 10.4 MB/s eta 0:00:07\n",
      "   ------------------------------- ------- 304.6/375.7 MB 10.4 MB/s eta 0:00:07\n",
      "   ------------------------------- ------- 306.4/375.7 MB 10.5 MB/s eta 0:00:07\n",
      "   -------------------------------- ------ 308.5/375.7 MB 10.5 MB/s eta 0:00:07\n",
      "   -------------------------------- ------ 310.4/375.7 MB 10.5 MB/s eta 0:00:07\n",
      "   -------------------------------- ------ 312.2/375.7 MB 10.5 MB/s eta 0:00:07\n",
      "   -------------------------------- ------ 314.3/375.7 MB 10.4 MB/s eta 0:00:06\n",
      "   -------------------------------- ------ 316.1/375.7 MB 10.4 MB/s eta 0:00:06\n",
      "   --------------------------------- ----- 318.2/375.7 MB 10.4 MB/s eta 0:00:06\n",
      "   --------------------------------- ----- 320.1/375.7 MB 10.4 MB/s eta 0:00:06\n",
      "   --------------------------------- ----- 322.2/375.7 MB 10.4 MB/s eta 0:00:06\n",
      "   --------------------------------- ----- 324.0/375.7 MB 10.4 MB/s eta 0:00:05\n",
      "   --------------------------------- ----- 325.8/375.7 MB 10.4 MB/s eta 0:00:05\n",
      "   ---------------------------------- ---- 327.7/375.7 MB 10.4 MB/s eta 0:00:05\n",
      "   ---------------------------------- ---- 329.5/375.7 MB 10.4 MB/s eta 0:00:05\n",
      "   ---------------------------------- ---- 331.6/375.7 MB 10.4 MB/s eta 0:00:05\n",
      "   ---------------------------------- ---- 333.4/375.7 MB 10.3 MB/s eta 0:00:05\n",
      "   ---------------------------------- ---- 335.3/375.7 MB 10.3 MB/s eta 0:00:04\n",
      "   ---------------------------------- ---- 336.6/375.7 MB 10.3 MB/s eta 0:00:04\n",
      "   ----------------------------------- --- 337.9/375.7 MB 10.2 MB/s eta 0:00:04\n",
      "   ----------------------------------- --- 339.7/375.7 MB 10.2 MB/s eta 0:00:04\n",
      "   ----------------------------------- --- 341.6/375.7 MB 10.2 MB/s eta 0:00:04\n",
      "   ----------------------------------- --- 343.4/375.7 MB 10.2 MB/s eta 0:00:04\n",
      "   ----------------------------------- --- 345.2/375.7 MB 10.2 MB/s eta 0:00:03\n",
      "   ------------------------------------ -- 347.1/375.7 MB 10.2 MB/s eta 0:00:03\n",
      "   ------------------------------------ -- 348.9/375.7 MB 10.1 MB/s eta 0:00:03\n",
      "   ------------------------------------ -- 350.7/375.7 MB 10.1 MB/s eta 0:00:03\n",
      "   ------------------------------------ -- 352.6/375.7 MB 10.1 MB/s eta 0:00:03\n",
      "   ------------------------------------ -- 354.4/375.7 MB 10.1 MB/s eta 0:00:03\n",
      "   ------------------------------------ -- 356.0/375.7 MB 10.1 MB/s eta 0:00:02\n",
      "   ------------------------------------- - 357.8/375.7 MB 10.1 MB/s eta 0:00:02\n",
      "   ------------------------------------- - 359.4/375.7 MB 10.0 MB/s eta 0:00:02\n",
      "   ------------------------------------- - 361.0/375.7 MB 10.0 MB/s eta 0:00:02\n",
      "   ------------------------------------- - 362.8/375.7 MB 10.0 MB/s eta 0:00:02\n",
      "   ------------------------------------- - 364.6/375.7 MB 10.0 MB/s eta 0:00:02\n",
      "   --------------------------------------  366.2/375.7 MB 10.0 MB/s eta 0:00:01\n",
      "   --------------------------------------  368.1/375.7 MB 10.0 MB/s eta 0:00:01\n",
      "   ---------------------------------------  369.9/375.7 MB 9.9 MB/s eta 0:00:01\n",
      "   ---------------------------------------  371.7/375.7 MB 9.9 MB/s eta 0:00:01\n",
      "   ---------------------------------------  373.3/375.7 MB 9.9 MB/s eta 0:00:01\n",
      "   ---------------------------------------  375.1/375.7 MB 9.9 MB/s eta 0:00:01\n",
      "   ---------------------------------------  375.7/375.7 MB 9.9 MB/s eta 0:00:01\n",
      "   ---------------------------------------  375.7/375.7 MB 9.9 MB/s eta 0:00:01\n",
      "   ---------------------------------------  375.7/375.7 MB 9.9 MB/s eta 0:00:01\n",
      "   ---------------------------------------  375.7/375.7 MB 9.9 MB/s eta 0:00:01\n",
      "   ---------------------------------------  375.7/375.7 MB 9.9 MB/s eta 0:00:01\n",
      "   ---------------------------------------  375.7/375.7 MB 9.9 MB/s eta 0:00:01\n",
      "   ---------------------------------------  375.7/375.7 MB 9.9 MB/s eta 0:00:01\n",
      "   ---------------------------------------  375.7/375.7 MB 9.9 MB/s eta 0:00:01\n",
      "   ---------------------------------------  375.7/375.7 MB 9.9 MB/s eta 0:00:01\n",
      "   ---------------------------------------  375.7/375.7 MB 9.9 MB/s eta 0:00:01\n",
      "   ---------------------------------------  375.7/375.7 MB 9.9 MB/s eta 0:00:01\n",
      "   ---------------------------------------  375.7/375.7 MB 9.9 MB/s eta 0:00:01\n",
      "   ---------------------------------------  375.7/375.7 MB 9.9 MB/s eta 0:00:01\n",
      "   ---------------------------------------- 375.7/375.7 MB 8.9 MB/s eta 0:00:00\n",
      "Downloading absl_py-2.2.2-py3-none-any.whl (135 kB)\n",
      "Downloading astunparse-1.6.3-py2.py3-none-any.whl (12 kB)\n",
      "Downloading flatbuffers-25.2.10-py2.py3-none-any.whl (30 kB)\n",
      "Downloading gast-0.6.0-py3-none-any.whl (21 kB)\n",
      "Downloading google_pasta-0.2.0-py3-none-any.whl (57 kB)\n",
      "Downloading grpcio-1.71.0-cp310-cp310-win_amd64.whl (4.3 MB)\n",
      "   ---------------------------------------- 0.0/4.3 MB ? eta -:--:--\n",
      "   --------- ------------------------------ 1.0/4.3 MB 5.6 MB/s eta 0:00:01\n",
      "   ------------------------ --------------- 2.6/4.3 MB 6.3 MB/s eta 0:00:01\n",
      "   ------------------------------------ --- 3.9/4.3 MB 6.3 MB/s eta 0:00:01\n",
      "   ---------------------------------------  4.2/4.3 MB 6.3 MB/s eta 0:00:01\n",
      "   ---------------------------------------  4.2/4.3 MB 6.3 MB/s eta 0:00:01\n",
      "   ---------------------------------------- 4.3/4.3 MB 3.8 MB/s eta 0:00:00\n",
      "Downloading h5py-3.13.0-cp310-cp310-win_amd64.whl (3.0 MB)\n",
      "   ---------------------------------------- 0.0/3.0 MB ? eta -:--:--\n",
      "   --------------------- ------------------ 1.6/3.0 MB 8.4 MB/s eta 0:00:01\n",
      "   ---------------------------------------  2.9/3.0 MB 8.0 MB/s eta 0:00:01\n",
      "   ---------------------------------------- 3.0/3.0 MB 5.7 MB/s eta 0:00:00\n",
      "Downloading keras-3.9.2-py3-none-any.whl (1.3 MB)\n",
      "   ---------------------------------------- 0.0/1.3 MB ? eta -:--:--\n",
      "   ---------------------------------------  1.3/1.3 MB 7.4 MB/s eta 0:00:01\n",
      "   ---------------------------------------  1.3/1.3 MB 7.4 MB/s eta 0:00:01\n",
      "   ---------------------------------------- 1.3/1.3 MB 2.0 MB/s eta 0:00:00\n",
      "Downloading libclang-18.1.1-py2.py3-none-win_amd64.whl (26.4 MB)\n",
      "   ---------------------------------------- 0.0/26.4 MB ? eta -:--:--\n",
      "   -- ------------------------------------- 1.8/26.4 MB 10.0 MB/s eta 0:00:03\n",
      "   ----- ---------------------------------- 3.9/26.4 MB 9.8 MB/s eta 0:00:03\n",
      "   -------- ------------------------------- 5.8/26.4 MB 9.3 MB/s eta 0:00:03\n",
      "   ----------- ---------------------------- 7.9/26.4 MB 9.4 MB/s eta 0:00:02\n",
      "   --------------- ------------------------ 10.0/26.4 MB 9.4 MB/s eta 0:00:02\n",
      "   ------------------ --------------------- 12.1/26.4 MB 9.4 MB/s eta 0:00:02\n",
      "   --------------------- ------------------ 14.2/26.4 MB 9.5 MB/s eta 0:00:02\n",
      "   ------------------------ --------------- 16.0/26.4 MB 9.4 MB/s eta 0:00:02\n",
      "   --------------------------- ------------ 18.1/26.4 MB 9.4 MB/s eta 0:00:01\n",
      "   ------------------------------ --------- 20.2/26.4 MB 9.4 MB/s eta 0:00:01\n",
      "   --------------------------------- ------ 22.3/26.4 MB 9.4 MB/s eta 0:00:01\n",
      "   ------------------------------------ --- 24.1/26.4 MB 9.4 MB/s eta 0:00:01\n",
      "   ---------------------------------------  26.2/26.4 MB 9.4 MB/s eta 0:00:01\n",
      "   ---------------------------------------- 26.4/26.4 MB 8.7 MB/s eta 0:00:00\n",
      "Downloading ml_dtypes-0.5.1-cp310-cp310-win_amd64.whl (209 kB)\n",
      "Downloading numpy-2.1.3-cp310-cp310-win_amd64.whl (12.9 MB)\n",
      "   ---------------------------------------- 0.0/12.9 MB ? eta -:--:--\n",
      "   ----- ---------------------------------- 1.8/12.9 MB 10.1 MB/s eta 0:00:02\n",
      "   ------------ --------------------------- 3.9/12.9 MB 9.4 MB/s eta 0:00:01\n",
      "   -------------------- ------------------- 6.6/12.9 MB 10.3 MB/s eta 0:00:01\n",
      "   -------------------------- ------------- 8.7/12.9 MB 10.3 MB/s eta 0:00:01\n",
      "   -------------------------------- ------- 10.5/12.9 MB 10.1 MB/s eta 0:00:01\n",
      "   ---------------------------------------  12.6/12.9 MB 10.0 MB/s eta 0:00:01\n",
      "   ---------------------------------------  12.8/12.9 MB 9.9 MB/s eta 0:00:01\n",
      "   ---------------------------------------- 12.9/12.9 MB 8.2 MB/s eta 0:00:00\n",
      "Downloading opt_einsum-3.4.0-py3-none-any.whl (71 kB)\n",
      "Downloading tensorboard-2.19.0-py3-none-any.whl (5.5 MB)\n",
      "   ---------------------------------------- 0.0/5.5 MB ? eta -:--:--\n",
      "   ----------- ---------------------------- 1.6/5.5 MB 7.6 MB/s eta 0:00:01\n",
      "   ---------------------------- ----------- 3.9/5.5 MB 9.4 MB/s eta 0:00:01\n",
      "   -------------------------------------- - 5.2/5.5 MB 10.0 MB/s eta 0:00:01\n",
      "   ---------------------------------------- 5.5/5.5 MB 7.3 MB/s eta 0:00:00\n",
      "Downloading tensorflow_io_gcs_filesystem-0.31.0-cp310-cp310-win_amd64.whl (1.5 MB)\n",
      "   ---------------------------------------- 0.0/1.5 MB ? eta -:--:--\n",
      "   ---------------------------------------- 1.5/1.5 MB 6.5 MB/s eta 0:00:00\n",
      "Downloading termcolor-3.0.1-py3-none-any.whl (7.2 kB)\n",
      "Downloading wrapt-1.17.2-cp310-cp310-win_amd64.whl (38 kB)\n",
      "Downloading Markdown-3.7-py3-none-any.whl (106 kB)\n",
      "Downloading tensorboard_data_server-0.7.2-py3-none-any.whl (2.4 kB)\n",
      "Downloading werkzeug-3.1.3-py3-none-any.whl (224 kB)\n",
      "Using cached wheel-0.45.1-py3-none-any.whl (72 kB)\n",
      "Downloading namex-0.0.8-py3-none-any.whl (5.8 kB)\n",
      "Downloading optree-0.14.1-cp310-cp310-win_amd64.whl (296 kB)\n",
      "Using cached rich-14.0.0-py3-none-any.whl (243 kB)\n",
      "Using cached markdown_it_py-3.0.0-py3-none-any.whl (87 kB)\n",
      "Using cached mdurl-0.1.2-py3-none-any.whl (10.0 kB)\n",
      "Installing collected packages: namex, libclang, flatbuffers, wrapt, wheel, werkzeug, termcolor, tensorflow-io-gcs-filesystem, tensorboard-data-server, optree, opt-einsum, numpy, mdurl, markdown, grpcio, google-pasta, gast, absl-py, tensorboard, ml-dtypes, markdown-it-py, h5py, astunparse, rich, keras, tensorflow\n",
      "  Attempting uninstall: numpy\n",
      "    Found existing installation: numpy 2.2.4\n",
      "    Uninstalling numpy-2.2.4:\n",
      "      Successfully uninstalled numpy-2.2.4\n",
      "Successfully installed absl-py-2.2.2 astunparse-1.6.3 flatbuffers-25.2.10 gast-0.6.0 google-pasta-0.2.0 grpcio-1.71.0 h5py-3.13.0 keras-3.9.2 libclang-18.1.1 markdown-3.7 markdown-it-py-3.0.0 mdurl-0.1.2 ml-dtypes-0.5.1 namex-0.0.8 numpy-2.1.3 opt-einsum-3.4.0 optree-0.14.1 rich-14.0.0 tensorboard-2.19.0 tensorboard-data-server-0.7.2 tensorflow-2.19.0 tensorflow-io-gcs-filesystem-0.31.0 termcolor-3.0.1 werkzeug-3.1.3 wheel-0.45.1 wrapt-1.17.2\n",
      "Note: you may need to restart the kernel to use updated packages.\n"
     ]
    },
    {
     "name": "stderr",
     "output_type": "stream",
     "text": [
      "d:\\Projects\\Guvi_Project4\\.venv\\lib\\site-packages\\keras\\src\\layers\\core\\dense.py:87: UserWarning: Do not pass an `input_shape`/`input_dim` argument to a layer. When using Sequential models, prefer using an `Input(shape)` object as the first layer in the model instead.\n",
      "  super().__init__(activity_regularizer=activity_regularizer, **kwargs)\n"
     ]
    },
    {
     "name": "stdout",
     "output_type": "stream",
     "text": [
      "Epoch 1/50\n",
      "\u001b[1m133/133\u001b[0m \u001b[32m━━━━━━━━━━━━━━━━━━━━\u001b[0m\u001b[37m\u001b[0m \u001b[1m2s\u001b[0m 5ms/step - accuracy: 0.2288 - loss: 384.0651 - val_accuracy: 0.4046 - val_loss: 1.6059\n",
      "Epoch 2/50\n",
      "\u001b[1m133/133\u001b[0m \u001b[32m━━━━━━━━━━━━━━━━━━━━\u001b[0m\u001b[37m\u001b[0m \u001b[1m1s\u001b[0m 4ms/step - accuracy: 0.2354 - loss: 1.6107 - val_accuracy: 0.4046 - val_loss: 1.6046\n",
      "Epoch 3/50\n",
      "\u001b[1m133/133\u001b[0m \u001b[32m━━━━━━━━━━━━━━━━━━━━\u001b[0m\u001b[37m\u001b[0m \u001b[1m0s\u001b[0m 3ms/step - accuracy: 0.3896 - loss: 1.6014 - val_accuracy: 0.0843 - val_loss: 1.6050\n",
      "Epoch 4/50\n",
      "\u001b[1m133/133\u001b[0m \u001b[32m━━━━━━━━━━━━━━━━━━━━\u001b[0m\u001b[37m\u001b[0m \u001b[1m0s\u001b[0m 3ms/step - accuracy: 0.3956 - loss: 1.6064 - val_accuracy: 0.0843 - val_loss: 1.6044\n",
      "Epoch 5/50\n",
      "\u001b[1m133/133\u001b[0m \u001b[32m━━━━━━━━━━━━━━━━━━━━\u001b[0m\u001b[37m\u001b[0m \u001b[1m0s\u001b[0m 3ms/step - accuracy: 0.2615 - loss: 1.5976 - val_accuracy: 0.0843 - val_loss: 1.6036\n",
      "Epoch 6/50\n",
      "\u001b[1m133/133\u001b[0m \u001b[32m━━━━━━━━━━━━━━━━━━━━\u001b[0m\u001b[37m\u001b[0m \u001b[1m0s\u001b[0m 3ms/step - accuracy: 0.1991 - loss: 1.5989 - val_accuracy: 0.4046 - val_loss: 1.6044\n",
      "Epoch 7/50\n",
      "\u001b[1m133/133\u001b[0m \u001b[32m━━━━━━━━━━━━━━━━━━━━\u001b[0m\u001b[37m\u001b[0m \u001b[1m0s\u001b[0m 3ms/step - accuracy: 0.3346 - loss: 1.6034 - val_accuracy: 0.4046 - val_loss: 1.6043\n",
      "Epoch 8/50\n",
      "\u001b[1m133/133\u001b[0m \u001b[32m━━━━━━━━━━━━━━━━━━━━\u001b[0m\u001b[37m\u001b[0m \u001b[1m1s\u001b[0m 4ms/step - accuracy: 0.2500 - loss: 1.6184 - val_accuracy: 0.4046 - val_loss: 1.6031\n",
      "Epoch 9/50\n",
      "\u001b[1m133/133\u001b[0m \u001b[32m━━━━━━━━━━━━━━━━━━━━\u001b[0m\u001b[37m\u001b[0m \u001b[1m0s\u001b[0m 3ms/step - accuracy: 0.4032 - loss: 1.6293 - val_accuracy: 0.2887 - val_loss: 1.6013\n",
      "Epoch 10/50\n",
      "\u001b[1m133/133\u001b[0m \u001b[32m━━━━━━━━━━━━━━━━━━━━\u001b[0m\u001b[37m\u001b[0m \u001b[1m0s\u001b[0m 3ms/step - accuracy: 0.1458 - loss: 1.6066 - val_accuracy: 0.4046 - val_loss: 1.6037\n",
      "Epoch 11/50\n",
      "\u001b[1m133/133\u001b[0m \u001b[32m━━━━━━━━━━━━━━━━━━━━\u001b[0m\u001b[37m\u001b[0m \u001b[1m1s\u001b[0m 3ms/step - accuracy: 0.1360 - loss: 1.6031 - val_accuracy: 0.2887 - val_loss: 1.6030\n",
      "Epoch 12/50\n",
      "\u001b[1m133/133\u001b[0m \u001b[32m━━━━━━━━━━━━━━━━━━━━\u001b[0m\u001b[37m\u001b[0m \u001b[1m0s\u001b[0m 3ms/step - accuracy: 0.3987 - loss: 1.5780 - val_accuracy: 0.4046 - val_loss: 1.6035\n",
      "Epoch 13/50\n",
      "\u001b[1m133/133\u001b[0m \u001b[32m━━━━━━━━━━━━━━━━━━━━\u001b[0m\u001b[37m\u001b[0m \u001b[1m1s\u001b[0m 4ms/step - accuracy: 0.1251 - loss: 1.5988 - val_accuracy: 0.0843 - val_loss: 1.6041\n",
      "Epoch 14/50\n",
      "\u001b[1m133/133\u001b[0m \u001b[32m━━━━━━━━━━━━━━━━━━━━\u001b[0m\u001b[37m\u001b[0m \u001b[1m1s\u001b[0m 3ms/step - accuracy: 0.3585 - loss: 1.6073 - val_accuracy: 0.4046 - val_loss: 1.6027\n",
      "Epoch 15/50\n",
      "\u001b[1m133/133\u001b[0m \u001b[32m━━━━━━━━━━━━━━━━━━━━\u001b[0m\u001b[37m\u001b[0m \u001b[1m1s\u001b[0m 4ms/step - accuracy: 0.2808 - loss: 1.5996 - val_accuracy: 0.0843 - val_loss: 1.6044\n",
      "Epoch 16/50\n",
      "\u001b[1m133/133\u001b[0m \u001b[32m━━━━━━━━━━━━━━━━━━━━\u001b[0m\u001b[37m\u001b[0m \u001b[1m0s\u001b[0m 3ms/step - accuracy: 0.1309 - loss: 1.5893 - val_accuracy: 0.0843 - val_loss: 1.6039\n",
      "Epoch 17/50\n",
      "\u001b[1m133/133\u001b[0m \u001b[32m━━━━━━━━━━━━━━━━━━━━\u001b[0m\u001b[37m\u001b[0m \u001b[1m1s\u001b[0m 4ms/step - accuracy: 0.1960 - loss: 1.5967 - val_accuracy: 0.0843 - val_loss: 1.6039\n",
      "Epoch 18/50\n",
      "\u001b[1m133/133\u001b[0m \u001b[32m━━━━━━━━━━━━━━━━━━━━\u001b[0m\u001b[37m\u001b[0m \u001b[1m1s\u001b[0m 3ms/step - accuracy: 0.1584 - loss: 1.6093 - val_accuracy: 0.0843 - val_loss: 1.6037\n",
      "Epoch 19/50\n",
      "\u001b[1m133/133\u001b[0m \u001b[32m━━━━━━━━━━━━━━━━━━━━\u001b[0m\u001b[37m\u001b[0m \u001b[1m0s\u001b[0m 3ms/step - accuracy: 0.0961 - loss: 1.6163 - val_accuracy: 0.4046 - val_loss: 1.6025\n",
      "Epoch 20/50\n",
      "\u001b[1m133/133\u001b[0m \u001b[32m━━━━━━━━━━━━━━━━━━━━\u001b[0m\u001b[37m\u001b[0m \u001b[1m1s\u001b[0m 4ms/step - accuracy: 0.4019 - loss: 1.5967 - val_accuracy: 0.4046 - val_loss: 1.6032\n",
      "Epoch 21/50\n",
      "\u001b[1m133/133\u001b[0m \u001b[32m━━━━━━━━━━━━━━━━━━━━\u001b[0m\u001b[37m\u001b[0m \u001b[1m0s\u001b[0m 3ms/step - accuracy: 0.1811 - loss: 1.6257 - val_accuracy: 0.4046 - val_loss: 1.6026\n",
      "Epoch 22/50\n",
      "\u001b[1m133/133\u001b[0m \u001b[32m━━━━━━━━━━━━━━━━━━━━\u001b[0m\u001b[37m\u001b[0m \u001b[1m0s\u001b[0m 3ms/step - accuracy: 0.3181 - loss: 1.6063 - val_accuracy: 0.4046 - val_loss: 1.6033\n",
      "Epoch 23/50\n",
      "\u001b[1m133/133\u001b[0m \u001b[32m━━━━━━━━━━━━━━━━━━━━\u001b[0m\u001b[37m\u001b[0m \u001b[1m0s\u001b[0m 3ms/step - accuracy: 0.3802 - loss: 1.5885 - val_accuracy: 0.4046 - val_loss: 1.6038\n",
      "Epoch 24/50\n",
      "\u001b[1m133/133\u001b[0m \u001b[32m━━━━━━━━━━━━━━━━━━━━\u001b[0m\u001b[37m\u001b[0m \u001b[1m1s\u001b[0m 4ms/step - accuracy: 0.1445 - loss: 1.6271 - val_accuracy: 0.0843 - val_loss: 1.6038\n",
      "Epoch 25/50\n",
      "\u001b[1m133/133\u001b[0m \u001b[32m━━━━━━━━━━━━━━━━━━━━\u001b[0m\u001b[37m\u001b[0m \u001b[1m0s\u001b[0m 3ms/step - accuracy: 0.3890 - loss: 1.6224 - val_accuracy: 0.0843 - val_loss: 1.6039\n",
      "Epoch 26/50\n",
      "\u001b[1m133/133\u001b[0m \u001b[32m━━━━━━━━━━━━━━━━━━━━\u001b[0m\u001b[37m\u001b[0m \u001b[1m1s\u001b[0m 3ms/step - accuracy: 0.1651 - loss: 1.5867 - val_accuracy: 0.4046 - val_loss: 1.6024\n",
      "Epoch 27/50\n",
      "\u001b[1m133/133\u001b[0m \u001b[32m━━━━━━━━━━━━━━━━━━━━\u001b[0m\u001b[37m\u001b[0m \u001b[1m1s\u001b[0m 4ms/step - accuracy: 0.3337 - loss: 1.6267 - val_accuracy: 0.0843 - val_loss: 1.6044\n",
      "Epoch 28/50\n",
      "\u001b[1m133/133\u001b[0m \u001b[32m━━━━━━━━━━━━━━━━━━━━\u001b[0m\u001b[37m\u001b[0m \u001b[1m1s\u001b[0m 4ms/step - accuracy: 0.3714 - loss: 1.5814 - val_accuracy: 0.0843 - val_loss: 1.6032\n",
      "Epoch 29/50\n",
      "\u001b[1m133/133\u001b[0m \u001b[32m━━━━━━━━━━━━━━━━━━━━\u001b[0m\u001b[37m\u001b[0m \u001b[1m0s\u001b[0m 3ms/step - accuracy: 0.1222 - loss: 1.5823 - val_accuracy: 0.0843 - val_loss: 1.6039\n",
      "Epoch 30/50\n",
      "\u001b[1m133/133\u001b[0m \u001b[32m━━━━━━━━━━━━━━━━━━━━\u001b[0m\u001b[37m\u001b[0m \u001b[1m0s\u001b[0m 3ms/step - accuracy: 0.1048 - loss: 1.5996 - val_accuracy: 0.0843 - val_loss: 1.6050\n",
      "Epoch 31/50\n",
      "\u001b[1m133/133\u001b[0m \u001b[32m━━━━━━━━━━━━━━━━━━━━\u001b[0m\u001b[37m\u001b[0m \u001b[1m1s\u001b[0m 4ms/step - accuracy: 0.2418 - loss: 1.5955 - val_accuracy: 0.0843 - val_loss: 1.6034\n",
      "Epoch 32/50\n",
      "\u001b[1m133/133\u001b[0m \u001b[32m━━━━━━━━━━━━━━━━━━━━\u001b[0m\u001b[37m\u001b[0m \u001b[1m0s\u001b[0m 3ms/step - accuracy: 0.1657 - loss: 1.5998 - val_accuracy: 0.4046 - val_loss: 1.6036\n",
      "Epoch 33/50\n",
      "\u001b[1m133/133\u001b[0m \u001b[32m━━━━━━━━━━━━━━━━━━━━\u001b[0m\u001b[37m\u001b[0m \u001b[1m1s\u001b[0m 4ms/step - accuracy: 0.3388 - loss: 1.5981 - val_accuracy: 0.4046 - val_loss: 1.6041\n",
      "Epoch 34/50\n",
      "\u001b[1m133/133\u001b[0m \u001b[32m━━━━━━━━━━━━━━━━━━━━\u001b[0m\u001b[37m\u001b[0m \u001b[1m1s\u001b[0m 4ms/step - accuracy: 0.2579 - loss: 1.5959 - val_accuracy: 0.0843 - val_loss: 1.6048\n",
      "Epoch 35/50\n",
      "\u001b[1m133/133\u001b[0m \u001b[32m━━━━━━━━━━━━━━━━━━━━\u001b[0m\u001b[37m\u001b[0m \u001b[1m1s\u001b[0m 4ms/step - accuracy: 0.2123 - loss: 1.5879 - val_accuracy: 0.4046 - val_loss: 1.6029\n",
      "Epoch 36/50\n",
      "\u001b[1m133/133\u001b[0m \u001b[32m━━━━━━━━━━━━━━━━━━━━\u001b[0m\u001b[37m\u001b[0m \u001b[1m1s\u001b[0m 4ms/step - accuracy: 0.2949 - loss: 1.6024 - val_accuracy: 0.4046 - val_loss: 1.6040\n",
      "Epoch 37/50\n",
      "\u001b[1m133/133\u001b[0m \u001b[32m━━━━━━━━━━━━━━━━━━━━\u001b[0m\u001b[37m\u001b[0m \u001b[1m1s\u001b[0m 4ms/step - accuracy: 0.4119 - loss: 1.5914 - val_accuracy: 0.4046 - val_loss: 1.6040\n",
      "Epoch 38/50\n",
      "\u001b[1m133/133\u001b[0m \u001b[32m━━━━━━━━━━━━━━━━━━━━\u001b[0m\u001b[37m\u001b[0m \u001b[1m1s\u001b[0m 4ms/step - accuracy: 0.3553 - loss: 1.6002 - val_accuracy: 0.4046 - val_loss: 1.6043\n",
      "Epoch 39/50\n",
      "\u001b[1m133/133\u001b[0m \u001b[32m━━━━━━━━━━━━━━━━━━━━\u001b[0m\u001b[37m\u001b[0m \u001b[1m1s\u001b[0m 4ms/step - accuracy: 0.4102 - loss: 1.5712 - val_accuracy: 0.0843 - val_loss: 1.6029\n",
      "Epoch 40/50\n",
      "\u001b[1m133/133\u001b[0m \u001b[32m━━━━━━━━━━━━━━━━━━━━\u001b[0m\u001b[37m\u001b[0m \u001b[1m0s\u001b[0m 3ms/step - accuracy: 0.3094 - loss: 1.5949 - val_accuracy: 0.4046 - val_loss: 1.6049\n",
      "Epoch 41/50\n",
      "\u001b[1m133/133\u001b[0m \u001b[32m━━━━━━━━━━━━━━━━━━━━\u001b[0m\u001b[37m\u001b[0m \u001b[1m0s\u001b[0m 3ms/step - accuracy: 0.1161 - loss: 1.6013 - val_accuracy: 0.4046 - val_loss: 1.6036\n",
      "Epoch 42/50\n",
      "\u001b[1m133/133\u001b[0m \u001b[32m━━━━━━━━━━━━━━━━━━━━\u001b[0m\u001b[37m\u001b[0m \u001b[1m1s\u001b[0m 4ms/step - accuracy: 0.2961 - loss: 1.6134 - val_accuracy: 0.4046 - val_loss: 1.6033\n",
      "Epoch 43/50\n",
      "\u001b[1m133/133\u001b[0m \u001b[32m━━━━━━━━━━━━━━━━━━━━\u001b[0m\u001b[37m\u001b[0m \u001b[1m0s\u001b[0m 3ms/step - accuracy: 0.2006 - loss: 1.6411 - val_accuracy: 0.0843 - val_loss: 1.6040\n",
      "Epoch 44/50\n",
      "\u001b[1m133/133\u001b[0m \u001b[32m━━━━━━━━━━━━━━━━━━━━\u001b[0m\u001b[37m\u001b[0m \u001b[1m0s\u001b[0m 3ms/step - accuracy: 0.2824 - loss: 1.5912 - val_accuracy: 0.0843 - val_loss: 1.6034\n",
      "Epoch 45/50\n",
      "\u001b[1m133/133\u001b[0m \u001b[32m━━━━━━━━━━━━━━━━━━━━\u001b[0m\u001b[37m\u001b[0m \u001b[1m1s\u001b[0m 4ms/step - accuracy: 0.1481 - loss: 1.5965 - val_accuracy: 0.0843 - val_loss: 1.6035\n",
      "Epoch 46/50\n",
      "\u001b[1m133/133\u001b[0m \u001b[32m━━━━━━━━━━━━━━━━━━━━\u001b[0m\u001b[37m\u001b[0m \u001b[1m1s\u001b[0m 4ms/step - accuracy: 0.0886 - loss: 1.5940 - val_accuracy: 0.0843 - val_loss: 1.6036\n",
      "Epoch 47/50\n",
      "\u001b[1m133/133\u001b[0m \u001b[32m━━━━━━━━━━━━━━━━━━━━\u001b[0m\u001b[37m\u001b[0m \u001b[1m0s\u001b[0m 3ms/step - accuracy: 0.3835 - loss: 1.5958 - val_accuracy: 0.0843 - val_loss: 1.6045\n",
      "Epoch 48/50\n",
      "\u001b[1m133/133\u001b[0m \u001b[32m━━━━━━━━━━━━━━━━━━━━\u001b[0m\u001b[37m\u001b[0m \u001b[1m1s\u001b[0m 3ms/step - accuracy: 0.1531 - loss: 1.6136 - val_accuracy: 0.4046 - val_loss: 1.6034\n",
      "Epoch 49/50\n",
      "\u001b[1m133/133\u001b[0m \u001b[32m━━━━━━━━━━━━━━━━━━━━\u001b[0m\u001b[37m\u001b[0m \u001b[1m1s\u001b[0m 4ms/step - accuracy: 0.3442 - loss: 1.6101 - val_accuracy: 0.0843 - val_loss: 1.6042\n",
      "Epoch 50/50\n",
      "\u001b[1m133/133\u001b[0m \u001b[32m━━━━━━━━━━━━━━━━━━━━\u001b[0m\u001b[37m\u001b[0m \u001b[1m0s\u001b[0m 3ms/step - accuracy: 0.1928 - loss: 1.5994 - val_accuracy: 0.0843 - val_loss: 1.6050\n"
     ]
    }
   ],
   "source": [
    "# Option 1: Gradient Boosting with focal loss (good for class imbalance)\n",
    "from xgboost import XGBClassifier\n",
    "\n",
    "from sklearn.utils.class_weight import compute_class_weight\n",
    "import numpy as np\n",
    "\n",
    "# Define a function to calculate class weights\n",
    "def calculate_weights(y_train):\n",
    "    classes = np.unique(y_train)\n",
    "    weights = compute_class_weight('balanced', classes=classes, y=y_train)\n",
    "    return dict(zip(classes, weights))\n",
    "\n",
    "# Use the function to calculate weights\n",
    "class_weights = calculate_weights(y_train_clf)\n",
    "\n",
    "clf = XGBClassifier(\n",
    "    objective='multi:softmax',\n",
    "    num_class=len(class_names),\n",
    "    scale_pos_weight=class_weights,  # Use calculated weights\n",
    "    use_label_encoder=False,\n",
    "    eval_metric='mlogloss'\n",
    ")\n",
    "\n",
    "# Option 2: Neural Network with class weights\n",
    "# Install TensorFlow if not already installed\n",
    "%pip install tensorflow\n",
    "\n",
    "from tensorflow.keras.models import Sequential\n",
    "from tensorflow.keras.layers import Dense, Dropout\n",
    "\n",
    "model = Sequential([\n",
    "    Dense(128, activation='relu', input_shape=(X_train_clf.shape[1],)),\n",
    "    Dropout(0.3),\n",
    "    Dense(64, activation='relu'),\n",
    "    Dense(len(class_names), activation='softmax')\n",
    "])\n",
    "\n",
    "model.compile(\n",
    "    optimizer='adam',\n",
    "    loss='sparse_categorical_crossentropy',\n",
    "    metrics=['accuracy']\n",
    ")\n",
    "\n",
    "# Calculate class weights for Keras\n",
    "class_weights = compute_class_weight('balanced', classes=np.unique(y_train_clf), y=y_train_clf)\n",
    "class_weight_dict = dict(enumerate(class_weights))\n",
    "\n",
    "history = model.fit(\n",
    "    X_train_clf, y_train_clf,\n",
    "    epochs=50,\n",
    "    batch_size=256,\n",
    "    class_weight=class_weight_dict,\n",
    "    validation_split=0.2\n",
    ")"
   ]
  },
  {
   "cell_type": "markdown",
   "metadata": {},
   "source": [
    "4. Threshold Adjustment for Rare Classes\n"
   ]
  },
  {
   "cell_type": "code",
   "execution_count": 125,
   "metadata": {},
   "outputs": [
    {
     "name": "stderr",
     "output_type": "stream",
     "text": [
      "d:\\Projects\\Guvi_Project4\\.venv\\lib\\site-packages\\xgboost\\training.py:183: UserWarning: [00:13:52] WARNING: C:\\actions-runner\\_work\\xgboost\\xgboost\\src\\learner.cc:738: \n",
      "Parameters: { \"scale_pos_weight\", \"use_label_encoder\" } are not used.\n",
      "\n",
      "  bst.update(dtrain, iteration=i, fobj=obj)\n"
     ]
    }
   ],
   "source": [
    "from sklearn.calibration import calibration_curve\n",
    "from sklearn.exceptions import NotFittedError\n",
    "\n",
    "# Ensure the model is fitted or loaded\n",
    "try:\n",
    "    # Check if the model is already fitted\n",
    "    y_probs = clf.predict_proba(X_test_clf)\n",
    "except NotFittedError:\n",
    "    # If not fitted, fit the model first\n",
    "    clf.fit(X_train_clf, y_train_clf)\n",
    "    y_probs = clf.predict_proba(X_test_clf)\n",
    "\n",
    "# Adjust threshold for class '1' (encoded as 0)\n",
    "adjusted_threshold = 0.3  # Default is 0.5\n",
    "y_pred_adjusted = (y_probs[:, 0] > adjusted_threshold).astype(int)\n",
    "\n",
    "# For multi-class, you'll need to implement custom thresholding\n",
    "def predict_with_threshold(probs, thresholds):\n",
    "    \"\"\"Apply class-specific thresholds\"\"\"\n",
    "    preds = np.argmax(probs, axis=1)\n",
    "    for i, thresh in enumerate(thresholds):\n",
    "        mask = probs[:, i] > thresh\n",
    "        preds[mask] = i\n",
    "    return preds\n",
    "\n",
    "# Example thresholds - prioritize recall for rare classes\n",
    "thresholds = [0.3, 0.5, 0.5, 0.5, 0.4]  # For classes 0-4 respectively\n",
    "y_pred_thresholded = predict_with_threshold(y_probs, thresholds)"
   ]
  },
  {
   "cell_type": "markdown",
   "metadata": {},
   "source": [
    "5. Ensemble of Different Sampling Strategies\n"
   ]
  },
  {
   "cell_type": "code",
   "execution_count": 128,
   "metadata": {},
   "outputs": [
    {
     "data": {
      "text/html": [
       "<style>#sk-container-id-1 {\n",
       "  /* Definition of color scheme common for light and dark mode */\n",
       "  --sklearn-color-text: #000;\n",
       "  --sklearn-color-text-muted: #666;\n",
       "  --sklearn-color-line: gray;\n",
       "  /* Definition of color scheme for unfitted estimators */\n",
       "  --sklearn-color-unfitted-level-0: #fff5e6;\n",
       "  --sklearn-color-unfitted-level-1: #f6e4d2;\n",
       "  --sklearn-color-unfitted-level-2: #ffe0b3;\n",
       "  --sklearn-color-unfitted-level-3: chocolate;\n",
       "  /* Definition of color scheme for fitted estimators */\n",
       "  --sklearn-color-fitted-level-0: #f0f8ff;\n",
       "  --sklearn-color-fitted-level-1: #d4ebff;\n",
       "  --sklearn-color-fitted-level-2: #b3dbfd;\n",
       "  --sklearn-color-fitted-level-3: cornflowerblue;\n",
       "\n",
       "  /* Specific color for light theme */\n",
       "  --sklearn-color-text-on-default-background: var(--sg-text-color, var(--theme-code-foreground, var(--jp-content-font-color1, black)));\n",
       "  --sklearn-color-background: var(--sg-background-color, var(--theme-background, var(--jp-layout-color0, white)));\n",
       "  --sklearn-color-border-box: var(--sg-text-color, var(--theme-code-foreground, var(--jp-content-font-color1, black)));\n",
       "  --sklearn-color-icon: #696969;\n",
       "\n",
       "  @media (prefers-color-scheme: dark) {\n",
       "    /* Redefinition of color scheme for dark theme */\n",
       "    --sklearn-color-text-on-default-background: var(--sg-text-color, var(--theme-code-foreground, var(--jp-content-font-color1, white)));\n",
       "    --sklearn-color-background: var(--sg-background-color, var(--theme-background, var(--jp-layout-color0, #111)));\n",
       "    --sklearn-color-border-box: var(--sg-text-color, var(--theme-code-foreground, var(--jp-content-font-color1, white)));\n",
       "    --sklearn-color-icon: #878787;\n",
       "  }\n",
       "}\n",
       "\n",
       "#sk-container-id-1 {\n",
       "  color: var(--sklearn-color-text);\n",
       "}\n",
       "\n",
       "#sk-container-id-1 pre {\n",
       "  padding: 0;\n",
       "}\n",
       "\n",
       "#sk-container-id-1 input.sk-hidden--visually {\n",
       "  border: 0;\n",
       "  clip: rect(1px 1px 1px 1px);\n",
       "  clip: rect(1px, 1px, 1px, 1px);\n",
       "  height: 1px;\n",
       "  margin: -1px;\n",
       "  overflow: hidden;\n",
       "  padding: 0;\n",
       "  position: absolute;\n",
       "  width: 1px;\n",
       "}\n",
       "\n",
       "#sk-container-id-1 div.sk-dashed-wrapped {\n",
       "  border: 1px dashed var(--sklearn-color-line);\n",
       "  margin: 0 0.4em 0.5em 0.4em;\n",
       "  box-sizing: border-box;\n",
       "  padding-bottom: 0.4em;\n",
       "  background-color: var(--sklearn-color-background);\n",
       "}\n",
       "\n",
       "#sk-container-id-1 div.sk-container {\n",
       "  /* jupyter's `normalize.less` sets `[hidden] { display: none; }`\n",
       "     but bootstrap.min.css set `[hidden] { display: none !important; }`\n",
       "     so we also need the `!important` here to be able to override the\n",
       "     default hidden behavior on the sphinx rendered scikit-learn.org.\n",
       "     See: https://github.com/scikit-learn/scikit-learn/issues/21755 */\n",
       "  display: inline-block !important;\n",
       "  position: relative;\n",
       "}\n",
       "\n",
       "#sk-container-id-1 div.sk-text-repr-fallback {\n",
       "  display: none;\n",
       "}\n",
       "\n",
       "div.sk-parallel-item,\n",
       "div.sk-serial,\n",
       "div.sk-item {\n",
       "  /* draw centered vertical line to link estimators */\n",
       "  background-image: linear-gradient(var(--sklearn-color-text-on-default-background), var(--sklearn-color-text-on-default-background));\n",
       "  background-size: 2px 100%;\n",
       "  background-repeat: no-repeat;\n",
       "  background-position: center center;\n",
       "}\n",
       "\n",
       "/* Parallel-specific style estimator block */\n",
       "\n",
       "#sk-container-id-1 div.sk-parallel-item::after {\n",
       "  content: \"\";\n",
       "  width: 100%;\n",
       "  border-bottom: 2px solid var(--sklearn-color-text-on-default-background);\n",
       "  flex-grow: 1;\n",
       "}\n",
       "\n",
       "#sk-container-id-1 div.sk-parallel {\n",
       "  display: flex;\n",
       "  align-items: stretch;\n",
       "  justify-content: center;\n",
       "  background-color: var(--sklearn-color-background);\n",
       "  position: relative;\n",
       "}\n",
       "\n",
       "#sk-container-id-1 div.sk-parallel-item {\n",
       "  display: flex;\n",
       "  flex-direction: column;\n",
       "}\n",
       "\n",
       "#sk-container-id-1 div.sk-parallel-item:first-child::after {\n",
       "  align-self: flex-end;\n",
       "  width: 50%;\n",
       "}\n",
       "\n",
       "#sk-container-id-1 div.sk-parallel-item:last-child::after {\n",
       "  align-self: flex-start;\n",
       "  width: 50%;\n",
       "}\n",
       "\n",
       "#sk-container-id-1 div.sk-parallel-item:only-child::after {\n",
       "  width: 0;\n",
       "}\n",
       "\n",
       "/* Serial-specific style estimator block */\n",
       "\n",
       "#sk-container-id-1 div.sk-serial {\n",
       "  display: flex;\n",
       "  flex-direction: column;\n",
       "  align-items: center;\n",
       "  background-color: var(--sklearn-color-background);\n",
       "  padding-right: 1em;\n",
       "  padding-left: 1em;\n",
       "}\n",
       "\n",
       "\n",
       "/* Toggleable style: style used for estimator/Pipeline/ColumnTransformer box that is\n",
       "clickable and can be expanded/collapsed.\n",
       "- Pipeline and ColumnTransformer use this feature and define the default style\n",
       "- Estimators will overwrite some part of the style using the `sk-estimator` class\n",
       "*/\n",
       "\n",
       "/* Pipeline and ColumnTransformer style (default) */\n",
       "\n",
       "#sk-container-id-1 div.sk-toggleable {\n",
       "  /* Default theme specific background. It is overwritten whether we have a\n",
       "  specific estimator or a Pipeline/ColumnTransformer */\n",
       "  background-color: var(--sklearn-color-background);\n",
       "}\n",
       "\n",
       "/* Toggleable label */\n",
       "#sk-container-id-1 label.sk-toggleable__label {\n",
       "  cursor: pointer;\n",
       "  display: flex;\n",
       "  width: 100%;\n",
       "  margin-bottom: 0;\n",
       "  padding: 0.5em;\n",
       "  box-sizing: border-box;\n",
       "  text-align: center;\n",
       "  align-items: start;\n",
       "  justify-content: space-between;\n",
       "  gap: 0.5em;\n",
       "}\n",
       "\n",
       "#sk-container-id-1 label.sk-toggleable__label .caption {\n",
       "  font-size: 0.6rem;\n",
       "  font-weight: lighter;\n",
       "  color: var(--sklearn-color-text-muted);\n",
       "}\n",
       "\n",
       "#sk-container-id-1 label.sk-toggleable__label-arrow:before {\n",
       "  /* Arrow on the left of the label */\n",
       "  content: \"▸\";\n",
       "  float: left;\n",
       "  margin-right: 0.25em;\n",
       "  color: var(--sklearn-color-icon);\n",
       "}\n",
       "\n",
       "#sk-container-id-1 label.sk-toggleable__label-arrow:hover:before {\n",
       "  color: var(--sklearn-color-text);\n",
       "}\n",
       "\n",
       "/* Toggleable content - dropdown */\n",
       "\n",
       "#sk-container-id-1 div.sk-toggleable__content {\n",
       "  max-height: 0;\n",
       "  max-width: 0;\n",
       "  overflow: hidden;\n",
       "  text-align: left;\n",
       "  /* unfitted */\n",
       "  background-color: var(--sklearn-color-unfitted-level-0);\n",
       "}\n",
       "\n",
       "#sk-container-id-1 div.sk-toggleable__content.fitted {\n",
       "  /* fitted */\n",
       "  background-color: var(--sklearn-color-fitted-level-0);\n",
       "}\n",
       "\n",
       "#sk-container-id-1 div.sk-toggleable__content pre {\n",
       "  margin: 0.2em;\n",
       "  border-radius: 0.25em;\n",
       "  color: var(--sklearn-color-text);\n",
       "  /* unfitted */\n",
       "  background-color: var(--sklearn-color-unfitted-level-0);\n",
       "}\n",
       "\n",
       "#sk-container-id-1 div.sk-toggleable__content.fitted pre {\n",
       "  /* unfitted */\n",
       "  background-color: var(--sklearn-color-fitted-level-0);\n",
       "}\n",
       "\n",
       "#sk-container-id-1 input.sk-toggleable__control:checked~div.sk-toggleable__content {\n",
       "  /* Expand drop-down */\n",
       "  max-height: 200px;\n",
       "  max-width: 100%;\n",
       "  overflow: auto;\n",
       "}\n",
       "\n",
       "#sk-container-id-1 input.sk-toggleable__control:checked~label.sk-toggleable__label-arrow:before {\n",
       "  content: \"▾\";\n",
       "}\n",
       "\n",
       "/* Pipeline/ColumnTransformer-specific style */\n",
       "\n",
       "#sk-container-id-1 div.sk-label input.sk-toggleable__control:checked~label.sk-toggleable__label {\n",
       "  color: var(--sklearn-color-text);\n",
       "  background-color: var(--sklearn-color-unfitted-level-2);\n",
       "}\n",
       "\n",
       "#sk-container-id-1 div.sk-label.fitted input.sk-toggleable__control:checked~label.sk-toggleable__label {\n",
       "  background-color: var(--sklearn-color-fitted-level-2);\n",
       "}\n",
       "\n",
       "/* Estimator-specific style */\n",
       "\n",
       "/* Colorize estimator box */\n",
       "#sk-container-id-1 div.sk-estimator input.sk-toggleable__control:checked~label.sk-toggleable__label {\n",
       "  /* unfitted */\n",
       "  background-color: var(--sklearn-color-unfitted-level-2);\n",
       "}\n",
       "\n",
       "#sk-container-id-1 div.sk-estimator.fitted input.sk-toggleable__control:checked~label.sk-toggleable__label {\n",
       "  /* fitted */\n",
       "  background-color: var(--sklearn-color-fitted-level-2);\n",
       "}\n",
       "\n",
       "#sk-container-id-1 div.sk-label label.sk-toggleable__label,\n",
       "#sk-container-id-1 div.sk-label label {\n",
       "  /* The background is the default theme color */\n",
       "  color: var(--sklearn-color-text-on-default-background);\n",
       "}\n",
       "\n",
       "/* On hover, darken the color of the background */\n",
       "#sk-container-id-1 div.sk-label:hover label.sk-toggleable__label {\n",
       "  color: var(--sklearn-color-text);\n",
       "  background-color: var(--sklearn-color-unfitted-level-2);\n",
       "}\n",
       "\n",
       "/* Label box, darken color on hover, fitted */\n",
       "#sk-container-id-1 div.sk-label.fitted:hover label.sk-toggleable__label.fitted {\n",
       "  color: var(--sklearn-color-text);\n",
       "  background-color: var(--sklearn-color-fitted-level-2);\n",
       "}\n",
       "\n",
       "/* Estimator label */\n",
       "\n",
       "#sk-container-id-1 div.sk-label label {\n",
       "  font-family: monospace;\n",
       "  font-weight: bold;\n",
       "  display: inline-block;\n",
       "  line-height: 1.2em;\n",
       "}\n",
       "\n",
       "#sk-container-id-1 div.sk-label-container {\n",
       "  text-align: center;\n",
       "}\n",
       "\n",
       "/* Estimator-specific */\n",
       "#sk-container-id-1 div.sk-estimator {\n",
       "  font-family: monospace;\n",
       "  border: 1px dotted var(--sklearn-color-border-box);\n",
       "  border-radius: 0.25em;\n",
       "  box-sizing: border-box;\n",
       "  margin-bottom: 0.5em;\n",
       "  /* unfitted */\n",
       "  background-color: var(--sklearn-color-unfitted-level-0);\n",
       "}\n",
       "\n",
       "#sk-container-id-1 div.sk-estimator.fitted {\n",
       "  /* fitted */\n",
       "  background-color: var(--sklearn-color-fitted-level-0);\n",
       "}\n",
       "\n",
       "/* on hover */\n",
       "#sk-container-id-1 div.sk-estimator:hover {\n",
       "  /* unfitted */\n",
       "  background-color: var(--sklearn-color-unfitted-level-2);\n",
       "}\n",
       "\n",
       "#sk-container-id-1 div.sk-estimator.fitted:hover {\n",
       "  /* fitted */\n",
       "  background-color: var(--sklearn-color-fitted-level-2);\n",
       "}\n",
       "\n",
       "/* Specification for estimator info (e.g. \"i\" and \"?\") */\n",
       "\n",
       "/* Common style for \"i\" and \"?\" */\n",
       "\n",
       ".sk-estimator-doc-link,\n",
       "a:link.sk-estimator-doc-link,\n",
       "a:visited.sk-estimator-doc-link {\n",
       "  float: right;\n",
       "  font-size: smaller;\n",
       "  line-height: 1em;\n",
       "  font-family: monospace;\n",
       "  background-color: var(--sklearn-color-background);\n",
       "  border-radius: 1em;\n",
       "  height: 1em;\n",
       "  width: 1em;\n",
       "  text-decoration: none !important;\n",
       "  margin-left: 0.5em;\n",
       "  text-align: center;\n",
       "  /* unfitted */\n",
       "  border: var(--sklearn-color-unfitted-level-1) 1pt solid;\n",
       "  color: var(--sklearn-color-unfitted-level-1);\n",
       "}\n",
       "\n",
       ".sk-estimator-doc-link.fitted,\n",
       "a:link.sk-estimator-doc-link.fitted,\n",
       "a:visited.sk-estimator-doc-link.fitted {\n",
       "  /* fitted */\n",
       "  border: var(--sklearn-color-fitted-level-1) 1pt solid;\n",
       "  color: var(--sklearn-color-fitted-level-1);\n",
       "}\n",
       "\n",
       "/* On hover */\n",
       "div.sk-estimator:hover .sk-estimator-doc-link:hover,\n",
       ".sk-estimator-doc-link:hover,\n",
       "div.sk-label-container:hover .sk-estimator-doc-link:hover,\n",
       ".sk-estimator-doc-link:hover {\n",
       "  /* unfitted */\n",
       "  background-color: var(--sklearn-color-unfitted-level-3);\n",
       "  color: var(--sklearn-color-background);\n",
       "  text-decoration: none;\n",
       "}\n",
       "\n",
       "div.sk-estimator.fitted:hover .sk-estimator-doc-link.fitted:hover,\n",
       ".sk-estimator-doc-link.fitted:hover,\n",
       "div.sk-label-container:hover .sk-estimator-doc-link.fitted:hover,\n",
       ".sk-estimator-doc-link.fitted:hover {\n",
       "  /* fitted */\n",
       "  background-color: var(--sklearn-color-fitted-level-3);\n",
       "  color: var(--sklearn-color-background);\n",
       "  text-decoration: none;\n",
       "}\n",
       "\n",
       "/* Span, style for the box shown on hovering the info icon */\n",
       ".sk-estimator-doc-link span {\n",
       "  display: none;\n",
       "  z-index: 9999;\n",
       "  position: relative;\n",
       "  font-weight: normal;\n",
       "  right: .2ex;\n",
       "  padding: .5ex;\n",
       "  margin: .5ex;\n",
       "  width: min-content;\n",
       "  min-width: 20ex;\n",
       "  max-width: 50ex;\n",
       "  color: var(--sklearn-color-text);\n",
       "  box-shadow: 2pt 2pt 4pt #999;\n",
       "  /* unfitted */\n",
       "  background: var(--sklearn-color-unfitted-level-0);\n",
       "  border: .5pt solid var(--sklearn-color-unfitted-level-3);\n",
       "}\n",
       "\n",
       ".sk-estimator-doc-link.fitted span {\n",
       "  /* fitted */\n",
       "  background: var(--sklearn-color-fitted-level-0);\n",
       "  border: var(--sklearn-color-fitted-level-3);\n",
       "}\n",
       "\n",
       ".sk-estimator-doc-link:hover span {\n",
       "  display: block;\n",
       "}\n",
       "\n",
       "/* \"?\"-specific style due to the `<a>` HTML tag */\n",
       "\n",
       "#sk-container-id-1 a.estimator_doc_link {\n",
       "  float: right;\n",
       "  font-size: 1rem;\n",
       "  line-height: 1em;\n",
       "  font-family: monospace;\n",
       "  background-color: var(--sklearn-color-background);\n",
       "  border-radius: 1rem;\n",
       "  height: 1rem;\n",
       "  width: 1rem;\n",
       "  text-decoration: none;\n",
       "  /* unfitted */\n",
       "  color: var(--sklearn-color-unfitted-level-1);\n",
       "  border: var(--sklearn-color-unfitted-level-1) 1pt solid;\n",
       "}\n",
       "\n",
       "#sk-container-id-1 a.estimator_doc_link.fitted {\n",
       "  /* fitted */\n",
       "  border: var(--sklearn-color-fitted-level-1) 1pt solid;\n",
       "  color: var(--sklearn-color-fitted-level-1);\n",
       "}\n",
       "\n",
       "/* On hover */\n",
       "#sk-container-id-1 a.estimator_doc_link:hover {\n",
       "  /* unfitted */\n",
       "  background-color: var(--sklearn-color-unfitted-level-3);\n",
       "  color: var(--sklearn-color-background);\n",
       "  text-decoration: none;\n",
       "}\n",
       "\n",
       "#sk-container-id-1 a.estimator_doc_link.fitted:hover {\n",
       "  /* fitted */\n",
       "  background-color: var(--sklearn-color-fitted-level-3);\n",
       "}\n",
       "</style><div id=\"sk-container-id-1\" class=\"sk-top-container\"><div class=\"sk-text-repr-fallback\"><pre>Pipeline(steps=[(&#x27;imputer&#x27;, SimpleImputer()),\n",
       "                (&#x27;classifier&#x27;, EasyEnsembleClassifier(random_state=42))])</pre><b>In a Jupyter environment, please rerun this cell to show the HTML representation or trust the notebook. <br />On GitHub, the HTML representation is unable to render, please try loading this page with nbviewer.org.</b></div><div class=\"sk-container\" hidden><div class=\"sk-item sk-dashed-wrapped\"><div class=\"sk-label-container\"><div class=\"sk-label fitted sk-toggleable\"><input class=\"sk-toggleable__control sk-hidden--visually\" id=\"sk-estimator-id-1\" type=\"checkbox\" ><label for=\"sk-estimator-id-1\" class=\"sk-toggleable__label fitted sk-toggleable__label-arrow\"><div><div>Pipeline</div></div><div><a class=\"sk-estimator-doc-link fitted\" rel=\"noreferrer\" target=\"_blank\" href=\"https://scikit-learn.org/1.6/modules/generated/sklearn.pipeline.Pipeline.html\">?<span>Documentation for Pipeline</span></a><span class=\"sk-estimator-doc-link fitted\">i<span>Fitted</span></span></div></label><div class=\"sk-toggleable__content fitted\"><pre>Pipeline(steps=[(&#x27;imputer&#x27;, SimpleImputer()),\n",
       "                (&#x27;classifier&#x27;, EasyEnsembleClassifier(random_state=42))])</pre></div> </div></div><div class=\"sk-serial\"><div class=\"sk-item\"><div class=\"sk-estimator fitted sk-toggleable\"><input class=\"sk-toggleable__control sk-hidden--visually\" id=\"sk-estimator-id-2\" type=\"checkbox\" ><label for=\"sk-estimator-id-2\" class=\"sk-toggleable__label fitted sk-toggleable__label-arrow\"><div><div>SimpleImputer</div></div><div><a class=\"sk-estimator-doc-link fitted\" rel=\"noreferrer\" target=\"_blank\" href=\"https://scikit-learn.org/1.6/modules/generated/sklearn.impute.SimpleImputer.html\">?<span>Documentation for SimpleImputer</span></a></div></label><div class=\"sk-toggleable__content fitted\"><pre>SimpleImputer()</pre></div> </div></div><div class=\"sk-item\"><div class=\"sk-estimator fitted sk-toggleable\"><input class=\"sk-toggleable__control sk-hidden--visually\" id=\"sk-estimator-id-3\" type=\"checkbox\" ><label for=\"sk-estimator-id-3\" class=\"sk-toggleable__label fitted sk-toggleable__label-arrow\"><div><div>EasyEnsembleClassifier</div></div></label><div class=\"sk-toggleable__content fitted\"><pre>EasyEnsembleClassifier(random_state=42)</pre></div> </div></div></div></div></div></div>"
      ],
      "text/plain": [
       "Pipeline(steps=[('imputer', SimpleImputer()),\n",
       "                ('classifier', EasyEnsembleClassifier(random_state=42))])"
      ]
     },
     "execution_count": 128,
     "metadata": {},
     "output_type": "execute_result"
    }
   ],
   "source": [
    "from imblearn.ensemble import EasyEnsembleClassifier\n",
    "from sklearn.impute import SimpleImputer\n",
    "from sklearn.pipeline import Pipeline\n",
    "\n",
    "# Create a pipeline with an imputer and the EasyEnsembleClassifier\n",
    "pipeline = Pipeline(steps=[\n",
    "    ('imputer', SimpleImputer(strategy='mean')),  # Fill missing values with the mean\n",
    "    ('classifier', EasyEnsembleClassifier(\n",
    "        n_estimators=10,\n",
    "        random_state=42\n",
    "    ))\n",
    "])\n",
    "\n",
    "# Fit the pipeline\n",
    "pipeline.fit(X_train_clf, y_train_clf)"
   ]
  },
  {
   "cell_type": "markdown",
   "metadata": {},
   "source": [
    "Evaluation Framework\n"
   ]
  },
  {
   "cell_type": "code",
   "execution_count": 129,
   "metadata": {},
   "outputs": [
    {
     "name": "stdout",
     "output_type": "stream",
     "text": [
      "Balanced Accuracy: 0.41247603853619597\n",
      "Cohen's Kappa: 0.30547993363125747\n",
      "              precision    recall  f1-score   support\n",
      "\n",
      "           1       0.93      0.28      0.43       135\n",
      "           2       0.54      0.77      0.64      4337\n",
      "           3       0.55      0.50      0.52      2995\n",
      "           4       0.51      0.30      0.37      2190\n",
      "           5       0.60      0.21      0.31       928\n",
      "\n",
      "    accuracy                           0.54     10585\n",
      "   macro avg       0.63      0.41      0.46     10585\n",
      "weighted avg       0.55      0.54      0.52     10585\n",
      "\n"
     ]
    },
    {
     "data": {
      "image/png": "[encoded data removed]",
      "text/plain": [
       "<Figure size 1000x700 with 2 Axes>"
      ]
     },
     "metadata": {},
     "output_type": "display_data"
    }
   ],
   "source": [
    "from sklearn.metrics import balanced_accuracy_score, cohen_kappa_score\n",
    "\n",
    "# After getting predictions\n",
    "print(\"Balanced Accuracy:\", balanced_accuracy_score(y_test_clf, y_pred_clf))\n",
    "print(\"Cohen's Kappa:\", cohen_kappa_score(y_test_clf, y_pred_clf))\n",
    "\n",
    "# Classification report with zero_division parameter\n",
    "print(classification_report(\n",
    "    y_test_clf,\n",
    "    y_pred_clf,\n",
    "    target_names=class_names,\n",
    "    zero_division=0\n",
    "))\n",
    "\n",
    "# Confusion matrix with percentages\n",
    "cm = confusion_matrix(y_test_clf, y_pred_clf)\n",
    "cm_percent = cm.astype('float') / cm.sum(axis=1)[:, np.newaxis]\n",
    "\n",
    "plt.figure(figsize=(10, 7))\n",
    "sns.heatmap(cm_percent, annot=True, fmt='.2%',\n",
    "            xticklabels=class_names,\n",
    "            yticklabels=class_names)\n",
    "plt.title('Normalized Confusion Matrix (%)')\n",
    "plt.show()"
   ]
  }
 ],
 "metadata": {
  "kernelspec": {
   "display_name": ".venv",
   "language": "python",
   "name": "python3"
  },
  "language_info": {
   "codemirror_mode": {
    "name": "ipython",
    "version": 3
   },
   "file_extension": ".py",
   "mimetype": "text/x-python",
   "name": "python",
   "nbconvert_exporter": "python",
   "pygments_lexer": "ipython3",
   "version": "3.10.11"
  }
 },
 "nbformat": 4,
 "nbformat_minor": 2
}
